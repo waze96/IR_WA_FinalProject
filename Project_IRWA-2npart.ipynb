{
 "cells": [
  {
   "cell_type": "markdown",
   "metadata": {
    "id": "yHK-yP0fTAP9"
   },
   "source": [
    "# Information Retrieval and Web Analytics: Indexing + Modeling (TF-IDF) "
   ]
  },
  {
   "cell_type": "code",
   "execution_count": 1,
   "metadata": {
    "colab": {
     "base_uri": "https://localhost:8080/",
     "height": 51
    },
    "executionInfo": {
     "elapsed": 617,
     "status": "ok",
     "timestamp": 1603470874764,
     "user": {
      "displayName": "RAMON VALLÉS",
      "photoUrl": "",
      "userId": "05301961646047881826"
     },
     "user_tz": -120
    },
    "id": "9NUq8PwCTAQA",
    "outputId": "8fa7a9c5-8127-4cae-acb1-44239837794b"
   },
   "outputs": [
    {
     "name": "stderr",
     "output_type": "stream",
     "text": [
      "[nltk_data] Downloading package stopwords to /home/waze/nltk_data...\n",
      "[nltk_data]   Package stopwords is already up-to-date!\n"
     ]
    }
   ],
   "source": [
    "# if you do not have nltk the following command should work \"python -m pip install nltk\" \n",
    "import nltk\n",
    "nltk.download('stopwords');"
   ]
  },
  {
   "cell_type": "code",
   "execution_count": 2,
   "metadata": {
    "colab": {
     "base_uri": "https://localhost:8080/",
     "height": 34
    },
    "executionInfo": {
     "elapsed": 615,
     "status": "ok",
     "timestamp": 1603473061105,
     "user": {
      "displayName": "RAMON VALLÉS",
      "photoUrl": "",
      "userId": "05301961646047881826"
     },
     "user_tz": -120
    },
    "id": "8F9PVJlbTAQF",
    "outputId": "1ea5d092-3739-495f-a112-4b492561eb71"
   },
   "outputs": [],
   "source": [
    "import time\n",
    "from collections import defaultdict\n",
    "from array import array\n",
    "from nltk.stem import PorterStemmer\n",
    "from nltk.corpus import stopwords\n",
    "import math\n",
    "import numpy as np\n",
    "import collections\n",
    "from numpy import linalg as la\n",
    "import json\n",
    "import re\n",
    "import csv\n",
    "import sys\n",
    "\n",
    "data_path = './data/one2.json'"
   ]
  },
  {
   "cell_type": "markdown",
   "metadata": {
    "id": "MlNg4TFXTAQI"
   },
   "source": [
    "#### Load data into memory\n",
    "\n",
    "As mentioned above the dataset is stored in a tsv file ```parsed_input_500.tsv```and it contains 500 Wikipedia article (one article per line). For each article we have id, title and body separated by \"|\"."
   ]
  },
  {
   "cell_type": "code",
   "execution_count": 3,
   "metadata": {
    "executionInfo": {
     "elapsed": 2796,
     "status": "ok",
     "timestamp": 1603473064968,
     "user": {
      "displayName": "RAMON VALLÉS",
      "photoUrl": "",
      "userId": "05301961646047881826"
     },
     "user_tz": -120
    },
    "id": "X4P3KzRMTAQJ"
   },
   "outputs": [],
   "source": [
    "docs_path = data_path\n",
    "with open(docs_path) as fp:\n",
    "    lines = fp.readlines()\n",
    "tweets = [l.strip().replace(' +', ' ') for l in lines]"
   ]
  },
  {
   "cell_type": "code",
   "execution_count": 4,
   "metadata": {
    "colab": {
     "base_uri": "https://localhost:8080/",
     "height": 34
    },
    "executionInfo": {
     "elapsed": 557,
     "status": "ok",
     "timestamp": 1603473068069,
     "user": {
      "displayName": "RAMON VALLÉS",
      "photoUrl": "",
      "userId": "05301961646047881826"
     },
     "user_tz": -120
    },
    "id": "BiGNBAAeTAQM",
    "outputId": "4444d85b-c071-44f1-c385-454b4bf5207d"
   },
   "outputs": [
    {
     "name": "stdout",
     "output_type": "stream",
     "text": [
      "Total numer of tweets in the corpus: 1001\n"
     ]
    }
   ],
   "source": [
    "print(\"Total numer of tweets in the corpus: {}\" .format(len(tweets)))"
   ]
  },
  {
   "cell_type": "code",
   "execution_count": 5,
   "metadata": {},
   "outputs": [],
   "source": [
    "def cleanTweet(tweetText):\n",
    "    \"\"\"\n",
    "    Preprocess the article text (title + body) removing stop words, stemming,\n",
    "    transforming in lowercase and return the tokens of the text.\n",
    "    \n",
    "    Argument:\n",
    "    line -- string (text) to be preprocessed\n",
    "    \n",
    "    Returns:\n",
    "    line - a list of tokens corresponding to the input text after the preprocessing\n",
    "    \"\"\"\n",
    "        \n",
    "    stemming = PorterStemmer()\n",
    "    stops = set(stopwords.words(\"english\"))\n",
    "    ## START CODE\n",
    "    line= tweetText.lower() ## Transform in lowercase\n",
    "    line=re.sub('[:\\[\\]&%$\\\"\\'!./,;:?=¿^\\-#_*+)<>(¡@]','',line)\n",
    "    line= line.split() ## Tokenize the text to get a list of terms\n",
    "    line= [word for word in line if word not in stops]  ##eliminate the stopwords (HINT: use List Comprehension)\n",
    "    line= [stemming.stem(word) for word in line] ## perform stemming (HINT: use List Comprehension)\n",
    "    ## END CODE\n",
    "    return line\n",
    "    "
   ]
  },
  {
   "cell_type": "code",
   "execution_count": 6,
   "metadata": {
    "scrolled": false
   },
   "outputs": [],
   "source": [
    "def getRelevantInfo(tweet):\n",
    "    dictRelevantInfo ={}\n",
    "    data = json.loads(tweet)\n",
    "    hashtags = []\n",
    "    urlsList = []\n",
    "    text = ''\n",
    "    date = data['created_at'] ## ??? RT o no RT\n",
    "    try:\n",
    "        isRt=True\n",
    "        isRetweet=data[\"retweeted_status\"]\n",
    "        idTweet=isRetweet[\"id_str\"]\n",
    "        text = isRetweet['text']\n",
    "        username = isRetweet['user']['screen_name']\n",
    "        urls = isRetweet['entities']['urls']\n",
    "        rt_count = isRetweet['retweet_count']\n",
    "        likes = isRetweet['favorite_count']\n",
    "        \n",
    "        for h in isRetweet['entities']['hashtags']:\n",
    "            hashtags.append(h['text'])\n",
    "        for url in urls:\n",
    "            urlsList.append(url['url'])\n",
    "            \n",
    "    except:\n",
    "        isRt=False\n",
    "        idTweet=data[\"id_str\"]\n",
    "        text = data['text']\n",
    "        username = data['user']['screen_name']\n",
    "        urls = data['entities']['urls']\n",
    "        rt_count=data['retweet_count']\n",
    "        likes = data['favorite_count']\n",
    "        \n",
    "        for h in data['entities']['hashtags']:\n",
    "            hashtags.append(h['text'])\n",
    "            \n",
    "        for url in urls:\n",
    "            urlsList.append(url['url'])        \n",
    "            \n",
    "    dictRelevantInfo['tweetID'] = idTweet\n",
    "    dictRelevantInfo['text'] = text\n",
    "    dictRelevantInfo['tokens'] = cleanTweet(text)\n",
    "    dictRelevantInfo['username'] = username\n",
    "    dictRelevantInfo['date'] = date\n",
    "    dictRelevantInfo['hashtags'] = hashtags\n",
    "    dictRelevantInfo['likes'] = likes\n",
    "    dictRelevantInfo['rt_count'] = rt_count\n",
    "    dictRelevantInfo['urlsList'] = urlsList\n",
    "    dictRelevantInfo['isRetweeted'] = isRt\n",
    "    return dictRelevantInfo"
   ]
  },
  {
   "cell_type": "code",
   "execution_count": 7,
   "metadata": {},
   "outputs": [],
   "source": [
    "cleanTweets = {}\n",
    "for t in tweets:\n",
    "    currentTweet=getRelevantInfo(t)\n",
    "    tweetID=currentTweet['tweetID']\n",
    "    isRtCurrent=currentTweet['isRetweeted']\n",
    "    # Orignial tweet found, overwrite if retweet exist.\n",
    "    if isRtCurrent == False:\n",
    "        cleanTweets[tweetID] = currentTweet\n",
    "    else:\n",
    "        if tweetID in cleanTweets:\n",
    "            continue\n",
    "        else:\n",
    "            cleanTweets[tweetID] = currentTweet"
   ]
  },
  {
   "cell_type": "code",
   "execution_count": 8,
   "metadata": {},
   "outputs": [
    {
     "name": "stdout",
     "output_type": "stream",
     "text": [
      "Length of cleaned tweets:  709\n"
     ]
    }
   ],
   "source": [
    "print(\"Length of cleaned tweets: \",len(cleanTweets))"
   ]
  },
  {
   "cell_type": "code",
   "execution_count": 9,
   "metadata": {
    "executionInfo": {
     "elapsed": 579,
     "status": "ok",
     "timestamp": 1603473436846,
     "user": {
      "displayName": "RAMON VALLÉS",
      "photoUrl": "",
      "userId": "05301961646047881826"
     },
     "user_tz": -120
    },
    "id": "j2uIObKMTAQS"
   },
   "outputs": [],
   "source": [
    "def create_index(lines):\n",
    "    \"\"\"\n",
    "    Impleent the inverted index\n",
    "    \n",
    "    Argument:\n",
    "    lines -- collection of Wikipedia articles\n",
    "    \n",
    "    Returns:\n",
    "    index - the inverted index (implemented through a python dictionary) containing terms as keys and the corresponding \n",
    "    list of document these keys appears in (and the positions) as values.\n",
    "    \"\"\"\n",
    "    index=defaultdict(list) \n",
    "    tweetIndex = {} # dictionary to map tweets to page ids\n",
    "    for line in lines.values(): # Remember, lines contain all tweets, each line is a tweet\n",
    "        tweetID = line['tweetID']\n",
    "        terms = line['tokens'] #page_title + page_text\n",
    "        tweetIndex[tweetID]=line['text']  ## we do not need to apply get terms to title because it used only to print titles and not in the index\n",
    "        \n",
    "        ## ===============================================================        \n",
    "        ## create the index for the current doc and store it in termdictPage\n",
    "        ## termdictPage ==> { ‘term1’: [currentdoc, [list of positions]], ...,‘termn’: [currentdoc, [list of positions]]}\n",
    "        \n",
    "        ## Example: if the curr_doc has id 1 and his text is \n",
    "        ## \"web retrieval information retrieval\":\n",
    "        \n",
    "        ## termdictPage ==> { ‘web’: [1, [0]], ‘retrieval’: [1, [1,4]], ‘information’: [1, [2]]}\n",
    "        \n",
    "        ## the term ‘web’ appears in document 1 in positions 0, \n",
    "        ## the term ‘retrieval’ appears in document 1 in positions 1 and 4\n",
    "        ## ===============================================================\n",
    "        \n",
    "        termdictPage={}\n",
    "\n",
    "        for position, term in enumerate(terms): # terms contains page_title + page_text. Loop over all terms\n",
    "            try:\n",
    "                # if the term is already in the index for the current page (termdictPage)\n",
    "                # append the position to the corrisponding list\n",
    "                \n",
    "        ## START CODE\n",
    "                termdictPage[term][1].append(position)  \n",
    "            except:\n",
    "                # Add the new term as dict key and initialize the array of positions and add the position\n",
    "                termdictPage[term]=[tweetID, array('I',[position])] #'I' indicates unsigned int (int in python)\n",
    "            \n",
    "        #merge the current page index with the main index\n",
    "        for termpage, postingpage in termdictPage.items():\n",
    "            index[termpage].append(postingpage)\n",
    "        \n",
    "        ## END CODE                    \n",
    "                    \n",
    "    return index, tweetIndex"
   ]
  },
  {
   "cell_type": "code",
   "execution_count": 10,
   "metadata": {
    "colab": {
     "base_uri": "https://localhost:8080/",
     "height": 34
    },
    "executionInfo": {
     "elapsed": 7462,
     "status": "ok",
     "timestamp": 1603475667598,
     "user": {
      "displayName": "RAMON VALLÉS",
      "photoUrl": "",
      "userId": "05301961646047881826"
     },
     "user_tz": -120
    },
    "id": "L388FPECTAQV",
    "outputId": "2669a9b6-d767-4b78-f617-130ba69488c9"
   },
   "outputs": [
    {
     "name": "stdout",
     "output_type": "stream",
     "text": [
      "Total time to create the index: 0.01 seconds\n"
     ]
    }
   ],
   "source": [
    "start_time = time.time()\n",
    "\n",
    "# index is the dict of , index by twee ?¿?¿\n",
    "# tweetIndex is the dict of tweets, indexed by tweetID\n",
    "index, tweetIndex = create_index(cleanTweets)\n",
    "\n",
    "print(\"Total time to create the index: {} seconds\" .format(np.round(time.time() - start_time,2)))"
   ]
  },
  {
   "cell_type": "markdown",
   "metadata": {
    "id": "xyd2WyJOTAQY"
   },
   "source": [
    "Notice that if you look in the index for ```researcher```you will not find any result, while if you look for ```research``` you will get some results. That happens because we are storing in the index stemmed terms."
   ]
  },
  {
   "cell_type": "code",
   "execution_count": 11,
   "metadata": {
    "colab": {
     "base_uri": "https://localhost:8080/",
     "height": 105
    },
    "executionInfo": {
     "elapsed": 846,
     "status": "ok",
     "timestamp": 1603473583036,
     "user": {
      "displayName": "RAMON VALLÉS",
      "photoUrl": "",
      "userId": "05301961646047881826"
     },
     "user_tz": -120
    },
    "id": "mZuV9k_ATAQZ",
    "outputId": "93d2bb77-8ca6-4d9d-acab-b5896f5aad53"
   },
   "outputs": [
    {
     "name": "stdout",
     "output_type": "stream",
     "text": [
      "Length of Index results for the term 'biden': 8\n",
      "\n",
      "First 10 Index results for the term 'biden': \n",
      "[['1331952640574459905', array('I', [1])], ['1333092424936284163', array('I', [3])], ['1333092425611554823', array('I', [8])], ['1333088877343608832', array('I', [6])], ['1333026911799439361', array('I', [7])], ['1332712274000293889', array('I', [3])], ['1333092426953658368', array('I', [7])], ['1333023981646057473', array('I', [6])], ['1333087495509012480', array('I', [0])], ['1333088498975436804', array('I', [2])]]\n"
     ]
    }
   ],
   "source": [
    "#print(\"Index results for the term 'biden': {}\\n\".format(index['biden']))\n",
    "print(\"Length of Index results for the term 'biden': {}\\n\".format(len(index['obama'])))\n",
    "print(\"First 10 Index results for the term 'biden': \\n{}\".format(index['biden'][:10]))"
   ]
  },
  {
   "cell_type": "code",
   "execution_count": 12,
   "metadata": {},
   "outputs": [],
   "source": [
    "def getResultsFromIndex(word, index):\n",
    "    stemming = PorterStemmer()\n",
    "    newWord=word.lower() ## Transform in lowercase\n",
    "    newWord=re.sub('[:\\[\\]&%$\\\"\\'!./,;:?=¿^\\-#_*+)<>(¡@]','',word)\n",
    "    newWord= stemming.stem(word) ## perform stemming\n",
    "    print(\"Length of Index results for the term '{}': {}\".format(newWord, len(index[newWord])))\n",
    "    print(\"First 10 Index results for the term '{}': \\n{}\\n\\n\".format(newWord, index[newWord][:10]))"
   ]
  },
  {
   "cell_type": "code",
   "execution_count": 13,
   "metadata": {},
   "outputs": [
    {
     "name": "stdout",
     "output_type": "stream",
     "text": [
      "Length of Index results for the term 'trump': 326\n",
      "First 10 Index results for the term 'trump': \n",
      "[['1332994175281868801', array('I', [6])], ['1333068258862370819', array('I', [0])], ['1333068652665516036', array('I', [3])], ['1332927520270913536', array('I', [8])], ['1333057200802107393', array('I', [9])], ['1333091717579501569', array('I', [2])], ['1333071374081011715', array('I', [5])], ['1333023981646057473', array('I', [3])], ['1333070773758685194', array('I', [0])], ['1332844785334358016', array('I', [1])]]\n",
      "\n",
      "\n",
      "Length of Index results for the term 'biden': 155\n",
      "First 10 Index results for the term 'biden': \n",
      "[['1331952640574459905', array('I', [1])], ['1333092424936284163', array('I', [3])], ['1333092425611554823', array('I', [8])], ['1333088877343608832', array('I', [6])], ['1333026911799439361', array('I', [7])], ['1332712274000293889', array('I', [3])], ['1333092426953658368', array('I', [7])], ['1333023981646057473', array('I', [6])], ['1333087495509012480', array('I', [0])], ['1333088498975436804', array('I', [2])]]\n",
      "\n",
      "\n",
      "Length of Index results for the term 'joe': 50\n",
      "First 10 Index results for the term 'joe': \n",
      "[['1333088877343608832', array('I', [5])], ['1333026911799439361', array('I', [6])], ['1332712274000293889', array('I', [2])], ['1333088498975436804', array('I', [1])], ['1333089405523824644', array('I', [5])], ['1333025108458430464', array('I', [0])], ['1332391784278798338', array('I', [11])], ['1324907501498855425', array('I', [2])], ['1332816778578169861', array('I', [5])], ['1333034437647413250', array('I', [6])]]\n",
      "\n",
      "\n"
     ]
    }
   ],
   "source": [
    "getResultsFromIndex(\"trump\", index)\n",
    "getResultsFromIndex(\"biden\", index)\n",
    "getResultsFromIndex(\"joe\", index)"
   ]
  },
  {
   "cell_type": "markdown",
   "metadata": {
    "id": "atoTwD8uTAQc"
   },
   "source": [
    "### Querying the Index\n",
    "\n",
    "Even if before we mentioned that in case of phrase queries we need to take into account the position of the terms in the document and we have implemented an index that would allow us to also work with this type of queries, here you are going to implement a search function that will query the index without take into account the trems' positions.\n",
    "\n",
    "\n",
    "We will use english Free Text Queries, that means that the query we will query the index using  a sequence of english words as query, and the output will be the list of documents that contain any of the query terms. \n",
    "\n",
    "For instance if we write the query **\"computer science\"** the output will be the union of all documents containing the term \"computer\" with all documents containing the term \"science\"."
   ]
  },
  {
   "cell_type": "code",
   "execution_count": 14,
   "metadata": {
    "executionInfo": {
     "elapsed": 610,
     "status": "ok",
     "timestamp": 1603474126566,
     "user": {
      "displayName": "RAMON VALLÉS",
      "photoUrl": "",
      "userId": "05301961646047881826"
     },
     "user_tz": -120
    },
    "id": "HgJ-tjraTAQc"
   },
   "outputs": [],
   "source": [
    "def search(query, index):\n",
    "    '''\n",
    "    The output is the list of documents that contain any of the query terms. \n",
    "    So, we will get the list of documents for each query term, and take the union of them.\n",
    "    '''\n",
    "    query=cleanTweet(query)\n",
    "    tweets=set()\n",
    "    for term in query:\n",
    "    ## START DODE\n",
    "        try:\n",
    "            # store in termTweets the ids of the tweets that contain \"term\"                        \n",
    "            termTweets=[posting[0] for posting in index[term]]\n",
    "            # tweets = tweets Union termTweets\n",
    "            tweets = tweets.union(termTweets)\n",
    "        except:\n",
    "            #term is not in index\n",
    "            pass\n",
    "    tweets=list(tweets)\n",
    "    return tweets"
   ]
  },
  {
   "cell_type": "code",
   "execution_count": 15,
   "metadata": {
    "colab": {
     "base_uri": "https://localhost:8080/",
     "height": 136
    },
    "executionInfo": {
     "elapsed": 9085,
     "status": "ok",
     "timestamp": 1603474152854,
     "user": {
      "displayName": "RAMON VALLÉS",
      "photoUrl": "",
      "userId": "05301961646047881826"
     },
     "user_tz": -120
    },
    "id": "TZ9WpXCLTAQf",
    "outputId": "62304f17-8569-491c-f185-a168289814df"
   },
   "outputs": [
    {
     "name": "stdout",
     "output_type": "stream",
     "text": [
      "Insert your query:\n",
      "\n",
      "biden\n",
      "\n",
      "======================\n",
      "Sample of 10 results out of 155 for the seached query:\n",
      "\n",
      "tweet_id= 1333090140168839168\n",
      "tweet_text: Biden won again\n",
      "\n",
      "\n",
      "\n",
      "tweet_id= 1333092468363935745\n",
      "tweet_text: @JoeBiden Thank you for your leadership President Biden!\n",
      "\n",
      "\n",
      "\n",
      "tweet_id= 1332842624349159424\n",
      "tweet_text: @tedcruz Three of the last four Republican Presidents have lowered the top marginal income tax rate. Biden would be… https://t.co/1vCnPCnP4n\n",
      "\n",
      "\n",
      "\n",
      "tweet_id= 1333010636201201665\n",
      "tweet_text: If his 80 million 'votes' were legit, Biden wouldn't need to pay click farms for 'likes'.\n",
      "\n",
      "\n",
      "\n",
      "tweet_id= 1333086200652058626\n",
      "tweet_text: On Day One, Biden can cancel federal student debt, strengthen labor unions and boost overtime pay.\n",
      "\n",
      "His top priorit… https://t.co/92nF07WpOC\n",
      "\n",
      "\n",
      "\n",
      "tweet_id= 1332712274000293889\n",
      "tweet_text: I just have to reiterate the fact that Joe Biden got destroyed three times prior to 2020 and had to be dragged acro… https://t.co/lFak0GOAhM\n",
      "\n",
      "\n",
      "\n",
      "tweet_id= 1333089772907192322\n",
      "tweet_text: BREAKING: The recount in Wisconsin is completed and Joe Biden wins again. This time by additional 87 votes.\n",
      "\n",
      "Trump… https://t.co/YUITuptiQT\n",
      "\n",
      "\n",
      "\n",
      "tweet_id= 1332714695632048130\n",
      "tweet_text: President-elect Biden won by a landslide and in 1,273 hours he will be sworn in.\n",
      "\n",
      "\n",
      "\n",
      "tweet_id= 1333092462546595842\n",
      "tweet_text: 3 million well spent\n",
      "\n",
      "that's like uhhh\n",
      "\n",
      "260 vote biden got more lmao\n",
      "\n",
      "\n",
      "\n",
      "tweet_id= 1333092452291448840\n",
      "tweet_text: @joncoopertweets Wanna bet Biden NEVER gets sworn in?\n",
      "\n",
      "\n",
      "\n"
     ]
    }
   ],
   "source": [
    "print(\"Insert your query:\\n\")\n",
    "query = input()\n",
    "docs = search(query, index)    \n",
    "top = 10\n",
    "\n",
    "print(\"\\n======================\\nSample of {} results out of {} for the seached query:\\n\".format(top, len(docs)))\n",
    "for d_id in docs[:top] :\n",
    "    print(\"tweet_id= {}\\ntweet_text: {}\\n\\n\\n\".format(d_id, tweetIndex[d_id]))"
   ]
  },
  {
   "cell_type": "markdown",
   "metadata": {
    "id": "AMUIrY9bTAQi"
   },
   "source": [
    "### Ranking tf-idf\n",
    "\n",
    "When searching in a search engine, we are interested in obtain the results sorted by relevance or by some other criteria. Notice that **the above results are not ranked**.\n",
    "\n",
    "Here you are going to implement **tf-idf (Term Frequency — Inverse Document Frequency)** and use it to obtain a list of ordered results.\n",
    "\n",
    "Tf-idf is a weighting scheme that assigns each term in a document a weight based on its term frequency (tf) and inverse document frequency (idf).  The higher the scores, more important the term is. \n",
    "\n",
    "##### TF\n",
    "**tf** refers to the frequency of a term $t$ in a specific document $d$. The basic idea is that as a term appears more in the document it becomes more important. On the other side, if we only use pure term counts, longer documents will be favored more. Consider two documents with exactly the same content but one being twice longer by concatenating with itself.  The tf weights of each word in the longer document will be twice the shorter one, although they essentially have the same content. To deal with this issue we need to **normalize the term frequencies**.\n",
    "\n",
    "$$tf_{t,d} = \\dfrac{N_{t,d}}{||D||}\\tag{1}$$\n",
    "\n",
    "\n",
    "\n",
    "where ||D|| is the Euclidean norm. \n",
    "\n",
    "\n",
    "Let $D=[t_1, t_2, \\dots, t_n]$ be the document vector where $t_i$ represent the frequency of the term $i$, the  Euclidean Norm is calculated as\n",
    "\n",
    "$$\\sqrt{\\sum_{t=1}^{n}t_i{^2}}\\tag{2}$$\n",
    "\n",
    "Note that $||D||$ is the same for all terms of a document.\n",
    "\n",
    "\n",
    "##### IDF\n",
    "A drawback of tf is that it considers all terms equally important. However, less common terms are more discriminative than others. To deal with this issue we introduce **idf (inverse document frequency)** that takes into account the number of documents containing the term.\n",
    "\n",
    "$$idf_t = log\\dfrac{N}{df_t}\\tag{3}$$\n",
    "\n",
    "where:\n",
    "\n",
    "- $N$ is the total number of documents;\n",
    "- $df_t$ is the number of ocuments containing the term $t$.\n",
    "\n",
    "The log operation is applied to avoid that terms that appears in a high number of documents are considered to be too much less important, in this way we are smoothing (dampening) this difference.\n"
   ]
  },
  {
   "cell_type": "code",
   "execution_count": 16,
   "metadata": {
    "executionInfo": {
     "elapsed": 560,
     "status": "ok",
     "timestamp": 1603477067467,
     "user": {
      "displayName": "RAMON VALLÉS",
      "photoUrl": "",
      "userId": "05301961646047881826"
     },
     "user_tz": -120
    },
    "id": "FMjGU0ZbTAQj"
   },
   "outputs": [],
   "source": [
    "def create_index_tfidf(lines, numDocuments):\n",
    "    \"\"\"\n",
    "    Implement the inverted index and compute tf, df and idf\n",
    "    \n",
    "    Argument:\n",
    "    lines -- collection of Wikipedia articles\n",
    "    numDocuments -- total number of documents\n",
    "    \n",
    "    Returns:\n",
    "    index - the inverted index (implemented through a python dictionary) containing terms as keys and the corresponding \n",
    "    list of document these keys appears in (and the positions) as values.\n",
    "    tf - normalized term frequency for each term in each document\n",
    "    df - number of documents each term appear in\n",
    "    idf - inverse document frequency of each term\n",
    "    \"\"\"\n",
    "        \n",
    "    index=defaultdict(list)\n",
    "    tf=defaultdict(list) #term frequencies of terms in documents (documents in the same order as in the main index)\n",
    "    df=defaultdict(int)         #document frequencies of terms in the corpus\n",
    "    titleIndex=defaultdict(str)\n",
    "    idf=defaultdict(float)\n",
    "    \n",
    "    for line in lines.values(): # Remember, lines contain all tweets, each line is a tweet\n",
    "        #tweetID = line['tweetID']\n",
    "        tweetID = line['tweetID']        \n",
    "        terms = line['tokens']\n",
    "        tweetIndex[tweetID]=line['text']           \n",
    "        \n",
    "        ## ===============================================================        \n",
    "        ## create the index for the **current page** and store it in termdictPage\n",
    "        ## termdictPage ==> { ‘term1’: [currentdoc, [list of positions]], ...,‘termn’: [currentdoc, [list of positions]]}\n",
    "        \n",
    "        ## Example: if the curr_doc has id 1 and his text is \n",
    "        ## \"web retrieval information retrieval\":\n",
    "        \n",
    "        ## termdictPage ==> { ‘web’: [1, [0]], ‘retrieval’: [1, [1,4]], ‘information’: [1, [2]]}\n",
    "        \n",
    "        ## the term ‘web’ appears in document 1 in positions 0, \n",
    "        ## the term ‘retrieval’ appears in document 1 in positions 1 and 4\n",
    "        ## ===============================================================\n",
    "\n",
    "        termdictPage={}\n",
    "\n",
    "        for position, term in enumerate(terms): ## terms contains page_title + page_text\n",
    "            try:\n",
    "                # if the term is already in the dict append the position to the corrisponding list\n",
    "                termdictPage[term][tweetID].append(position) \n",
    "            except:\n",
    "                # Add the new term as dict key and initialize the array of positions and add the position\n",
    "                termdictPage[term]=[tweetID, array('I',[position])] #'I' indicates unsigned int (int in python)\n",
    "        \n",
    "        #normalize term frequencies\n",
    "        # Compute the denominator to normalize term frequencies (formula 2 above)\n",
    "        # norm is the same for all terms of a document.\n",
    "        norm=0\n",
    "        for term, posting in termdictPage.items(): \n",
    "            # posting is a list containing doc_id and the list of positions for current term in current document: \n",
    "            # posting ==> [currentdoc, [list of positions]] \n",
    "            # you can use it to inferr the frequency of current term.\n",
    "            norm+=len(posting[1])**2\n",
    "        norm=math.sqrt(norm)\n",
    "\n",
    "\n",
    "        #calculate the tf(dividing the term frequency by the above computed norm) and df weights\n",
    "        for term, posting in termdictPage.items():     \n",
    "            # append the tf for current term (tf = term frequency in current doc/norm)\n",
    "            tf[term].append(np.round(len(posting[1])/norm,4))  ## SEE formula (1) above\n",
    "            #increment the document frequency of current term (number of documents containing the current term)\n",
    "            df[term]= len(termdictPage[term])  # increment df for current term\n",
    "        \n",
    "        #merge the current page index with the main index\n",
    "        for termpage, postingpage in termdictPage.items():\n",
    "            index[termpage].append(postingpage)\n",
    "            \n",
    "        # Compute idf following the formula (3) above. HINT: use np.log\n",
    "        for term in df:\n",
    "            idf[term] = np.round(np.log(float(numDocuments/df[term])),4)\n",
    "            \n",
    "    return index, tf, df, idf, tweetIndex\n"
   ]
  },
  {
   "cell_type": "code",
   "execution_count": 95,
   "metadata": {},
   "outputs": [],
   "source": [
    "def createLikeRTIndex(lines, numDocuments):\n",
    "    maxLikes = 0\n",
    "    maxRT = 1\n",
    "    for tweet in lines:\n",
    "        if lines[tweet]['likes'] > maxLikes:\n",
    "            maxLikes = lines[tweet]['likes']\n",
    "        if lines[tweet]['rt_count'] > maxRT:\n",
    "            maxRT = lines[tweet]['rt_count']\n",
    "    for tweet in lines:\n",
    "        lines[tweet]['likes_score'] = (-np.exp(-(lines[tweet]['likes']/50000))+1)\n",
    "        lines[tweet]['rt_score'] = (-np.exp(-(lines[tweet]['rt_count']/25000))+1)"
   ]
  },
  {
   "cell_type": "code",
   "execution_count": 84,
   "metadata": {
    "colab": {
     "base_uri": "https://localhost:8080/",
     "height": 34
    },
    "executionInfo": {
     "elapsed": 84674,
     "status": "ok",
     "timestamp": 1603477153237,
     "user": {
      "displayName": "RAMON VALLÉS",
      "photoUrl": "",
      "userId": "05301961646047881826"
     },
     "user_tz": -120
    },
    "id": "Mvl-m4H-TAQl",
    "outputId": "11c2673f-463b-42e0-9826-9c43a9af576b"
   },
   "outputs": [
    {
     "ename": "KeyboardInterrupt",
     "evalue": "",
     "output_type": "error",
     "traceback": [
      "\u001b[0;31m---------------------------------------------------------------------------\u001b[0m",
      "\u001b[0;31mKeyboardInterrupt\u001b[0m                         Traceback (most recent call last)",
      "\u001b[0;32m<ipython-input-84-1bb9aafc5e4b>\u001b[0m in \u001b[0;36m<module>\u001b[0;34m\u001b[0m\n\u001b[1;32m      1\u001b[0m \u001b[0mstart_time\u001b[0m \u001b[0;34m=\u001b[0m \u001b[0mtime\u001b[0m\u001b[0;34m.\u001b[0m\u001b[0mtime\u001b[0m\u001b[0;34m(\u001b[0m\u001b[0;34m)\u001b[0m\u001b[0;34m\u001b[0m\u001b[0;34m\u001b[0m\u001b[0m\n\u001b[1;32m      2\u001b[0m \u001b[0mnumTweets\u001b[0m \u001b[0;34m=\u001b[0m \u001b[0mlen\u001b[0m\u001b[0;34m(\u001b[0m\u001b[0mcleanTweets\u001b[0m\u001b[0;34m)\u001b[0m\u001b[0;34m\u001b[0m\u001b[0;34m\u001b[0m\u001b[0m\n\u001b[0;32m----> 3\u001b[0;31m \u001b[0mindex\u001b[0m\u001b[0;34m,\u001b[0m \u001b[0mtf\u001b[0m\u001b[0;34m,\u001b[0m \u001b[0mdf\u001b[0m\u001b[0;34m,\u001b[0m \u001b[0midf\u001b[0m\u001b[0;34m,\u001b[0m \u001b[0mtweetIndex\u001b[0m \u001b[0;34m=\u001b[0m \u001b[0mcreate_index_tfidf\u001b[0m\u001b[0;34m(\u001b[0m\u001b[0mcleanTweets\u001b[0m\u001b[0;34m,\u001b[0m \u001b[0mnumTweets\u001b[0m\u001b[0;34m)\u001b[0m\u001b[0;34m\u001b[0m\u001b[0;34m\u001b[0m\u001b[0m\n\u001b[0m\u001b[1;32m      4\u001b[0m \u001b[0mprint\u001b[0m\u001b[0;34m(\u001b[0m\u001b[0;34m\"Total time to create the index: {} seconds\"\u001b[0m \u001b[0;34m.\u001b[0m\u001b[0mformat\u001b[0m\u001b[0;34m(\u001b[0m\u001b[0mnp\u001b[0m\u001b[0;34m.\u001b[0m\u001b[0mround\u001b[0m\u001b[0;34m(\u001b[0m\u001b[0mtime\u001b[0m\u001b[0;34m.\u001b[0m\u001b[0mtime\u001b[0m\u001b[0;34m(\u001b[0m\u001b[0;34m)\u001b[0m \u001b[0;34m-\u001b[0m \u001b[0mstart_time\u001b[0m\u001b[0;34m,\u001b[0m\u001b[0;36m2\u001b[0m\u001b[0;34m)\u001b[0m\u001b[0;34m)\u001b[0m\u001b[0;34m)\u001b[0m\u001b[0;34m\u001b[0m\u001b[0;34m\u001b[0m\u001b[0m\n",
      "\u001b[0;32m<ipython-input-16-9a703712fe0f>\u001b[0m in \u001b[0;36mcreate_index_tfidf\u001b[0;34m(lines, numDocuments)\u001b[0m\n\u001b[1;32m     75\u001b[0m         \u001b[0;31m# Compute idf following the formula (3) above. HINT: use np.log\u001b[0m\u001b[0;34m\u001b[0m\u001b[0;34m\u001b[0m\u001b[0;34m\u001b[0m\u001b[0m\n\u001b[1;32m     76\u001b[0m         \u001b[0;32mfor\u001b[0m \u001b[0mterm\u001b[0m \u001b[0;32min\u001b[0m \u001b[0mdf\u001b[0m\u001b[0;34m:\u001b[0m\u001b[0;34m\u001b[0m\u001b[0;34m\u001b[0m\u001b[0m\n\u001b[0;32m---> 77\u001b[0;31m             \u001b[0midf\u001b[0m\u001b[0;34m[\u001b[0m\u001b[0mterm\u001b[0m\u001b[0;34m]\u001b[0m \u001b[0;34m=\u001b[0m \u001b[0mnp\u001b[0m\u001b[0;34m.\u001b[0m\u001b[0mround\u001b[0m\u001b[0;34m(\u001b[0m\u001b[0mnp\u001b[0m\u001b[0;34m.\u001b[0m\u001b[0mlog\u001b[0m\u001b[0;34m(\u001b[0m\u001b[0mfloat\u001b[0m\u001b[0;34m(\u001b[0m\u001b[0mnumDocuments\u001b[0m\u001b[0;34m/\u001b[0m\u001b[0mdf\u001b[0m\u001b[0;34m[\u001b[0m\u001b[0mterm\u001b[0m\u001b[0;34m]\u001b[0m\u001b[0;34m)\u001b[0m\u001b[0;34m)\u001b[0m\u001b[0;34m,\u001b[0m\u001b[0;36m4\u001b[0m\u001b[0;34m)\u001b[0m\u001b[0;34m\u001b[0m\u001b[0;34m\u001b[0m\u001b[0m\n\u001b[0m\u001b[1;32m     78\u001b[0m \u001b[0;34m\u001b[0m\u001b[0m\n\u001b[1;32m     79\u001b[0m     \u001b[0;32mreturn\u001b[0m \u001b[0mindex\u001b[0m\u001b[0;34m,\u001b[0m \u001b[0mtf\u001b[0m\u001b[0;34m,\u001b[0m \u001b[0mdf\u001b[0m\u001b[0;34m,\u001b[0m \u001b[0midf\u001b[0m\u001b[0;34m,\u001b[0m \u001b[0mtweetIndex\u001b[0m\u001b[0;34m\u001b[0m\u001b[0;34m\u001b[0m\u001b[0m\n",
      "\u001b[0;32m<__array_function__ internals>\u001b[0m in \u001b[0;36mround_\u001b[0;34m(*args, **kwargs)\u001b[0m\n",
      "\u001b[0;32m~/.local/lib/python3.8/site-packages/numpy/core/fromnumeric.py\u001b[0m in \u001b[0;36mround_\u001b[0;34m(a, decimals, out)\u001b[0m\n\u001b[1;32m   3626\u001b[0m \u001b[0;31m# they can have unique docstrings.\u001b[0m\u001b[0;34m\u001b[0m\u001b[0;34m\u001b[0m\u001b[0;34m\u001b[0m\u001b[0m\n\u001b[1;32m   3627\u001b[0m \u001b[0;34m\u001b[0m\u001b[0m\n\u001b[0;32m-> 3628\u001b[0;31m \u001b[0;34m@\u001b[0m\u001b[0marray_function_dispatch\u001b[0m\u001b[0;34m(\u001b[0m\u001b[0m_around_dispatcher\u001b[0m\u001b[0;34m)\u001b[0m\u001b[0;34m\u001b[0m\u001b[0;34m\u001b[0m\u001b[0m\n\u001b[0m\u001b[1;32m   3629\u001b[0m \u001b[0;32mdef\u001b[0m \u001b[0mround_\u001b[0m\u001b[0;34m(\u001b[0m\u001b[0ma\u001b[0m\u001b[0;34m,\u001b[0m \u001b[0mdecimals\u001b[0m\u001b[0;34m=\u001b[0m\u001b[0;36m0\u001b[0m\u001b[0;34m,\u001b[0m \u001b[0mout\u001b[0m\u001b[0;34m=\u001b[0m\u001b[0;32mNone\u001b[0m\u001b[0;34m)\u001b[0m\u001b[0;34m:\u001b[0m\u001b[0;34m\u001b[0m\u001b[0;34m\u001b[0m\u001b[0m\n\u001b[1;32m   3630\u001b[0m     \"\"\"\n",
      "\u001b[0;31mKeyboardInterrupt\u001b[0m: "
     ]
    }
   ],
   "source": [
    "start_time = time.time()\n",
    "numTweets = len(cleanTweets)\n",
    "index, tf, df, idf, tweetIndex = create_index_tfidf(cleanTweets, numTweets)\n",
    "print(\"Total time to create the index: {} seconds\" .format(np.round(time.time() - start_time,2)))"
   ]
  },
  {
   "cell_type": "code",
   "execution_count": 94,
   "metadata": {},
   "outputs": [
    {
     "name": "stdout",
     "output_type": "stream",
     "text": [
      "57724\n",
      "0.6847785905742336\n"
     ]
    }
   ],
   "source": [
    "createLikeRTIndex(cleanTweets, numTweets)\n",
    "\n",
    "print(cleanTweets['1323630540977852416']['likes'])\n",
    "print(cleanTweets['1323630540977852416']['likes_score'])"
   ]
  },
  {
   "cell_type": "code",
   "execution_count": 18,
   "metadata": {},
   "outputs": [],
   "source": [
    "def saveDictToCSV(d, filename):\n",
    "    w = csv.writer(open(filename, \"w\"))\n",
    "    for key, val in d.items():\n",
    "        w.writerow([key, val])\n",
    "        \n",
    "def loadDictFromCSV(filename):\n",
    "    tmpDict={}\n",
    "    with open(filename,'r') as data: \n",
    "        for line in csv.reader(data): \n",
    "            tmpDict[line[0]]=line[1]\n",
    "    return tmpDict"
   ]
  },
  {
   "cell_type": "code",
   "execution_count": 101,
   "metadata": {
    "executionInfo": {
     "elapsed": 82645,
     "status": "ok",
     "timestamp": 1603477153238,
     "user": {
      "displayName": "RAMON VALLÉS",
      "photoUrl": "",
      "userId": "05301961646047881826"
     },
     "user_tz": -120
    },
    "id": "2pir0XHJTAQp"
   },
   "outputs": [],
   "source": [
    "def rankDocuments(terms, docs, index, idf, tf, titleIndex):\n",
    "    \"\"\"\n",
    "    Perform the ranking of the results of a search based on the tf-idf weights\n",
    "    \n",
    "    Argument:\n",
    "    terms -- list of query terms\n",
    "    docs -- list of documents, to rank, matching the query\n",
    "    index -- inverted index data structure\n",
    "    idf -- inverted document frequencies\n",
    "    tf -- term frequencies\n",
    "    titleIndex -- mapping between page id and page title\n",
    "    \n",
    "    Returns:\n",
    "    Print the list of ranked documents\n",
    "    \"\"\"\n",
    "        \n",
    "    # I'm interested only on the element of the docVector corresponding to the query terms \n",
    "    # The remaing elements would became 0 when multiplied to the queryVector\n",
    "    docVectors=defaultdict(lambda: [0]*len(terms)) # I call docVectors[k] for a nonexistent key k, the key-value pair (k,[0]*len(terms)) will be automatically added to the dictionary \n",
    "    queryVector=[0]*len(terms)    \n",
    "\n",
    "    # compute the norm for the query tf\n",
    "    query_terms_count = collections.Counter(terms) # get the frequency of each term in the query. \n",
    "    # Example: collections.Counter([\"hello\",\"hello\",\"world\"]) --> Counter({'hello': 2, 'world': 1})\n",
    "    # HINT: use when computing tf for queryVector\n",
    "    \n",
    "    query_norm = la.norm(list(query_terms_count.values()))\n",
    "    \n",
    "    for termIndex, term in enumerate(terms): #termIndex is the index of the term in the query\n",
    "        if term not in index:\n",
    "            continue\n",
    "                    \n",
    "        ## Compute tf*idf(normalize tf as done with documents)\n",
    "        queryVector[termIndex]=query_terms_count[term]/query_norm * idf[term]\n",
    "\n",
    "        # Generate docVectors for matching docs\n",
    "        for docIndex, (doc, postings) in enumerate(index[term]):\n",
    "            # Example of [docIndex, (doc, postings)]\n",
    "            # 0 (26, array('I', [1, 4, 12, 15, 22, 28, 32, 43, 51, 68, 333, 337]))\n",
    "            # 1 (33, array('I', [26, 33, 57, 71, 87, 104, 109]))\n",
    "            # term is in doc 26 in positions 1,4, .....\n",
    "            # term is in doc 33 in positions 26,33, .....\n",
    "            \n",
    "            #tf[term][0] will contain the tf of the term \"term\" in the doc 26            \n",
    "            if doc in docs:\n",
    "                docVectors[doc][termIndex]=tf[term][docIndex] * idf[term]  # TODO: check if multiply for idf\n",
    "\n",
    "    # calculate the score of each tweet\n",
    "    # compute the cosine similarity between queyVector and each docVector:\n",
    "    # HINT: you can use the dot product because in case of normalized vectors it corresponds to the cosine siilarity\n",
    "    # see np.dot\n",
    "    \n",
    "    docScores=[ [(np.dot(curDocVec, queryVector)/(np.linalg.norm(curDocVec)*np.linalg.norm(queryVector)))*0.6+cleanTweets[doc]['likes_score']*0.2+cleanTweets[doc]['rt_score']*0.2, doc] for doc, curDocVec in docVectors.items() ]\n",
    "    docScores.sort(reverse=True)\n",
    "    resultDocs=[(x[0], x[1]) for x in docScores]\n",
    "    #print document titles instead if document id's\n",
    "    #resultDocs=[ titleIndex[x] for x in resultDocs ]\n",
    "    if len(resultDocs) == 0:\n",
    "        print(\"No results found, try again\")\n",
    "        query = input()\n",
    "        docs = search_tf_idf(query, index)    \n",
    "    #print ('\\n'.join(resultDocs), '\\n')\n",
    "    return resultDocs"
   ]
  },
  {
   "cell_type": "code",
   "execution_count": 102,
   "metadata": {
    "executionInfo": {
     "elapsed": 80771,
     "status": "ok",
     "timestamp": 1603477153238,
     "user": {
      "displayName": "RAMON VALLÉS",
      "photoUrl": "",
      "userId": "05301961646047881826"
     },
     "user_tz": -120
    },
    "id": "CLdEEhT1TAQr"
   },
   "outputs": [],
   "source": [
    "def search_tf_idf(query, index):\n",
    "    '''\n",
    "    output is the list of documents that contain any of the query terms. \n",
    "    So, we will get the list of documents for each query term, and take the union of them.\n",
    "    '''\n",
    "    query=cleanTweet(query)\n",
    "    docs=set()\n",
    "    for term in query:\n",
    "        try:\n",
    "            # store in termDocs the ids of the docs that contain \"term\"                        \n",
    "            termDocs=[posting[0] for posting in index[term]]\n",
    "            \n",
    "            # docs = docs Union termDocs\n",
    "            docs = docs.union(termDocs)\n",
    "        except:\n",
    "            #term is not in index\n",
    "            pass\n",
    "    docs=list(docs)\n",
    "    ranked_docs = rankDocuments(query, docs, index, idf, tf, tweetIndex)   \n",
    "    return ranked_docs"
   ]
  },
  {
   "cell_type": "code",
   "execution_count": null,
   "metadata": {
    "id": "EpTgX-pTTAQu"
   },
   "outputs": [
    {
     "name": "stdout",
     "output_type": "stream",
     "text": [
      "Insert your query:\n",
      "\n"
     ]
    }
   ],
   "source": [
    "print(\"Insert your query:\\n\")\n",
    "query = input()\n",
    "ranked_docs = search_tf_idf(query, index)    \n",
    "top = 20\n",
    "\n",
    "print(\"\\n======================\\nTop {} results out of {} for the seached query:\\n\".format(top, len(ranked_docs)))\n",
    "for d_score, d_id in ranked_docs[:top] :\n",
    "    print(\"Tweet_id= {}\\nTweet: {}\\nLikes: {}\\nRT: {}\\nScore: {}\\n\\n\".format(d_id, tweetIndex[d_id], cleanTweets[d_id]['likes'], cleanTweets[d_id]['rt_count'], d_score))"
   ]
  },
  {
   "cell_type": "code",
   "execution_count": 111,
   "metadata": {
    "id": "8FLR89baTAQw"
   },
   "outputs": [
    {
     "name": "stdout",
     "output_type": "stream",
     "text": [
      "{'gop': 5.8707, 'amp': 5.8707, 'gopchairwoman': 5.8707, 'take': 5.8707, 'immedi': 5.8707, 'action': 5.8707, 'expos': 5.8707, 'fraud': 5.8707, 'correct': 5.8707, '113': 5.8707, 'elect': 5.8707, 'republican': 5.8707, 'parti': 5.8707, 'wil…': 5.8707, 'httpstcodwblj4kd8x': 5.8707, 'whole': 5.8707, 'interview': 5.8707, 'play': 5.8707, '🇺🇸': 5.8707, 'biden': 5.8707, 'harri': 5.8707, 'turn': 5.8707, 'beat': 5.8707, 'around': 5.8707, 'httpstco6j3zeyrdhm': 5.8707, 'realdonaldtrump': 5.8707, 'much': 5.8707, 'win': 5.8707, 'httpstco4fgptpb3pc': 5.8707, 'jonahdispatch': 5.8707, 'corrupt': 5.8707, 'get': 5.8707, 'cover': 5.8707, 'aren’t': 5.8707, 'least': 5.8707, 'bit': 5.8707, 'curiou': 5.8707, 'surpass': 5.8707, 'ob…': 5.8707, 'httpstco3i3svkbfe8': 5.8707, '🚨🚨break': 5.8707, 'wisconsin': 5.8707, 'presidenti': 5.8707, 'recount': 5.8707, 'complet': 5.8707, 'joe': 5.8707, 'gain': 5.8707, '87': 5.8707, 'vote': 5.8707, 'state': 5.8707, 'tru…': 5.8707, 'httpstcob0y6piut4': 5.8707, 'netflix': 5.8707, 'nfl': 5.8707, 'fox': 5.8707, 'news': 5.8707, 'tell': 5.8707, 'presid': 5.8707, 'ask': 5.8707, 'read…': 5.8707, 'httpstcohb9nwtzyy3': 5.8707, 'im': 5.8707, 'go': 5.8707, 'blow': 5.8707, 'mind': 5.8707, 'trump': 5.8707, 'landslid': 5.8707, 'victori': 5.8707, 'whine': 5.8707, 'maria': 5.8707, 'bartiromo': 5.8707, '“massiv': 5.8707, 'dumps”': 5.8707, 'say': 5.8707, 'cost': 5.8707, 'httpstcoox2rppowbi': 5.8707, 'reiter': 5.8707, 'fact': 5.8707, 'got': 5.8707, 'destroy': 5.8707, 'three': 5.8707, 'time': 5.8707, 'prior': 5.8707, '2020': 5.8707, 'drag': 5.8707, 'acro…': 5.8707, 'httpstcolfak0goahm': 5.8707, 'fbi': 5.8707, 'thejusticedept': 5.8707, 'stand': 5.8707, '4': 5.8707, 'america': 5.8707, 'oath': 5.8707, 'demand': 5.8707, 'fight': 5.8707, 'us': 5.8707, 'it’': 5.8707, 'alway': 5.8707, 'project': 5.8707, 'httpstcog2ufo62dut': 5.8707, 'teddypersian': 5.8707, 'thank': 5.8707, 'lord': 5.8707, 'scientist': 5.8707, 'work': 5.8707, 'vaccin': 5.8707, 'doctor': 5.8707, 'treatment': 5.8707, 'th…': 5.8707, 'httpstcocwfhftdxy3': 5.8707, 'end': 5.8707, 'would': 5.8707, 'better': 5.8707, 'watch': 5.8707, 'media': 5.8707, 'lose': 5.8707, 'comeback': 5.8707, 'problem': 5.8707, 'chri': 5.8707, 'wray': 5.8707, 'director': 5.8707, 'httpstcood50j8nbx4': 5.8707, 'msm': 5.8707, 'left': 5.8707, 'continu': 5.8707, 'ignor': 5.8707, 'attempt': 5.8707, 'steal': 5.8707, 'an…': 5.8707, 'httpstcoi3x2uxg3cq': 5.8707, 'hate': 5.8707, 'four': 5.8707, 'year': 5.8707, 'refus': 5.8707, 'research': 5.8707, 'fake': 5.8707, 'russian': 5.8707, 'dossier': 5.8707, 'funded…': 5.8707, 'httpstcob3jd3hvzk': 5.8707, 'run': 5.8707, 'free': 5.8707, 'fair': 5.8707, 'senatorloeffl': 5.8707, 'lost': 5.8707, 'felisdav': 5.8707, 'john': 5.8707, 'realli': 5.8707, 'miss': 5.8707, 'though': 5.8707, 'know': 5.8707, '2': 5.8707, 'dog': 5.8707, 'hero': 5.8707, 'epa': 5.8707, 'hold': 5.8707, 'reveng': 5.8707, 'order': 5.8707, 'administr': 5.8707, 'horizon': 5.8707, 'career': 5.8707, 'ep…': 5.8707, 'httpstco3bso8qczxn': 5.8707, 'floyd': 5.8707, 'counti': 5.8707, 'ga': 5.8707, 'man': 5.8707, 'report': 5.8707, 'dominion': 5.8707, 'rep': 5.8707, 'scan': 5.8707, 'ballot': 5.8707, '3000': 5.8707, 'major': 5.8707, 'for…': 5.8707, 'httpstcoze2ce2l8c2': 5.8707, 'war': 5.8707, 'paint': 5.8707, 'flinchh': 5.8707, 'undaunt': 5.8707, 'everyon': 5.8707, 'outsid': 5.8707, 'dc': 5.8707, 'overwhelmingli': 5.8707, 'protect': 5.8707, 'democrat': 5.8707, 'fill': 5.8707, 'bipartisan': 5.8707, 'swamp': 5.8707, 'sup…': 5.8707, 'httpstcoysr61xwwwo': 5.8707, 'gtconway3d': 5.8707, 'trump’': 5.8707, 'secret': 5.8707, 'gt': 5.8707, 'becom': 5.8707, 'millionair': 5.8707, 'start': 5.8707, 'billionair': 5.8707, 'usherin…': 5.8707, 'httpstconkw4ofp3rt': 5.8707, 'mariabartiromo': 5.8707, 'anyth': 5.8707, 'stay': 5.8707, 'relev': 5.8707, 'wont': 5.8707, 'hard': 5.8707, 'w': 5.8707, 'rightw': 5.8707, 'obsess': 5.8707, 'with…': 5.8707, 'httpstcohunnukrrsr': 5.8707, 'lie': 5.8707, 'busi': 5.8707, 'let': 5.8707, 'he': 5.8707, 'never': 5.8707, 'conced': 5.8707, 'llinwood': 5.8707, 'bring': 5.8707, 'diseas': 5.8707, 'templ': 5.8707, 'head': 5.8707, 'biblic': 5.8707, 'donald': 5.8707, 'joke': 5.8707, '80': 5.8707, 'million': 5.8707, 'peopl': 5.8707, 'rather': 5.8707, 'hear': 5.8707, 'i’m': 5.8707, 'glad': 5.8707, 'voter': 5.8707, '“rare”': 5.8707, 'accord': 5.8707, 'twitter': 5.8707, 'facebook': 5.8707, 'new': 5.8707, 'break': 5.8707, 'stori': 5.8707, 'po…': 5.8707, 'httpstco7tbo3qdbjl': 5.8707, 'use': 5.8707, '125': 5.8707, 'energi': 5.8707, 'vow': 5.8707, 'reveal': 5.8707, 'massiv': 5.8707, 'overturn': 5.8707, 'res…': 5.8707, 'httpstcolt2idt8zb': 5.8707, 'like': 5.8707, 'obama': 5.8707, 'promis': 5.8707, 'fundament': 5.8707, 'transform': 5.8707, 'countri': 5.8707, 'someth': 5.8707, 'about…': 5.8707, 'httpstcoj9yym4cfqd': 5.8707, 'georgia': 5.8707, 'thousand': 5.8707, 'uncount': 5.8707, 'also': 5.8707, 'ka…': 5.8707, 'httpstcox3mwywymif': 5.8707, 'truth': 5.8707, '“i…': 5.8707, 'httpstcoecajsoulku': 5.8707, 'grasp': 5.8707, 'he’': 5.8707, 'king': 5.8707, 'horn': 5.8707, 'patriot': 5.8707, 'briankempga': 5.8707, 'gasecofst': 5.8707, 'kloeffler': 5.8707, 'gasecofstate…': 5.8707, 'httpstcouzatvlcwb7': 5.8707, 'joebiden': 5.8707, 'final': 5.8707, 'someon': 5.8707, 'care': 5.8707, '“under': 5.8707, 'perjuri': 5.8707, 'jail”': 5.8707, 'affidavit': 5.8707, 'cite': 5.8707, 'lawsuit': 5.8707, 'pardon': 5.8707, 'michael': 5.8707, 'flynn…': 5.8707, 'httpstcoqv6oduzqco': 5.8707, 'dcprotest': 5.8707, 'weekend': 5.8707, 'rest': 5.8707, 'recov': 5.8707, 'prepar': 5.8707, 'jus…': 5.8707, 'httpstcodojvqjjnep': 5.8707, 'absolut': 5.8707, 'master': 5.8707, 'misdirect': 5.8707, 'net': 5.8707, 'to…': 5.8707, 'httpstcojl97ii8e4h': 5.8707, 'sunday': 5.8707, 'novemb': 5.8707, '29th': 5.8707, 'obamabiden': 5.8707, 'histori': 5.8707, 'obamag': 5.8707, 'past': 5.8707, 'stop': 5.8707, 'interpret': 5.8707, 'statement': 5.8707, 'move': 5.8707, 'put': 5.8707, 'concess': 5.8707, 'amplifi': 5.8707, 'electio…': 5.8707, 'httpstcom6angzeg96': 5.8707, 'support': 5.8707, 'consid': 5.8707, 'boycot': 5.8707, 'httpstcotpca4fzffz': 5.8707, 'httpstcozgbvu5w9ew': 5.8707, 'httpstcorqfmcu5j8p': 5.8707, 'cindi': 5.8707, 'mccain': 5.8707, 'widow': 5.8707, 'late': 5.8707, 'sen': 5.8707, 'vet': 5.8707, 'incom': 5.8707, 'appoin…': 5.8707, 'httpstcon4w9ryimm5': 5.8707, 'chizmaga': 5.8707, 'point': 5.8707, 'realiti': 5.8707, 'money': 5.8707, 'there’': 5.8707, 'player': 5.8707, '“': 5.8707, 'b…': 5.8707, 'httpstconl0jt4bysg': 5.8707, 'confirm': 5.8707, 'biden’': 5.8707, 'cement': 5.8707, 'president’': 5.8707, 'failur': 5.8707, 'chang': 5.8707, 'electi…': 5.8707, 'httpstcowkymzuupj': 5.8707, 'allow': 5.8707, 'happen': 5.8707, 'youll': 5.8707, 'anoth': 5.8707, 's…': 5.8707, 'httpstcombipa1cjs9': 5.8707, 'fraud…': 5.8707, 'httpstcotnzaggbvix': 5.8707, 'thanksgiv': 5.8707, 'day': 5.8707, 'messag': 5.8707, '1000': 5.8707, 'view': 5.8707, 'manag': 5.8707, 'doesn…': 5.8707, 'httpstco4baquptafz': 5.8707, 'rudi': 5.8707, 'giuliani': 5.8707, 'truth🇺🇸vot': 5.8707, 'high': 5.8707, 'level🇺🇸': 5.8707, 'suprem': 5.8707, 'court': 5.8707, 'disqualifi': 5.8707, 'biden🇺🇸v…': 5.8707, 'httpstcovehfgintwm': 5.8707, 'atrupar': 5.8707, 'argojourn': 5.8707, 'roy': 5.8707, 'blunt': 5.8707, 'chair': 5.8707, 'inaugur': 5.8707, 'committe': 5.8707, 'cowardli': 5.8707, 'hack': 5.8707, 'cannot': 5.8707, 'admit': 5.8707, 'httpstcoyazuwifp0d': 5.8707, 'florida': 5.8707, 'ohio': 5.8707, 'went': 5.8707, 'obviou': 5.8707, 'wait': 5.8707, 'lover': 5.8707, 'find': 5.8707, 'httpstcombfmftv4nr': 5.8707, 'rais': 5.8707, 'good': 5.8707, 'person': 5.8707, 'httpstcogcas6zpj9d': 5.8707, 'camilee13': 5.8707, 'lanceusa70': 5.8707, 'vintageknit': 5.8707, 'polarsprit': 5.8707, 'connieg1025': 5.8707, 'iammultivers': 5.8707, 'winners786': 5.8707, 'kellabel': 5.8707, 'texyliz…': 5.8707, 'httpstcoqt4j3foaxf': 5.8707, 'blew': 5.8707, '3000000': 5.8707, 'give': 5.8707, '132': 5.8707, 'l': 5.8707, 'decad': 5.8707, 'nope': 5.8707, 'self': 5.8707, 'httpstcojhpo4z6qm1': 5.8707, 'serv': 5.8707, 'public': 5.8707, 'interest': 5.8707, 'investig': 5.8707, 'irregular': 5.8707, 'plausib…': 5.8707, 'httpstcou5ldrxlglk': 5.8707, 'morn': 5.8707, 'agre': 5.8707, 'cavalri': 5.8707, 'its…': 5.8707, 'httpstco7uitvif8wa': 5.8707, 'awar': 5.8707, 'celebr': 5.8707, 'mani': 5.8707, 'important…': 5.8707, 'httpstco7xk0uagwhm': 5.8707, 'includ': 5.8707, 'violent': 5.8707, 'felons🤬🤬🤬': 5.8707, 'michigan': 5.8707, 'judg': 5.8707, 'toss': 5.8707, 'protrump': 5.8707, 'suit': 5.8707, 'caught': 5.8707, 'releas': 5.8707, 'child': 5.8707, 'molest…': 5.8707, 'httpstco12thwsnwrx': 5.8707, 'kylegriffin1': 5.8707, 'need': 5.8707, 'everi': 5.8707, 'told': 5.8707, 'httpstcodntbmvj1zi': 5.8707, 'lgbt': 5.8707, 'group': 5.8707, 'urg': 5.8707, 'strip': 5.8707, 'accredit': 5.8707, 'christian': 5.8707, 'school': 5.8707, 'belief': 5.8707, 'httpstcohpwn7qpjku': 5.8707, 'foxnew': 5.8707, 'lawyer': 5.8707, 'supp…': 5.8707, 'httpstcofukou4qxxt': 5.8707, 'holi': 5.8707, 'f': 5.8707, 'pre': 5.8707, 'make': 5.8707, 'strong': 5.8707, 'case': 5.8707, 'right': 5.8707, '\\u2066mariabartiromo\\u2069': 5.8707, 'legal': 5.8707, 'deplor': 5.8707, 'don’t…': 5.8707, 'httpstcompkoermm6q': 5.8707, 'imagin': 5.8707, 'bigtech': 5.8707, 'outlet': 5.8707, 'trend': 5.8707, 'respons': 5.8707, 'suppos': 5.8707, 'fals': 5.8707, 'narr': 5.8707, 'present': 5.8707, '60minutes…': 5.8707, 'httpstcooclfiqctyu': 5.8707, 'world': 5.8707, 'leader': 5.8707, 'call': 5.8707, '“mess': 5.8707, 'up”': 5.8707, 'was…': 5.8707, 'httpstcokxcenbm4hf': 5.8707, 'note': 5.8707, 'joebiden’': 5.8707, 'team': 5.8707, 'incumb': 5.8707, '“special': 5.8707, 'access”': 5.8707, 'former': 5.8707, 'record': 5.8707, 'ie': 5.8707, 'tr…': 5.8707, 'httpstcojs0svsm0fj': 5.8707, 're…': 5.8707, 'httpstcooefk0bdsjj': 5.8707, 'dr': 5.8707, 'keshavarznia': 5.8707, 'describ': 5.8707, 'nyt': 5.8707, 'smartest': 5.8707, 'room': 5.8707, '35year': 5.8707, 'cybersecurity…': 5.8707, 'httpstcouhlhd7pfnk': 5.8707, 'dane': 5.8707, 'finish': 5.8707, 'count': 5.8707, 'expect': 5.8707, 'talli': 5.8707, 'dozen': 5.8707, 'known': 5.8707, 'bid…': 5.8707, 'httpstco0plmmyrdrb': 5.8707, 'sethjlevi': 5.8707, '0nly4u2c': 5.8707, 'identifi': 5.8707, 'enemi': 5.8707, 'sunshin': 5.8707, 'willing…': 5.8707, 'httpstcooajgx58hq7': 5.8707, 'aegontargary3n': 5.8707, 'billy65gt': 5.8707, 'natecohn': 5.8707, 'misunderstood': 5.8707, 'reason': 5.8707, 'post': 5.8707, 'dem': 5.8707, 'su…': 5.8707, 'httpstcosvxhfrne6f': 5.8707, 'asham': 5.8707, 'endors': 5.8707, 'kemp': 5.8707, 'httpstco4tfuugscju': 5.8707, 'feel': 5.8707, 'nlyonn': 5.8707, 'doll': 5.8707, 'wake': 5.8707, 'scenario': 5.8707, 'grew': 5.8707, 'cheat': 5.8707, 'cri': 5.8707, 'candyland': 5.8707, 'sick': 5.8707, 'diaperdonni': 5.8707, 'talk': 5.8707, 'httpstcouyxnbp7c8': 5.8707, 'ag': 5.8707, 'barr': 5.8707, 'said': 5.8707, 'fbi’': 5.8707, '“one': 5.8707, 'greatest': 5.8707, 'travesties”': 5.8707, '“bogu': 5.8707, 'sca…': 5.8707, 'httpstco9ghwm7gj9i': 5.8707, 'legit': 5.8707, 'wouldnt': 5.8707, 'pay': 5.8707, 'click': 5.8707, 'farm': 5.8707, 'hang': 5.8707, 'well': 5.8707, 'pelosi': 5.8707, 'mansion': 5.8707, 'tasti': 5.8707, 'chocol': 5.8707, 'arent': 5.8707, 'democraci': 5.8707, 'theyr': 5.8707, 'perman': 5.8707, 'minor': 5.8707, 'rule': 5.8707, 'awww': 5.8707, 'diaper': 5.8707, 'diaperdon': 5.8707, 'actforamerica': 5.8707, 'wow': 5.8707, 'power': 5.8707, 'stuff': 5.8707, 'tear': 5.8707, 'rush': 5.8707, 'limbaugh': 5.8707, 'revolutionari': 5.8707, 'httpstco3ktejt1q1j': 5.8707, 'train': 5.8707, 'unstopp': 5.8707, 'still': 5.8707, 'proudli': 5.8707, 'onboard': 5.8707, 'retweet': 5.8707, '1': 5.8707, 'yesterday': 5.8707, 'look': 5.8707, 'tie': 5.8707, 'smartmat': 5.8707, 'whose': 5.8707, 'branch': 5.8707, 'peter': 5.8707, 'neffeng': 5.8707, 'member': 5.8707, 'bi…': 5.8707, 'httpstcogr5jysh9vg': 5.8707, 'where': 5.8707, 'durham': 5.8707, 'first': 5.8707, 'sinc': 5.8707, 'httpstcougefxxrjk': 5.8707, '||': 5.8707, 'f…': 5.8707, 'httpstcok3bxijzznx': 5.8707, 'american': 5.8707, 'epidemiologist': 5.8707, 'osterholm': 5.8707, 'covid19': 5.8707, 'task': 5.8707, 'forc': 5.8707, 'next': 5.8707, 'pandem': 5.8707, 'far': 5.8707, 'worse…': 5.8707, 'httpstcoucg536s3br': 5.8707, '42': 5.8707, 'video': 5.8707, 'httpstcokqfnk2gfcq': 5.8707, 'respond': 5.8707, 'doj': 5.8707, 'purdu': 5.8707, 'jon': 5.8707, 'ossoff': 5.8707, 'cnn': 5.8707, 'standard': 5.8707, 'politi…': 5.8707, 'httpstcoy4bdezffrk': 5.8707, 'lol': 5.8707, 'middleag': 5.8707, 'congress': 5.8707, 'swing': 5.8707, 'wildli': 5.8707, 'extrem': 5.8707, 'auster': 5.8707, 'democra…': 5.8707, 'httpstcocavahhkjq2': 5.8707, 'weigh': 5.8707, 'bid': 5.8707, 'bar': 5.8707, 'illeg': 5.8707, 'immigr': 5.8707, 'censu': 5.8707, 'httpstco1ad9wg3icr': 5.8707, 'httpstcojl6adtos5i': 5.8707, 'repost': 5.8707, 'brag': 5.8707, 'extens': 5.8707, 'inclus': 5.8707, 'organization…': 5.8707, 'httpstcomufgrefsfo': 5.8707, 'paid': 5.8707, 'ultim': 5.8707, 'price': 5.8707, 'live': 5.8707, 'deliv': 5.8707, 'evid': 5.8707, 'presid…': 5.8707, 'httpstcoduilrnc5up': 5.8707, 'chill': 5.8707, '🇺🇸🇺🇸🇺🇸': 5.8707, 'jonvoight': 5.8707, 'httpstcod192qmhewf': 5.8707, 'sashabellesun': 5.8707, 'amaz': 5.8707, 'dickhead': 5.8707, 'fulli': 5.8707, 'believ': 5.8707, 'folk': 5.8707, 'becau…': 5.8707, 'httpstcokfb540edj1': 5.8707, 'worth': 5.8707, 'read': 5.8707, 'entireti': 5.8707, 'nutshel': 5.8707, '“interview': 5.8707, '32': 5.8707, 'senior': 5.8707, 'offici': 5.8707, 'campaign': 5.8707, 'ai…': 5.8707, 'httpstcoa4uuunv0dt': 5.8707, '“we’r': 5.8707, 'battl': 5.8707, 'we’r': 5.8707, 'win”': 5.8707, 'genflynn': 5.8707, '“ha': 5.8707, 'clear': 5.8707, 'path': 5.8707, 'httpstcofw4cslyhmp': 5.8707, '6': 5.8707, 'midwestern': 5.8707, 'pennsylvania': 5.8707, 'direct': 5.8707, 'iowa': 5.8707, 'httpstcorzi4lhspn9': 5.8707, 'hey': 5.8707, 'kamala': 5.8707, 'photograph': 5.8707, 'help': 5.8707, 'ballots…': 5.8707, 'httpstcoserwdnb4ig': 5.8707, 'impeach': 5.8707, 'want': 5.8707, 'return': 5.8707, 'normal': 5.8707, 'mean': 5.8707, 'httpstcokneqonuupw': 5.8707, 'keep': 5.8707, 'donni': 5.8707, '3m': 5.8707, 'spent': 5.8707, 'milwauke': 5.8707, 'spe…': 5.8707, 'httpstcofsn5pdt4cg': 5.8707, '“i': 5.8707, 'ambiti': 5.8707, 'progress': 5.8707, 'agenda”': 5.8707, '|': 5.8707, 'httpstcoims2pueupb': 5.8707, 'knew…': 5.8707, 'httpstcohnbaosjbpv': 5.8707, 'less': 5.8707, 'homicid': 5.8707, 'recklessness—and': 5.8707, 'unforgivable—that': 5.8707, 'convinc': 5.8707, 'americ…': 5.8707, 'httpstcolbdkzotiin': 5.8707, '5000': 5.8707, 'counterfeit': 5.8707, 'bill': 5.8707, 'ever…': 5.8707, 'httpstcovrkb0bhvib': 5.8707, '🔥betray': 5.8707, 'seal': 5.8707, 'may': 5.8707, '3': 5.8707, '2011': 5.8707, 'nation': 5.8707, 'event': 5.8707, 'vp': 5.8707, 'unthink': 5.8707, 'publicli': 5.8707, 't…': 5.8707, 'httpstcopifzzbsotk': 5.8707, 'meidastouch': 5.8707, 'made': 5.8707, 'trumpsbigdump': 5.8707, 'bodyguard': 5.8707, 'kieth': 5.8707, 'schiller': 5.8707, 'clean': 5.8707, 'nicknam': 5.8707, 'ce…': 5.8707, 'httpstcomxpraggqaw': 5.8707, 'httpstcocr9p0tpci8': 5.8707, 'quietli': 5.8707, 'worship': 5.8707, 'church': 5.8707, 'impeachi': 5.8707, 'mcfuckfac': 5.8707, 'um': 5.8707, 'multipl': 5.8707, 'differ': 5.8707, 'expert': 5.8707, 'they’r': 5.8707, 'separ': 5.8707, 'track': 5.8707, 'cha…': 5.8707, 'httpstcolz3inbtgva': 5.8707, 'laurenboebert': 5.8707, 'mikepm87509448': 5.8707, 'wraybackstabb': 5.8707, 'traitor': 5.8707, 'httpstcobujtxnwf4d': 5.8707, 'underperform': 5.8707, 'hillari': 5.8707, 'metro': 5.8707, 'area': 5.8707, 'except': 5.8707, 'detroit': 5.8707, 'atlanta': 5.8707, 'philadelphiatha…': 5.8707, 'httpstcoku6ktazpua': 5.8707, 'big': 5.8707, 'wapo': 5.8707, 'account': 5.8707, 'postelect': 5.8707, 'lunaci': 5.8707, 'solid': 5.8707, 'piec': 5.8707, 'wrote': 5.8707, 'httpstcoel2ij4gdri': 5.8707, 'nbcnew': 5.8707, 'buddi': 5.8707, 'shit': 5.8707, 'cant': 5.8707, 'pathet': 5.8707, 'ass': 5.8707, 'snowflak': 5.8707, 'armi': 5.8707, 'colonel': 5.8707, 'phil': 5.8707, 'waldron': 5.8707, 'legisl': 5.8707, 'week': 5.8707, 'one': 5.8707, 'batch': 5.8707, '570000': 5.8707, 'httpstcoa4wnsxktcc': 5.8707, 'name': 5.8707, 'check': 5.8707, 'dont': 5.8707, 'waythat': 5.8707, 'done': 5.8707, 'speed': 5.8707, 'marklevinshow': 5.8707, 'wonder': 5.8707, 'mention': 5.8707, 'kerri': 5.8707, 'unauthor': 5.8707, 'visit': 5.8707, 'iran': 5.8707, 'spr…': 5.8707, 'httpstcomyshbq80sg': 5.8707, 'transitiongo': 5.8707, 'goafter': 5.8707, 'deed': 5.8707, 'fraudul': 5.8707, 'claim': 5.8707, 'conserv': 5.8707, 'igno…': 5.8707, 'httpstcomhngtxu0dn': 5.8707, 'doesnt': 5.8707, 'equival': 5.8707, 'unrespons': 5.8707, 'pulseless': 5.8707, 'patient': 5.8707, 'agon': 5.8707, 'heart': 5.8707, 'rhyth…': 5.8707, 'httpstcogrwedj2thw': 5.8707, 'punk': 5.8707, 'rats👇🏻👇🏻👇🏻': 5.8707, 'experttestimoni': 5.8707, 'penalti': 5.8707, 'evidentiari': 5.8707, 'hearings—devast': 5.8707, 'gaslight': 5.8707, 'misinform': 5.8707, 'enabl': 5.8707, 'spew': 5.8707, 'fuckfox': 5.8707, 'fucktrump': 5.8707, 'trumplost': 5.8707, 'equal': 5.8707, 'keepfightingfor2020': 5.8707, 'global': 5.8707, 'constituency—in': 5.8707, 'great': 5.8707, 'britain': 5.8707, 'hong': 5.8707, 'kong': 5.8707, 'nigeria': 5.8707, 'india': 5.8707, 'venezuela': 5.8707, 'see': 5.8707, 'japan': 5.8707, 'httpstcou5arj18jwm': 5.8707, 'china': 5.8707, 'dineshdsouza': 5.8707, '✅gop': 5.8707, 'flip': 5.8707, 'ca': 5.8707, '21': 5.8707, '13': 5.8707, 'hous': 5.8707, 'seat': 5.8707, 'date': 5.8707, 'blue': 5.8707, 'ny': 5.8707, 'ca…': 5.8707, 'httpstcoegvvglwraq': 5.8707, 'drainingtheswamp': 5.8707, 'evil': 5.8707, 'patriotsunit': 5.8707, 'gov': 5.8707, 'brian': 5.8707, 'httpstcotrused1ypn': 5.8707, 'ableism': 5.8707, 'stole': 5.8707, 'life': 5.8707, 'hundr': 5.8707, 'dead': 5.8707, '“diaper': 5.8707, 'don”': 5.8707, 'ensu…': 5.8707, 'httpstcoywcymbqhji': 5.8707, 'rant': 5.8707, 'phone': 5.8707, 'sound': 5.8707, 'defeat': 5.8707, 'drunk': 5.8707, 'presidentelect': 5.8707, 'biden…': 5.8707, 'httpstco6dpsytnlj0': 5.8707, '🍑pass': 5.8707, 'georgians🍑': 5.8707, '🗓deadlin': 5.8707, 'registertovot': 5.8707, 'decemb': 5.8707, '7th⏩httpstco3rq23inyde…': 5.8707, '🗣contact': 5.8707, 'httpstco5zzulnzijp': 5.8707, 'cours': 5.8707, '“won”': 5.8707, 'way': 5.8707, 'lanc': 5.8707, 'armstrong': 5.8707, 'ye': 5.8707, 'cross': 5.8707, 'line': 5.8707, 'victo…': 5.8707, 'httpstcohpku6a5d2z': 5.8707, '🇯🇵japantrump': 5.8707, 'ralli': 5.8707, 'tokyo': 5.8707, 'httpstconzibccty4j': 5.8707, 'mountain': 5.8707, 'pile': 5.8707, 'fairli': 5.8707, 'ou…': 5.8707, 'httpstco0gqaqyovxl': 5.8707, '😂😂😂😂': 5.8707, 'felon': 5.8707, 'class': 5.8707, 'crime': 5.8707, 'ukrain': 5.8707, 'giddi': 5.8707, 'the…': 5.8707, 'httpstcoibvfq5vq9g': 5.8707, 'slam': 5.8707, 'decis': 5.8707, 'futur': 5.8707, 'kind': 5.8707, 'system': 5.8707, 'httpstcow8ekawahsz': 5.8707, 'slroberts6': 5.8707, 'ejlew36': 5.8707, 'transit': 5.8707, 'process': 5.8707, 'regardless': 5.8707, 'battle…': 5.8707, 'httpstcoj1jusgkyxz': 5.8707, 'result': 5.8707, 'lead': 5.8707, 'me…': 5.8707, 'httpstcofc7pdsmrif': 5.8707, 'behavior': 5.8707, '90': 5.8707, 'fo…': 5.8707, 'httpstcopyjnnqjhlb': 5.8707, 'ironclad': 5.8707, 'proof': 5.8707, 'collus': 5.8707, 'russia': 5.8707, 'gener': 5.8707, 'flynn': 5.8707, 'didnt': 5.8707, 'ukra…': 5.8707, 'httpstcolnqvsijonv': 5.8707, 'scottykik': 5.8707, 'cocodeech': 5.8707, 'gatewaypundit': 5.8707, 'biggest': 5.8707, '113870': 5.8707, 'delet': 5.8707, 'trump…': 5.8707, 'httpstco2tt6mchufi': 5.8707, 'increas': 5.8707, 'exit': 5.8707, 'poll': 5.8707, 'perform': 5.8707, 'key': 5.8707, 'demograp…': 5.8707, 'httpstcork9obqdaaj': 5.8707, 'treason': 5.8707, 'httpstcouenmle5suv': 5.8707, 'appoint': 5.8707, 'special': 5.8707, 'counsel': 5.8707, 'prosecutor': 5.8707, 'httpstcoa9lr5cphnn': 5.8707, 'alreadi': 5.8707, 'michel': 5.8707, 'book': 5.8707, 'surpris': 5.8707, 'network': 5.8707, 'close': 5.8707, 'today': 5.8707, 'disi…': 5.8707, 'httpstcolr2ly3hxqi': 5.8707, '“we': 5.8707, 'what’': 5.8707, 'mcconnel': 5.8707, 'senat': 5.8707, 'tri': 5.8707, 'and…': 5.8707, 'httpstcotnw2arwcn': 5.8707, 'narcissist': 5.8707, 'earn': 5.8707, 'httpstcomqldbemg7o': 5.8707, 'nwo': 5.8707, 'instal': 5.8707, 'deep': 5.8707, 'putin': 5.8707, 'law': 5.8707, 'econom': 5.8707, 'macron': 5.8707, 'philosophi': 5.8707, 'bori': 5.8707, 'classic': 5.8707, 'erdogan': 5.8707, 'abe': 5.8707, 'polit': 5.8707, 'scienc': 5.8707, 'm…': 5.8707, 'httpstcoipfuqs9t52': 5.8707, 'kag': 5.8707, 'su': 5.8707, 'guy': 5.8707, 'perhap': 5.8707, 'can’t': 5.8707, 'risk': 5.8707, 'discoveri': 5.8707, 'hand': 5.8707, 'show': 5.8707, 'night': 5.8707, 'store': 5.8707, 'extra…': 5.8707, 'httpstcownyqvmq2c2': 5.8707, '52': 5.8707, 'putz': 5.8707, 'hope': 5.8707, 'httpstcovvkhwuhs7i': 5.8707, 'spring': 5.8707, 'trap': 5.8707, 'httpstcokpljd9cx6c': 5.8707, '500000': 5.8707, 'magic': 5.8707, 'unicorn’': 5.8707, 'sleep': 5.8707, 'last': 5.8707, 'adnanrasool': 5.8707, 'yashar': 5.8707, 'collin': 5.8707, 'jail': 5.8707, 'obstruct': 5.8707, 'notic': 5.8707, 'full': 5.8707, 'alon': 5.8707, 'middl': 5.8707, 'robinett': 5.8707, 'httpstcom2dw6bjajq': 5.8707, 'complain': 5.8707, 'harass': 5.8707, 'coerc': 5.8707, 'drop': 5.8707, 'represent': 5.8707, 'complain…': 5.8707, 'httpstcod8g6kybqsk': 5.8707, 'doubt': 5.8707, '😞': 5.8707, 'pollster': 5.8707, 'deepli': 5.8707, 'puzzl': 5.8707, 'receiv': 5.8707, 'vot…': 5.8707, 'httpstcobkho8q0we9': 5.8707, 'viciou': 5.8707, 'saw': 5.8707, 'wit': 5.8707, 'illegal…': 5.8707, 'httpstcocvkmxuw4fq': 5.8707, '“vote': 5.8707, 'du…': 5.8707, 'httpstcoxaeajvmrkt': 5.8707, 'struck': 5.8707, 'lower': 5.8707, 'halt': 5.8707, 'certif': 5.8707, 'begin…': 5.8707, 'httpstcojulmb6x0e3': 5.8707, 'sooo': 5.8707, 'wvwtv': 5.8707, 'exclus': 5.8707, 'lt': 5.8707, 'worldvi…': 5.8707, 'httpstcowqhrkrrk1w': 5.8707, 'christi28040764': 5.8707, 'clairecmc': 5.8707, 'graham': 5.8707, 'beg': 5.8707, 'whether': 5.8707, 'nod': 5.8707, 'tremend': 5.8707, 'mental': 5.8707, 'unfit': 5.8707, 'derang': 5.8707, 'be…': 5.8707, 'httpstcoyonqqqgv5m': 5.8707, 'ill': 5.8707, 'bow': 5.8707, 'social': 5.8707, 'accept': 5.8707, 'radic': 5.8707, 'agenda': 5.8707, 'wa…': 5.8707, 'httpstcos722x9pzmi': 5.8707, 'isn’t': 5.8707, 'part': 5.8707, 'chant': 5.8707, '“lock': 5.8707, 'up”lindseygraham': 5.8707, 'spi': 5.8707, '2016': 5.8707, 'httpstco7s6fcs3gx2': 5.8707, 'cabal': 5.8707, 'propaganda': 5.8707, 'emilylhaus': 5.8707, 'kid': 5.8707, 'hatr': 5.8707, 'total': 5.8707, 'inaccur': 5.8707, 'character': 5.8707, 'ameri…': 5.8707, 'httpstcohnl13umsjn': 5.8707, 'glassicmermaid': 5.8707, 'albyweis': 5.8707, 'higher': 5.8707, 'don’t': 5.8707, 'wo…': 5.8707, 'httpstconm0eaayci7': 5.8707, 'birx': 5.8707, 'pivot': 5.8707, 'audit': 5.8707, 'job': 5.8707, 'fire': 5.8707, 'instantli': 5.8707, 'fantast': 5.8707, 'fauci': 5.8707, 'christoph': 5.8707, 'gina': 5.8707, 'haspel': 5.8707, 'here': 5.8707, 'ted': 5.8707, 'cruz…': 5.8707, 'httpstco6bm4nt3pxv': 5.8707, 'madli': 5.8707, 'blindli': 5.8707, 'damn': 5.8707, 'beholden': 5.8707, 'a…': 5.8707, 'httpstcoflrumz17zr': 5.8707, 'gmanisq': 5.8707, 'joshdcaplan': 5.8707, 'lsferguson': 5.8707, 'love': 5.8707, 'let’': 5.8707, 'back': 5.8707, 'crowd': 5.8707, 'ship': 5.8707, 'sail': 5.8707, 'million…': 5.8707, 'httpstcogjqsoaixjp': 5.8707, 'trustbrent': 5.8707, 'cardin': 5.8707, 'sarah': 5.8707, 'lad': 5.8707, 'word': 5.8707, 'whoever': 5.8707, 'approv': 5.8707, 'clown': 5.8707, 'headlin': 5.8707, 'scotu': 5.8707, 'away': 5.8707, 'meltdown': 5.8707, 'volcan': 5.8707, 'popular': 5.8707, 'opinion': 5.8707, 'faith': 5.8707, 'highli': 5.8707, 'remain': 5.8707, 'silent': 5.8707, 'h…': 5.8707, 'httpstcon0yigyxtqx': 5.8707, 'pattern': 5.8707, 'plan': 5.8707, 'httpstcolvjlm4i8dw': 5.8707, 'true': 5.8707, 'thing': 5.8707, '🤔🤔😉😉': 5.8707, 'rt': 5.8707, 'ok': 5.8707, 'statist': 5.8707, 'wizard': 5.8707, 'chanc': 5.8707, 'exact': 5.8707, 'split': 5.8707, '53': 5.8707, 'tim…': 5.8707, 'httpstcokhtvktxutc': 5.8707, 'rawoods24': 5.8707, 'mikewanaoni': 5.8707, '😂😂man': 5.8707, 'handl': 5.8707, 'quickli': 5.8707, 'fav…': 5.8707, 'httpstcofeppgppveb': 5.8707, 'prove': 5.8707, 'understand': 5.8707, 'noth': 5.8707, 'httpstco8sak27zzgk': 5.8707, 'brought': 5.8707, 'grandson': 5.8707, 'home': 5.8707, 'afghanistan': 5.8707, 'month': 5.8707, 'earli': 5.8707, '👏🏻👏🏻👏🏻🇺🇸🇺🇸': 5.8707, 'come': 5.8707, 'weeks…': 5.8707, 'httpstcoktkwwdhtcl': 5.8707, 'spend': 5.8707, 'fuckin': 5.8707, 'second': 5.8707, 'stimulu': 5.8707, 'basic': 5.8707, 'fu…': 5.8707, 'httpstcofklqbwxxic': 5.8707, 'amjoy': 5.8707, 'rrreich': 5.8707, 'excel': 5.8707, 'httpstcouwotcbvvwr': 5.8707, 'kennedi': 5.8707, 'era': 5.8707, 'usurp': 5.8707, 'marist': 5.8707, 'socialist': 5.8707, 'contro…': 5.8707, 'httpstcocycdcamk9': 5.8707, 'world’': 5.8707, 'brazen': 5.8707, 'conman': 5.8707, 'grifter': 5.8707, 'grifter…': 5.8707, 'httpstcot82bdu3kg0': 5.8707, '80m': 5.8707, 'simpl': 5.8707, 'belie…': 5.8707, 'httpstcotlmqrsklzt': 5.8707, 'leav': 5.8707, 'white': 5.8707, '—': 5.8707, 'along': 5.8707, 'heartless': 5.8707, 'wife': 5.8707, 'greedi': 5.8707, 'chil…': 5.8707, 'httpstcockiv7harlo': 5.8707, 'renam': 5.8707, 'air': 5.8707, 'space': 5.8707, 'command': 5.8707, 'reagan': 5.8707, 'fixat': 5.8707, 'n…': 5.8707, 'httpstcoiduxbfp9ph': 5.8707, '😍': 5.8707, 'foreign': 5.8707, 'intel': 5.8707, 'chosen': 5.8707, 'warn': 5.8707, 'privat': 5.8707, 'tha…': 5.8707, 'httpstcoo5gdopgx6': 5.8707, 'reliablesourc': 5.8707, 'especi': 5.8707, 'segment': 5.8707, 'tweet': 5.8707, 'alli': 5.8707, '139': 5.8707, 'litigation🥳': 5.8707, 'royblunt': 5.8707, 'comment': 5.8707, 'moral': 5.8707, 'bankrupt': 5.8707, 'sevil': 5.8707, 'idol': 5.8707, '16': 5.8707, 'barack': 5.8707, 'hussein': 5.8707, 'ad': 5.8707, 'brea…': 5.8707, 'httpstcocef6l0d9uh': 5.8707, 'loeffler': 5.8707, 'knee': 5.8707, 'must': 5.8707, 'drain': 5.8707, 'warnock': 5.8707, 'import': 5.8707, 'flips…': 5.8707, 'httpstcohpnjpcdcpq': 5.8707, 'express': 5.8707, 'exasper': 5.8707, 'httpstcokgmqzslh1u': 5.8707, 'brianstelt': 5.8707, 'falsehood': 5.8707, 'paus': 5.8707, 'le…': 5.8707, 'httpstconvhe0we8xz': 5.8707, 'creat': 5.8707, 'preced': 5.8707, 'justic': 5.8707, 'beauti': 5.8707, 'co': 5.8707, 'letsrol': 5.8707, 'httpstcoyvip91hath': 5.8707, 'attent': 5.8707, 'jonlionfineart2': 5.8707, 'awesom': 5.8707, 'draw': 5.8707, 'doesn’t': 5.8707, 'rid': 5.8707, 'amend': 5.8707, 'yet': 5.8707, 'repeal': 5.8707, 'comm…': 5.8707, 'httpstcosjry0xsufi': 5.8707, 'real': 5.8707, 'elector': 5.8707, 'colleg': 5.8707, 'ba…': 5.8707, 'httpstcoyhtxmnocmj': 5.8707, '1273': 5.8707, 'hour': 5.8707, 'sworn': 5.8707, 'sweet': 5.8707, 'think': 5.8707, 'that': 5.8707, 'huge': 5.8707, 'conflict': 5.8707, 'border': 5.8707, 'u': 5.8707, 'who…': 5.8707, 'httpstco0vs38pe4w': 5.8707, '💙🇺🇲': 5.8707, 'byedonby': 5.8707, 'youarefir': 5.8707, 'trumplostdealwithit': 5.8707, 'magatearsarep': 5.8707, '80milliontrumps73': 5.8707, 'president…wa': 5.8707, '“natur': 5.8707, 'born”': 5.8707, 'citizen': 5.8707, 'requir': 5.8707, 'constitut': 5.8707, 'defle…': 5.8707, 'httpstcojhdq26gq5v': 5.8707, 'establish': 5.8707, 'obtus': 5.8707, 'roll': 5.8707, 'coup': 5.8707, 'target': 5.8707, 'potu': 5.8707, 'httpstcoxdvbvpfhoy': 5.8707, 'httpstcohenhekfbrf': 5.8707, 'black': 5.8707, 'veteran': 5.8707, 'sign': 5.8707, 'lawn': 5.8707, 'elect…': 5.8707, 'httpstconrow71pwmr': 5.8707, 'certifi': 5.8707, 'pick': 5.8707, 'grand': 5.8707, '45': 5.8707, '…': 5.8707, 'httpstcocjlxooyzn': 5.8707, 'lot': 5.8707, 'pa': 5.8707, 'cycl': 5.8707, 'file': 5.8707, 'resolv': 5.8707, 'httpstcomfupbqwms4': 5.8707, 'thetipsterguid': 5.8707, 'thatguytipsterr': 5.8707, 'illus': 5.8707, 'dona…': 5.8707, 'httpstcoekz4oh28v5': 5.8707, 'erictrump': 5.8707, 'tire': 5.8707, 'famili': 5.8707, 'glean': 5.8707, 'cancel': 5.8707, 'feder': 5.8707, 'student': 5.8707, 'debt': 5.8707, 'strengthen': 5.8707, 'labor': 5.8707, 'union': 5.8707, 'boost': 5.8707, 'overtim': 5.8707, 'top': 5.8707, 'priorit…': 5.8707, 'httpstco92nf07wpoc': 5.8707, 'hint': 5.8707, '👀': 5.8707, 'couldn’t': 5.8707, 'wors': 5.8707, '😳': 5.8707, '👉': 5.8707, 'vo…': 5.8707, 'httpstcoemhgtwdkjz': 5.8707, 'gave': 5.8707, 'bone': 5.8707, 'bidencrimefamilli': 5.8707, 'bidenstoleit': 5.8707, 'saturdaythoughts…': 5.8707, 'httpstco6e1qempxeh': 5.8707, '“a': 5.8707, 'flag': 5.8707, 'neighborhood': 5.8707, 'realiz': 5.8707, 'some…': 5.8707, 'httpstcohafqu3qthk': 5.8707, 'funni': 5.8707, 'sidneypowell1': 5.8707, 'abigailcfry': 5.8707, 'there': 5.8707, 'go…': 5.8707, 'httpstcoajnzf1wmwx': 5.8707, 'molest': 5.8707, 'httpstcogzgqdccgz': 5.8707, 'via': 5.8707, 'anyon': 5.8707, 'recal': 5.8707, '“fear': 5.8707, 'coronaviru': 5.8707, 'jump': 5.8707, 'celebrations”': 5.8707, 'af…': 5.8707, 'httpstco1x8i4oavrx': 5.8707, 'poorli': 5.8707, 'citi': 5.8707, 'politico': 5.8707, 'philadelphia': 5.8707, 'atlanta…': 5.8707, 'httpstco0ccyv36e31': 5.8707, 'brave': 5.8707, 'legislatur': 5.8707, '🏆': 5.8707, 'candid': 5.8707, 'two': 5.8707, 'httpstco6qstsxttux': 5.8707, 'denigr': 5.8707, 'hurt': 5.8707, 'republicans’': 5.8707, 'remind': 5.8707, 'mb': 5.8707, 'pretens': 5.8707, 'object': 5.8707, 'journalist': 5.8707, 'integr': 5.8707, 'invad': 5.8707, 'house…': 5.8707, 'httpstcob4hgosjwv9': 5.8707, 'joncoopertweet': 5.8707, 'wanna': 5.8707, 'bet': 5.8707, 'country’': 5.8707, 'secur': 5.8707, 'threat': 5.8707, 'coincid': 5.8707, 'wer…': 5.8707, 'httpstcovmpq2e1goy': 5.8707, 'everyth': 5.8707, 'children': 5.8707, 'omg': 5.8707, 'serious': 5.8707, 'httpstcoac4djizyul': 5.8707, 'toddstarn': 5.8707, 'sure': 5.8707, 'referendum': 5.8707, 'rs': 5.8707, 'httpstcorehisv0knl': 5.8707, 'pass': 5.8707, 'httpstcoqf80bcpcyi': 5.8707, 'effect': 5.8707, 'govern': 5.8707, 'p…': 5.8707, 'httpstcootmow3lagg': 5.8707, 'bewar': 5.8707, 'led': 5.8707, 'worsen': 5.8707, 'polic': 5.8707, 'brutal': 5.8707, 'stagnant…': 5.8707, 'httpstcohgr7rq0imk': 5.8707, 'prageru': 5.8707, 'stupid': 5.8707, 'wear': 5.8707, 'mask': 5.8707, 'iq': 5.8707, 'test': 5.8707, 'among': 5.8707, 'will': 5.8707, 'bear': 5.8707, 'ridicul': 5.8707, 'reproach': 5.8707, 'truth’': 5.8707, 'sa…': 5.8707, 'httpstcor1ot7h6rvr': 5.8707, 'vicvango1': 5.8707, 'inmediaresmo': 5.8707, 'nyc': 5.8707, 'mayor': 5.8707, 'david': 5.8707, 'dinkin': 5.8707, 'campai…': 5.8707, 'httpstcol7t0xvzfcn': 5.8707, 'occas': 5.8707, 'might': 5.8707, 'posit': 5.8707, 'implic': 5.8707, 'michael…': 5.8707, 'httpstcofn0bcj2sqh': 5.8707, 'bunker': 5.8707, 'face': 5.8707, 'excus': 5.8707, 'wasn’t': 5.8707, 'impeached…': 5.8707, 'httpstcovkalszmbu8': 5.8707, 'interfer': 5.8707, 'even': 5.8707, 'shut': 5.8707, 'httpstcosuwef9bkqk': 5.8707, 'duke': 5.8707, 'charlottesvil': 5.8707, 'proud': 5.8707, 'boy': 5.8707, 'here’': 5.8707, 'cozi': 5.8707, 'relationship': 5.8707, 'supremacist': 5.8707, 'httpstcovdloiqbo5i': 5.8707, 'half': 5.8707, 'oann': 5.8707, 'newsmax': 5.8707, 'sand': 5.8707, 'melon': 5.8707, 'your': 5.8707, 'jennpellegrino': 5.8707, 'altern': 5.8707, 'old': 5.8707, 'ano…': 5.8707, 'httpstcompo5mt3um3': 5.8707, 'grandroyal11': 5.8707, 'fiinbob': 5.8707, 'brandong696': 5.8707, 'god': 5.8707, 'weve': 5.8707, 'opposit': 5.8707, 'loot': 5.8707, 'httpstcoi34nqmrlzg': 5.8707, 'judgeyourself99': 5.8707, 'ya': 5.8707, 'o…': 5.8707, 'httpstcoeqxnribcnb': 5.8707, 'cheater': 5.8707, 'i’v': 5.8707, 'block': 5.8707, 'httpstcodqhy8ui677': 5.8707, '“ashamed”': 5.8707, 'ever': 5.8707, 'httpstcov8fxponok5': 5.8707, 'ran': 5.8707, 'sycoph': 5.8707, 'mere': 5.8707, 'figur': 5.8707, 'httpstcolonyt9nedx': 5.8707, 'fundrais': 5.8707, 'bail': 5.8707, 'classmat': 5.8707, '“wonderful”': 5.8707, '“becaus': 5.8707, 'didn’t': 5.8707, 'invo…': 5.8707, 'httpstcoahdeunpfyj': 5.8707, 'scottadamssay': 5.8707, 'fine': 5.8707, 'hoax': 5.8707, 'mexican': 5.8707, 'rapist': 5.8707, 'e…': 5.8707, 'httpstco1avnoeck77': 5.8707, 'straightjacket': 5.8707, 'januari': 5.8707, '21st': 5.8707, '2021': 5.8707, 'assault': 5.8707, 'press': 5.8707, 'friend': 5.8707, 'de…': 5.8707, 'httpstcoi9xqx7lldj': 5.8707, '🚨new': 5.8707, 'httpstcojznjeyyr8a': 5.8707, 'watcher': 5.8707, 'bartir…': 5.8707, 'httpstcoi2veiogibc': 5.8707, 'dollar': 5.8707, 'amount': 5.8707, 'httpstco5bcgta3mrp': 5.8707, 'senrobportman': 5.8707, 'ohnationalguard': 5.8707, 'grate': 5.8707, 'militari': 5.8707, 'loser': 5.8707, 'sucker': 5.8707, 'ev…': 5.8707, 'httpstcotbjvf5la2m': 5.8707, 'resist': 5.8707, 'scottbaio': 5.8707, 'fiobaio': 5.8707, 'realsaavedra': 5.8707, 'theystoleit': 5.8707, 'stillmypresid': 5.8707, 'presidenttrump…': 5.8707, 'httpstcovwshcencsf': 5.8707, 'realdonaldtrumphttpswwwforbescomsitesadamandrzejewski20171020whyarefederalbureaucratsbuyinggunsan…': 5.8707, 'httpstcopakz6fl1cp': 5.8707, 'sidney': 5.8707, 'powel': 5.8707, 'enough': 5.8707, 'prison': 5.8707, 'httpstcoj5meppqnyo': 5.8707, 'marbl': 5.8707, 'die': 5.8707, 'lay': 5.8707, 'feet': 5.8707, 'repub…': 5.8707, 'httpstcov3ixgvqzyx': 5.8707, 'dump': 5.8707, 'diaperdonald': 5.8707, 'actual': 5.8707, '2012': 5.8707, 'decent': 5.8707, 'polici': 5.8707, 'hu…': 5.8707, 'httpstcoykxlgipnsh': 5.8707, 'highest': 5.8707, 'share': 5.8707, '1960': 5.8707, 'bla…': 5.8707, 'httpstcoh5u9sdaec': 5.8707, 'kept': 5.8707, 'basement': 5.8707, 'plausibl': 5.8707, 'deniabl': 5.8707, '“if': 5.8707, 'condemn': 5.8707, 'complicit': 5.8707, 'stand…': 5.8707, 'httpstcozxvjwyjwc9': 5.8707, 'tedcruz': 5.8707, 'margin': 5.8707, 'tax': 5.8707, 'rate': 5.8707, 'httpstco1vcnpcnp4n': 5.8707, 'own': 5.8707, 'financi': 5.8707, 'data': 5.8707, 'foul': 5.8707, 'afoot': 5.8707, 'dcreportmedia': 5.8707, 'jill': 5.8707, 'httpstcomwnssaqcuu': 5.8707, '40000': 5.8707, 'regist': 5.8707, 'philli': 5.8707, 'milwa…': 5.8707, 'httpstcorvjjniyukz': 5.8707, 'imposs': 5.8707, 'overcom': 5.8707, 'greater': 5.8707, 'odd': 5.8707, 'httpstcocmyfy0va6p': 5.8707, 'birbig': 5.8707, '30': 5.8707, 'antifa': 5.8707, 'blm': 5.8707, 'httpstcoea7ctfiwnl': 5.8707, 'wasnt': 5.8707, 'prosecut': 5.8707, 'seriou': 5.8707, 'ethic': 5.8707, 'violat': 5.8707, 'i…': 5.8707, 'httpstcofs4dfpxoyn': 5.8707, 'syedaahmad5': 5.8707, 'httpstcobynxzjxqgp': 5.8707, 'billkristol': 5.8707, 'ummm': 5.8707, 'cultreal': 5.8707, 'ne…': 5.8707, 'httpstcoryivhwwevg': 5.8707, '💥': 5.8707, 'httpstcorgztrpfpzh': 5.8707, 'you’r': 5.8707, 'irrelev': 5.8707, 'bye': 5.8707, 'forward': 5.8707, 'address': 5.8707, 'hole': 5.8707, 'you’ll': 5.8707, 'crawl': 5.8707, 'httpstcov1ni6dtamh': 5.8707, 'switch': 5.8707, 'tv': 5.8707, 'httpstcohl1uzbrgqn': 5.8707, 'results…': 5.8707, 'httpstcoae5nmyqsxa': 5.8707, '🔥🔥🔥shock': 5.8707, 'revel': 5.8707, '🔥🔥🔥': 5.8707, 'gen': 5.8707, 'mcinerney': 5.8707, 'exactli': 5.8707, 'httpstcoskllxegeij': 5.8707, 'fascist': 5.8707, 'evangel': 5.8707, 'nationalist': 5.8707, 'terrorist': 5.8707, 'discuss': 5.8707, 'coun…': 5.8707, 'httpstcovkgni6wfnl': 5.8707, '80085824': 5.8707, '👋': 5.8707, 'saturday': 5.8707, 'rerun': 5.8707, 'waltshaub': 5.8707, 'mom4boca': 5.8707, 'trumpcreat': 5.8707, 'save': 5.8707, 'bud': 5.8707, 'mitch': 5.8707, 'step': 5.8707, 'y…': 5.8707, 'httpstcoi3tob16ypo': 5.8707, '23citi': 5.8707, 'march': 5.8707, 'bu': 5.8707, 'tour': 5.8707, 'rsbnetwork': 5.8707, 'readi': 5.8707, 'broadcast': 5.8707, 'entir': 5.8707, 'eve…': 5.8707, 'httpstco0xivk4qang': 5.8707, 'lilbratley': 5.8707, 'tone': 5.8707, 'deaf': 5.8707, '60k': 5.8707, 'simpli': 5.8707, 'bachelor': 5.8707, 'forgiving…': 5.8707, 'httpstcoz0xrzmjmv': 5.8707, 'follow': 5.8707, 'httpstcofg39dsmfqr': 5.8707, 'drive': 5.8707, 'realign': 5.8707, 'wealthi': 5.8707, 'manageri': 5.8707, 'elites…': 5.8707, 'httpstcomxlvclwabh': 5.8707, '7': 5.8707, 'appar': 5.8707, 'avalanch': 5.8707, 'httpstco51l1sngawd': 5.8707, 'jevaughnbrown': 5.8707, 'ron4california': 5.8707, 'larger': 5.8707, 'hadnt': 5.8707, 'correct…': 5.8707, 'httpstcoq2sufszf9w': 5.8707, 'suggest': 5.8707, 'type': 5.8707, 'death': 5.8707, 'star': 5.8707, 'strategi': 5.8707, 'earlier': 5.8707, 'ove…': 5.8707, 'httpstcolmqr5tlkzi': 5.8707, '12': 5.8707, 'httpstcomh0mgudnk0': 5.8707, 'gay': 5.8707, 'practition': 5.8707, 'fail': 5.8707, 'woefulli': 5.8707, 'grantstern': 5.8707, 'human': 5.8707, 'wreck': 5.8707, 'ball': 5.8707, 'touch': 5.8707, 'co…': 5.8707, 'httpstcoqgddaaapvc': 5.8707, 'httpstcoetaqjqpxpr': 5.8707, 'set': 5.8707, 'race': 5.8707, 'relat': 5.8707, '50': 5.8707, 'doin': 5.8707, 'term': 5.8707, 'nate': 5.8707, 'robinson': 5.8707, 'ra…': 5.8707, 'httpstcosgdpl7zjy': 5.8707, 'listen': 5.8707, 'explain': 5.8707, 'jordanklepp': 5.8707, 'elec…': 5.8707, 'httpstcoatk5nq2adi': 5.8707, 'sandrajadam': 5.8707, 'frankluntz': 5.8707, 'litig': 5.8707, 'benjaminshunte1': 5.8707, 'checkmatest': 5.8707, 'picture—here’': 5.8707, 'answer': 5.8707, 'httpstcossrld3yjxu': 5.8707, 'governor': 5.8707, 'bright': 5.8707, 'side': 5.8707, 'snake': 5.8707, 'in…': 5.8707, 'httpstcozvnie3keaz': 5.8707, 'stone': 5.8707, 'cold': 5.8707, 'racist': 5.8707, 'dung': 5.8707, 'absolv': 5.8707, 'crimin': 5.8707, 'complic': 5.8707, 'conspiraci': 5.8707, 'knew': 5.8707, 'execut': 5.8707, 'squad': 5.8707, 'guilti': 5.8707, 'ut': 5.8707, 'trumpth': 5.8707, 'next…': 5.8707, 'httpstcocpantwkyfn': 5.8707, 'cdnpoli': 5.8707, 'uspolit': 5.8707, 'futurecam': 5.8707, 'january…': 5.8707, 'httpstcogc7jatze67': 5.8707, 'fealti': 5.8707, 'admir': 5.8707, 'abando…': 5.8707, 'httpstcosrkzpik3jj': 5.8707, 'articl': 5.8707, 'brilliant': 5.8707, 'topnotch': 5.8707, 'collect': 5.8707, 'editori': 5.8707, 'judgment': 5.8707, 'has…': 5.8707, 'httpstcolmfurxla6z': 5.8707, 'trash': 5.8707, 'httpstcoepbesu5wpc': 5.8707, 'dcdrmng': 5.8707, 'gregquickmsj2': 5.8707, 'funnysam87': 5.8707, 'yeah': 5.8707, 'exhusband': 5.8707, 'od…': 5.8707, 'httpstcolb8hhtjwbt': 5.8707, 'bigtim': 5.8707, 'news🚨🚨🚨': 5.8707, 'httpstcocaq85uyh0f': 5.8707, 'rememb': 5.8707, 'billion': 5.8707, 'aid': 5.8707, 'farmer': 5.8707, 'lost…': 5.8707, 'httpstcong5iq9nlwh': 5.8707, 'guess': 5.8707, 'meant': 5.8707, 'we’d': 5.8707, 'learn': 5.8707, 'stab': 5.8707, 'act': 5.8707, 'vs': 5.8707, 'httpstcou0skswkx8': 5.8707, 'uhhh': 5.8707, '260': 5.8707, 'lmao': 5.8707, '“mass…': 5.8707, 'httpstcoelwatv5q0t': 5.8707, 'infamousunknow3': 5.8707, 'natesilver538': 5.8707, 'sooner': 5.8707, 'text': 5.8707, 'disinform': 5.8707, 'distract': 5.8707, 'outreageous…': 5.8707, 'httpstco6yey6trzv5': 5.8707, '26th': 5.8707, 'fra…': 5.8707, 'httpstcogdnrz8jxcn': 5.8707, 'truli': 5.8707, 'liter': 5.8707, 'thought': 5.8707, 'challeng': 5.8707, 'httpstcohdpbxdsinr': 5.8707, 'jesu': 5.8707, 'christ': 5.8707, 'savior': 5.8707, '✅': 5.8707, 'usa': 5.8707, 'country✅': 5.8707, 'we…': 5.8707, 'httpstcowblfmdheui': 5.8707, 'offic': 5.8707, 'zero': 5.8707, 'hedg': 5.8707, 'httpstcoriu8a8gajz': 5.8707, 'nedryun': 5.8707, 'rnc': 5.8707, 'stupidli': 5.8707, 'rang': 5.8707, 'chicken': 5.8707, 'gone': 5.8707, 'regain': 5.8707, 'control…': 5.8707, 'httpstcokwzhtiupkf': 5.8707, 'rudigiuliani': 5.8707, 'confer': 5.8707, 'ritz': 5.8707, 'hugo…': 5.8707, 'httpstcojfs7c4niyj': 5.8707, 'rhondam04225028': 5.8707, 'hiddenpassengr7': 5.8707, 'samsonstrong11': 5.8707, 'devil': 5.8707, '2…': 5.8707, 'httpstcokmjs59oriq': 5.8707, 'sinist': 5.8707, 'httpstcon98mgctwzr': 5.8707, 'theplumlineg': 5.8707, 'rudygiuliani': 5.8707, 'long': 5.8707, 'buffoon': 5.8707, 'alongsid': 5.8707, 'carri': 5.8707, 'their…': 5.8707, 'httpstco67zdy3fsok': 5.8707, 'that’': 5.8707, 'mistak': 5.8707, 'trust': 5.8707, 'wrong': 5.8707, 'burn': 5.8707, 'httpstcorbmrno9lmi': 5.8707, 'httpstcohd5vca3vwo': 5.8707, 'unbeliev': 5.8707, 'pennsylvania’': 5.8707, 'attorney': 5.8707, 'screw…': 5.8707, 'httpstcox4s6vb9hi': 5.8707, 'declar': 5.8707, 'narrativ…': 5.8707, 'httpstco3zxatgqetj': 5.8707, '1976': 5.8707, 'attack': 5.8707, 'extremist': 5.8707, 'httpstcowyallnxt0p': 5.8707, 'httpstconm5lcx3ncu': 5.8707, 'abc7ni': 5.8707, '1621': 5.8707, 'sen…': 5.8707, 'httpstcoaczxyzkdrt': 5.8707, 'newspap': 5.8707, 'httpstco5usrvugre9': 5.8707, 'finger': 5.8707, 'httpstcodxtrsaodyx': 5.8707, 'despit': 5.8707, 'stack': 5.8707, 'standing…': 5.8707, 'httpstcocz5dusqbch': 5.8707, 'rbreich': 5.8707, 'terribl': 5.8707, 'mistake…': 5.8707, 'httpstcozlqwba8cla': 5.8707, 'matter': 5.8707, 'trumpwon': 5.8707, 'httpstcobaw09eha1m': 5.8707, 'gerardbattenuk': 5.8707, 'materi': 5.8707, 'main': 5.8707, 'stream': 5.8707, 'comedian': 5.8707, 'toobut': 5.8707, 'inevit': 5.8707, 'onto': 5.8707, 'golf': 5.8707, 'jackposobiec': 5.8707, 'mattbraynard': 5.8707, 'philldklin': 5.8707, 'mail': 5.8707, 'list': 5.8707, 'httpstcodtsftlfna1': 5.8707, 'bombshel': 5.8707, '3000…': 5.8707, 'httpstcovx4lwxtvlc': 5.8707, 'mari': 5.8707, 'tough': 5.8707, 'warm': 5.8707, 'three…': 5.8707, 'httpstconpakbwgiy1': 5.8707, 'sad': 5.8707, 'dear': 5.8707, 'catholic': 5.8707, 'dm': 5.8707, 'open': 5.8707, 'gregori': 5.8707, '1st': 5.8707, 'africanamerican': 5.8707, 'httpstco5ceckvdx0w': 5.8707, '26000': 5.8707, 'tellin': 5.8707, 'of…': 5.8707, 'httpstcoophebnyw89': 5.8707, 'porn': 5.8707, 'australia': 5.8707, '🇦🇺': 5.8707, 'seem': 5.8707, 'heard': 5.8707, 'httpstcoyegi47x3ma': 5.8707, 'addit': 5.8707, 'httpstcoyuituptiqt': 5.8707, 'six': 5.8707, 'outcom': 5.8707, 'where’': 5.8707, '007jaq': 5.8707, 'restoman3': 5.8707, 'itsjefftiedrich': 5.8707, '139…': 5.8707, 'httpstcobajpxbj3': 5.8707, 'leadership': 5.8707, 'httpstcoca7z3lowwp': 5.8707, 'httpstco6jj2wnmeiw': 5.8707, 'dude': 5.8707, 'utterli': 5.8707, 'irrevers': 5.8707, 'profoundli': 5.8707, 'hingeless': 5.8707, 'httpstco9v2hfzcgkc': 5.8707, 'spineless': 5.8707, 'po': 5.8707, '“presid': 5.8707, 'unit': 5.8707, 'states”': 5.8707, 'aut…': 5.8707, 'httpstcotfjrprnxv7': 5.8707, 'rig': 5.8707, 'en…': 5.8707, 'httpstco5jvgzflzsc': 5.8707, 'spread': 5.8707, 'fb': 5.8707, 'wide': 5.8707, 'juan': 5.8707, 'jeffreyguterman': 5.8707, 'gutter': 5.8707, 'mayb': 5.8707, 'join': 5.8707, 'prison…': 5.8707, 'httpstcobdgwurrbwo': 5.8707, 'diss': 5.8707, 'g…': 5.8707, 'httpstcotiklwe2zi8': 5.8707, 'christma': 5.8707, 'tree': 5.8707, 'jennaellisesq': 5.8707, 'fabul': 5.8707, 'day…': 5.8707, 'httpstcotf3g03ppgu': 5.8707, 'foot': 5.8707, 'partial': 5.8707, 'mi…': 5.8707, 'httpstcoi7qutpunat': 5.8707, 'cultic': 5.8707, 'repeat': 5.8707, 'yet…': 5.8707, 'httpstcooxkhk5saf7': 5.8707, 'togeth': 5.8707, 'organ': 5.8707, 'america…': 5.8707, 'httpstco97cjhjogyf': 5.8707, 'fightlikeflynn': 5.8707, 'fightback': 5.8707, 'fuzzyf3': 5.8707, 'xxpweezyxx': 5.8707, 'kerbyflick': 5.8707, 'espncfb': 5.8707, 'viru': 5.8707, 'advantag': 5.8707, 'president…': 5.8707, 'httpstco7oguelmcnl': 5.8707, 'httpstcogrcraaadki': 5.8707, '1patriotforlif': 5.8707, 'mother': 5.8707, 'lifelong': 5.8707, 'bidencheated2020': 5.8707, 'pretti': 5.8707, 'delusion': 5.8707, 'delud': 5.8707, '80000000': 5.8707, 'wou…': 5.8707, 'httpstcohzzgcrysnd': 5.8707, 'nugget': 5.8707, 'speak': 5.8707, 'httpstcoad7zj58qxo': 5.8707, 'mess': 5.8707, 'ive': 5.8707, 'seen…': 5.8707, 'httpstcofmcsxfh5sb': 5.8707, 'invit': 5.8707, 'vulgar': 5.8707, 'warthog': 5.8707, 'fuck': 5.8707, 'birthday': 5.8707, 'goldfish': 5.8707, 'exec': 5.8707, 'gonna': 5.8707, 'httpstcoxsjpzp3thd': 5.8707, 'barron': 5.8707, 'dad': 5.8707, 'badass': 5.8707, 'httpstcoq2iog1ui5i': 5.8707, 'vast': 5.8707, 'httpstcoi9nfeyabgh': 5.8707, 'kraken': 5.8707, 'godemperor': 5.8707, 'shiva': 5.8707, 'httpstcohycjkuxztc': 5.8707, 'httpstcoqpx9r717jm': 5.8707, 'berni': 5.8707, 'sander': 5.8707, 'httpstcor8se0htkvd': 5.8707, 'hispan': 5.8707, '35': 5.8707, 'percent': 5.8707, '60': 5.8707, 'national…': 5.8707, 'httpstcoiytg6rz1e8': 5.8707, '3mil': 5.8707, 'throw': 5.8707, 'bench🤬🤬🤬🤬': 5.8707, 'place': 5.8707, 'tee': 5.8707, 'regular': 5.8707, 'basi': 5.8707, '🤣': 5.8707, 'kyle': 5.8707, 'rittenhous': 5.8707, 'murder': 5.8707, 'freed': 5.8707, 'what…': 5.8707, 'httpstco2tjs8fhduj': 5.8707, 'kelli': 5.8707, 'could': 5.8707, 'role': 5.8707, 'swamp…': 5.8707, 'httpstcooierhngb1h': 5.8707, 'spiroagnewghost': 5.8707, 'bitchiebooti': 5.8707, 'id': 5.8707, 'unparalleled…': 5.8707, 'httpstcoy1dpebjpzo': 5.8707, '99freemind': 5.8707, 'disclosur': 5.8707, 'arrest': 5.8707, '2018': 5.8707, 'psst': 5.8707, 'freedom': 5.8707, 'suppress': 5.8707, 'truer…': 5.8707, 'httpstcoutelzvg26g': 5.8707, 'manipul': 5.8707, 'mass': 5.8707, 'httpstcov0a2e3itho': 5.8707, 'assassin': 5.8707, 'undercut': 5.8707, 'diplomat': 5.8707, 'option': 5.8707, 'httpstcosh3mpmvebk': 5.8707, 'imag': 5.8707, 'bonker': 5.8707, 'joey': 5.8707, 'lock': 5.8707, 'pe…': 5.8707, 'httpstcok6ymcrugmz': 5.8707, 'youtub': 5.8707, 'httpstco5dmyrofx4v': 5.8707, '“pressing”': 5.8707, 'theorist': 5.8707, 'acknowledg': 5.8707, 'plain': 5.8707, 'disput': 5.8707, 'httpstco4ecexdv436': 5.8707, 'ydsa': 5.8707, 'petit': 5.8707, 'presidentelect…': 5.8707, 'httpstcotndru3pnoh': 5.8707, 'instagram': 5.8707, 'censor': 5.8707, 'plenti': 5.8707, 'ador': 5.8707, 'daughter': 5.8707, 'ma…': 5.8707, 'httpstcoji9tylfqnw': 5.8707, 'ex': 5.8707, 'overstock': 5.8707, 'ceo': 5.8707, 'assembl': 5.8707, 'hacker': 5.8707, 'httpstcouundwpcsd': 5.8707, 'lib': 5.8707, 'poke': 5.8707, 'fun': 5.8707, 'she': 5.8707, 'clash': 5.8707, 'titan': 5.8707, 'times…': 5.8707, 'httpstcoyvkh4qtj4t': 5.8707, 'troubl': 5.8707, 'divis': 5.8707, 'ossoff…': 5.8707, 'httpstcofrct76dpz8': 5.8707, 'react': 5.8707, 'mad': 5.8707, 'brun0t0ma': 5.8707, 'acyn': 5.8707, 'experi': 5.8707, 'oppon': 5.8707, 'frivol': 5.8707, 'hear…': 5.8707, 'httpstco9ev9mrjcqv': 5.8707, 'incred': 5.8707, 'damag': 5.8707, 'asharangappa': 5.8707, '2024': 5.8707, 'bunch': 5.8707, 'card': 5.8707, '“i’m…': 5.8707, 'httpstcoaiprndsq92': 5.8707, 'sore': 5.8707, 'disconnect': 5.8707, 'crazi': 5.8707, 'ide…': 5.8707, 'httpstcox0dir75k0m': 5.8707, 'dennisdaley1': 5.8707, 'pleas': 5.8707, 'arm': 5.8707, 'major…': 5.8707, 'httpstcorh171p6fi': 5.8707, 'therealhoars': 5.8707, 'scam': 5.8707, 'kick': 5.8707, 'whitehous': 5.8707, 'httpstcoatxurrcdsq': 5.8707, 'timetoresistnow': 5.8707, 'cool': 5.8707, 'design': 5.8707, 'united…': 5.8707, 'httpstcow2pdutria7': 5.8707, 'cnn’': 5.8707, 'softwar': 5.8707, 'vest': 5.8707, 'no…': 5.8707, 'httpstcorkxbqewvvp': 5.8707, 'echo': 5.8707, 'chamber': 5.8707, 'dream': 5.8707, 'httpstcosyig7ebao1': 5.8707, '“not': 5.8707, 'ivanka': 5.8707, 'trump”': 5.8707, 'york': 5.8707, 'httpstco74ft4vkepc': 5.8707, 'wind': 5.8707, 'familiar': 5.8707, 'httpstcownedm0pyul': 5.8707, 'minut': 5.8707, 'covert': 5.8707, 'rage': 5.8707, 'across': 5.8707, 'globe': 5.8707, 'pit': 5.8707, 'depart': 5.8707, 'defens': 5.8707, 'defense…': 5.8707, 'httpstco3py2gy78g2': 5.8707, 'announc': 5.8707, 'dark': 5.8707, 'httpstco7ap2jywql0': 5.8707, 'sexcounsel': 5.8707, 'clinton': 5.8707, 'gigant': 5.8707, 'red': 5.8707, 'pill': 5.8707, 'whi': 5.8707, 'robert': 5.8707, '75': 5.8707, 'campaig…': 5.8707, 'httpstcooq0cggkqqj': 5.8707, 'visiblesoul': 5.8707, '“the': 5.8707, 'ugli': 5.8707, 'one”': 5.8707, 'dement': 5.8707, 'orchestr': 5.8707, 'demscheat': 5.8707, 'gosh': 5.8707, 'clueless': 5.8707, 'dumbass': 5.8707, 'freak': 5.8707, 'voic': 5.8707, 'how': 5.8707, 'commerci': 5.8707, 'priceless': 5.8707, 'vacat': 5.8707, 'creep': 5.8707, 'httpstcobis4nfudoq': 5.8707, 'ahead': 5.8707, 'lack': 5.8707, 'landslide…': 5.8707, 'httpstcobtxfhd355m': 5.8707, 'predict': 5.8707, 'q': 5.8707, 'clearanc': 5.8707, 'myth': 5.8707, 'gentleman': 5.8707, 'possess': 5.8707, 'current': 5.8707, 'fa…': 5.8707, 'httpstco1ce324useg': 5.8707, 'perfectli': 5.8707, 'clearagain': 5.8707, '{lost}': 5.8707, 'tried…': 5.8707, 'httpstcoa4n1cwnibw': 5.8707, 'bad': 5.8707, 'maga': 5.8707, 'won’t': 5.8707, 'mil': 5.8707, '34482': 5.8707, 'each…': 5.8707, 'httpstcor8othsrp2': 5.8707, '🇺🇸can’t': 5.8707, '🔥🔥🔥🔥': 5.8707, '2boyz23': 5.8707, 'fireangel045': 5.8707, '😇': 5.8707, 'jov11an': 5.8707, '⚡️': 5.8707, '1nvrdul': 5.8707, '1983jpk': 5.8707, 'animal1289…': 5.8707, 'httpstcotfgtxpgbzi': 5.8707, 'elicit': 5.8707, 'reelect…': 5.8707, 'httpstco0mi99xsyii': 5.8707, 'caslernoel': 5.8707, 'drug': 5.8707, 'httpstco20qnqytmaw': 5.8707, 'httpstcoyvg7iacowl': 5.8707, 'winner': 5.8707, 'fresh': 5.8707, 'excit': 5.8707, 'devot': 5.8707, 'httpstcorkhnqzkcd1': 5.8707, 'protest': 5.8707, 'bizarr': 5.8707, 'con…': 5.8707, 'httpstcome7xrne3rj': 5.8707, 'icymi🔥🎵': 5.8707, 'best': 5.8707, 'tribut': 5.8707, 'song': 5.8707, 'call…': 5.8707, 'httpstcoaxmrt21lxb': 5.8707, 'donwinslow': 5.8707, 'swear': 5.8707, 'jackass': 5.8707, 'bidenharri': 5.8707, 'httpstcouighnvbvfa': 5.8707, 'cruz': 5.8707, 'worthi': 5.8707, '2024until': 5.8707, 'abandon': 5.8707, 'httpstcoxw2zvpvyro': 5.8707, 'trumphat': 5.8707, 'secretari': 5.8707, 'latest': 5.8707, 'httpstcozuny9rf02u': 5.8707, 'andrewfeinberg': 5.8707, 'k…': 5.8707, 'httpstcodkzycowsdi': 5.8707, 'yera': 5.8707, 'kill': 5.8707, 'tangerin': 5.8707, 'nero': 5.8707, 'httpstcoxlevubj8va': 5.8707, 'chuckcallesto': 5.8707, 'jamesjdauto': 5.8707, 'plu': 5.8707, 'trum…': 5.8707, 'httpstcolqytsvmo7p': 5.8707, '‘mi': 5.8707, 'months’': 5.8707, '‘125': 5.8707, 'energy’': 5.8707, 'hopeless': 5.8707, 'raw': 5.8707, 'httpstcozya2an0u88': 5.8707, 'mkraju': 5.8707, 'came': 5.8707, 'diaper”': 5.8707, 'congratul': 5.8707, 'hasnt': 5.8707, 'spoken': 5.8707, 'httpstco5qsboxo8yx': 5.8707, 'fan': 5.8707, 'dang': 5.8707, 'uniti': 5.8707, 'feed': 5.8707, 'divid': 5.8707, 'rand': 5.8707, 'paul': 5.8707, 'enact': 5.8707, 'benefit': 5.8707, 'commun': 5.8707, '100x': 5.8707, 'j': 5.8707, 'usual': 5.8707, 'undermin': 5.8707, 'poor': 5.8707, 'wittl': 5.8707, 'httpstcogmssusi5h3': 5.8707, 'dnc': 5.8707, 'aoc': 5.8707, 'httpstcombpurg5d3u': 5.8707, 'jennieh37': 5.8707, 'mushuisk': 5.8707, 'jayeazy22': 5.8707, 'frankamari2': 5.8707, 'tap': 5.8707, '2nd': 5.8707, 'brother': 5.8707, 'keithpencil': 5.8707, 'artist': 5.8707, 'extraordinair': 5.8707, 'httpstcojrroh4ne6l': 5.8707, 'dluxmaroon': 5.8707, 'justinbaragona': 5.8707, 'bethwhoisbeth': 5.8707, 'platf…': 5.8707, 'httpstco6gybjmzsx6': 5.8707, 'httpstcolfc0td1q1': 5.8707, 'cbhessick': 5.8707, 'prime': 5.8707, 'ignore…': 5.8707, 'httpstcoawslu4vplw': 5.8707, 'remark': 5.8707, 'httpstcophasbsbbx4': 5.8707, 'teamplayer2017': 5.8707, 'theriseofrod': 5.8707, 'samanthasjones4': 5.8707, 'delus': 5.8707, 'suffer': 5.8707, 'intensify…': 5.8707, 'httpstcoankreqiwkf': 5.8707, 'jack': 5.8707, 'hell': 5.8707, 'cartoon': 5.8707, 'sc…': 5.8707, 'httpstcotgeytibjb8': 5.8707, 'given': 5.8707, 'iota': 5.8707, 'certai…': 5.8707, 'httpstcouaqs2act56': 5.8707, 'alan': 5.8707, 'dershowitz': 5.8707, '‘absolut': 5.8707, 'right‘': 5.8707, 'httpstconmgogom9pp': 5.8707, 'breitbartnew': 5.8707, 'game': 5.8707, 'statut': 5.8707, 'httpstcoihfwnpoqn5': 5.8707, 'people…': 5.8707, 'httpstcobpmiadv2cp': 5.8707, 'slap': 5.8707, 'melania': 5.8707, 'washington': 5.8707, 'bidench': 5.8707, 'httpstcomubg13gusu': 5.8707, 'wall': 5.8707, 'nearli': 5.8707, 'cbp': 5.8707, 'httpstcossitdk51ph': 5.8707, 'iamrec': 5.8707, 'level': 5.8707, 'unveil': 5.8707, 'soooooon': 5.8707, 'un…': 5.8707, 'httpstcossp6zmztkd': 5.8707, 'compet': 5.8707, 'compel': 5.8707, 'counter': 5.8707, 'struggl': 5.8707, 'worker': 5.8707, 'busi…': 5.8707, 'httpstcovyfdcdvlqz': 5.8707, 'deserv': 5.8707, 'ain’t': 5.8707, '🤔🤔🤔': 5.8707, 'vaccines”': 5.8707, 'supposedli': 5.8707, '17': 5.8707, '83': 5.8707, 'he…': 5.8707, 'httpstcoye3xqxbmr6': 5.8707, 'httpstco7mw1opoflu': 5.8707, 'dbongino': 5.8707, 'trump2720': 5.8707, 'almost': 5.8707, 'broke': 5.8707, 'childre…': 5.8707, 'httpstcorj038uwbd': 5.8707, 'gullibl': 5.8707, '34000': 5.8707, 'per': 5.8707, 'httpstcoeqahd4zdmh': 5.8707, 'judgejeanin': 5.8707, 'am…': 5.8707, 'httpstcobrcep8tpdz': 5.8707, 'fraud”': 5.8707, 'httpstcoh4rzzaavgt': 5.8707, '—landlord': 5.8707, 'chucktodd': 5.8707, 'pretend': 5.8707, 'rattl': 5.8707, 'antitrump': 5.8707, 'myt…': 5.8707, 'httpstcoesddvd9hld': 5.8707, '🚂🇺🇸': 5.8707, 'board': 5.8707, '🚂🔥': 5.8707, 'numbersmunch': 5.8707, 'convers': 5.8707, 'consider': 5.8707, 'theori': 5.8707, 'platform': 5.8707, 'httpstcogtcuyvlg97': 5.8707, 'jessicam6946': 5.8707, 'august': 5.8707, 'parscal': 5.8707, 'accomplic': 5.8707, 'box': 5.8707, 'issu': 5.8707, 'intern': 5.8707, 'c…': 5.8707, 'httpstcobh7dvg1t0x': 5.8707, '“trump': 5.8707, 'meritless': 5.8707, 'fleec': 5.8707, 'httpstcot2khyy8523': 5.8707, 'baritromo': 5.8707, 'television…': 5.8707, 'httpstcodpo1qtjafl': 5.8707, 'utter': 5.8707, 'destruct': 5.8707, 'adm…': 5.8707, 'httpstcok2u4ogwnm0': 5.8707, 'suburb': 5.8707, 'higheduc': 5.8707, 'outperform': 5.8707, 'clin…': 5.8707, 'httpstco1f5n3und7v': 5.8707, 'alexruebben': 5.8707, 'mongoosenewyork': 5.8707, 'richardursomd': 5.8707, 'zevdr': 5.8707, 'pearsonsharp': 5.8707, 'secwilki': 5.8707, 'markmeadow': 5.8707, 'senronjohnson': 5.8707, 'presssec…': 5.8707, 'httpstcokyn3cmucwl': 5.8707, 'orangpubliclol': 5.8707, 'lifeconservati': 5.8707, 'dey': 5.8707, 'blind': 5.8707, 'wish': 5.8707, 'httpstco0bccjzjbar': 5.8707, 'solonsax': 5.8707, 'politikurd': 5.8707, 'fuckwad': 5.8707, 'tweep': 5.8707, 'httpstcofen3ln4ifa': 5.8707, 'commit': 5.8707, 'financ': 5.8707, 'httpstcox7rimrcs6d': 5.8707, 'later': 5.8707, 'wi': 5.8707, 'over…': 5.8707, 'httpstcoqdvyvr2p6f': 5.8707, 'press…': 5.8707, 'httpstcomrjsrrmi6f': 5.8707, 'catturd2': 5.8707, 'weak': 5.8707, 'overlord': 5.8707, 'rncdnc': 5.8707, 'stolen': 5.8707, 'httpstcosm8y9tc36j': 5.8707, 'certain': 5.8707, 'josephnollasj': 5.8707, 'httpstcofpsereporr': 5.8707, '5': 5.8707, 'bellweth': 5.8707, 'swung': 5.8707, 'defi': 5.8707, 'america’s…': 5.8707, 'httpstcow2evu9ld': 5.8707, 'pressfreedom': 5.8707, 'dismantl': 5.8707, 'discredit': 5.8707, 'sourc': 5.8707, 'lindyli': 5.8707, 'sychoph': 5.8707, 'prove…': 5.8707, 'httpstco8axqwv8iyg': 5.8707, 'wouldn’t': 5.8707, 'httpstcoos05eduju6': 5.8707, 'httpstcolygbitp21n': 5.8707, 'idiot': 5.8707, 'low': 5.8707, 'httpstcowirpfuxgab': 5.8707, 'swimsuit': 5.8707, 'competit': 5.8707, 'pie': 5.8707, 'eat': 5.8707, 'contest': 5.8707, '🤩🤩🤩': 5.8707, '“it': 5.8707, 'appears”': 5.8707, 'consequ': 5.8707, 'lindsey': 5.8707, 'graham’': 5.8707, 'pressur': 5.8707, 'eric': 5.8707, 'dumber': 5.8707, 'ping': 5.8707, 'pong': 5.8707, 'height': 5.8707, '9': 5.8707, 'defend': 5.8707, 'are…': 5.8707, 'httpstcohnbobjmrhi': 5.8707, 'httpstco9m93qinwc3': 5.8707, 'oper': 5.8707, 'hit': 5.8707, 'httpstcogaowryhzzn': 5.8707, 'cornyn': 5.8707, 'transpar': 5.8707, 'admin…': 5.8707, 'httpstcoot9zl3sglg': 5.8707, 'subscrib': 5.8707, 'free…': 5.8707, 'httpstcodixwv4awf3': 5.8707, 'bat': 5.8707, 'newsflash': 5.8707, 'sundayvib': 5.8707, 'how’': 5.8707, 'karma': 5.8707, 'hillary’': 5.8707, 'cast': 5.8707, 'w…': 5.8707, 'httpstcoau6mfpvuug': 5.8707, 'httpstcoppzmqmldp0': 5.8707, 'darrengil': 5.8707, 'bartiroma': 5.8707, 'interviewin…': 5.8707, 'httpstcoufvjtukshf': 5.8707, 'httpstcol5iypyuucp': 5.8707, 'disrn': 5.8707, 'cnbc': 5.8707, '73': 5.8707, '66': 5.8707, 'httpstcov6s5i9dfrf': 5.8707, '“you': 5.8707, 'httpstcogl19zriugf': 5.8707, '“they': 5.8707, 'stuf': 5.8707, 'boxes”': 5.8707, 'gotten…': 5.8707, 'httpstcoeetkoty0pb': 5.8707, 'httpstco4wqtoji3mu': 5.8707, 'shudder': 5.8707, 'imagin…': 5.8707, 'httpstcotsk2wvru2q': 5.8707, 'httpstcop1kbm1dghc': 5.8707, 'httpstco0dxayg9avz': 5.8707, 'httpstcoz3h1ep643': 5.8707, 'evanakilgor': 5.8707, 'origin': 5.8707, 'took': 5.8707, 'as…': 5.8707, 'httpstcogo87wxihrg': 5.8707, 'thehil': 5.8707, 'foxoannnewsmax': 5.8707, 'find…': 5.8707, 'httpstcohvx0iqysq5': 5.8707, 'georgetakei': 5.8707, 'peep': 5.8707, 'subsidi': 5.8707, 'due': 5.8707, 'trade': 5.8707, 'ar…': 5.8707, 'httpstcoxfy6jy1smi': 5.8707, '🚨': 5.8707, 'begin': 5.8707, '23': 5.8707, 'doral': 5.8707, 'stre…': 5.8707, 'httpstcomdnlm2cjhi': 5.8707, '20': 5.8707, '265000': 5.8707, 'quit': 5.8707, 'httpstcoe4ijpmeyex': 5.8707, 'httpstcoq0fzzr5x6g': 5.8707, 'visibl': 5.8707, 'enthusiasm': 5.8707, 'bigger': 5.8707, 'httpstcogzimpo9fvi': 5.8707, 'pain🤬': 5.8707, 'backstabb': 5.8707, 'compstan': 5.8707, 'ingrahamangl': 5.8707, 'haven’t': 5.8707, 'httpstcoz61kcwbcxw': 5.8707, 'httpstcooywouwemk8': 5.8707, 'iheartmindi': 5.8707, 'precinct': 5.8707, 'fraction': 5.8707, 'vi…': 5.8707, 'httpstco2j3jqwh5wz': 5.8707, 'shawn': 5.8707, 'mend': 5.8707, 'hat': 5.8707, 'httpstcoon4pqpmwt2': 5.8707, 'httpstco3lghmouyo': 5.8707, 'httpstcochuta3g6ck': 5.8707, 'richardmarx': 5.8707, 'womp': 5.8707, 'dummi': 5.8707, 'httpstco8vpumyyakf': 5.8707, 'brooklyn1825': 5.8707, 'improbablejo': 5.8707, 'kurtnicehhl': 5.8707, 'dystopianr': 5.8707, 'disingenu': 5.8707, 'categor': 5.8707, 'imperfect…': 5.8707, 'httpstco7jqgupwxk': 5.8707, 'buddynoh': 5.8707, 'matthewjshow': 5.8707, 'nonsens': 5.8707, 'alleg': 5.8707, 'proven': 5.8707, 'baseless…': 5.8707, 'httpstcoln9hewjo6h': 5.8707, 'sorri': 5.8707, 'turd': 5.8707, 'brainless': 5.8707, 'exobumm': 5.8707, 'httpstcogsqzsozagm': 5.8707, 'tech': 5.8707, 'googl': 5.8707, 'speech': 5.8707, 'outrageo…': 5.8707, 'httpstcomevwxoa9ti': 5.8707, 'maggienyt': 5.8707, 'write': 5.8707, 'perdu': 5.8707, 'rino': 5.8707, 'perilofafrica': 5.8707, 'httpstcokuttswn0u7': 5.8707, 'naveenoliv': 5.8707, 'dpwimm': 5.8707, 'who’': 5.8707, 'httpstcopaaklwy3si': 5.8707, '500': 5.8707, 'httpstcohzepq8iwxx': 5.8707, 'washingtonpost': 5.8707, 'change…': 5.8707, 'httpstcoamdcetljcv': 5.8707, 'httpstcosbkirpglnc': 5.8707, 'svdate': 5.8707, 'dojph': 5.8707, 'remov': 5.8707, 'sedit': 5.8707, 'speakerpelosi': 5.8707, 'anthoni': 5.8707, 'psycholog': 5.8707, 'classi…': 5.8707, 'httpstcolhuqg5fekl': 5.8707, 'propon': 5.8707, '“2016': 5.8707, 'bernie”': 5.8707, 'line—h': 5.8707, 'ensur': 5.8707, 'httpstco6qydp5thhx': 5.8707, 'question': 5.8707, 'chines': 5.8707, 'communist': 5.8707, 'exchang': 5.8707, '11': 5.8707, 'httpstcoosxt5vjyvo': 5.8707, 'worldview': 5.8707, 'weekend…': 5.8707, 'httpstcoz1savi5tnb': 5.8707, 'bcbyvic': 5.8707, 'gc': 5.8707, '14': 5.8707, 'understood': 5.8707, 'wouldnt…': 5.8707, 'httpstcoxvs3zkcfmo': 5.8707, 'signific': 5.8707, 'chunk': 5.8707, 'popul': 5.8707, 'angri': 5.8707, 'bec…': 5.8707, 'httpstco1xmopt9bj1': 5.8707, 'senjeffmerkley': 5.8707, 'careanyon': 5.8707, 'iq45': 5.8707, 'crap': 5.8707, 'bblock29': 5.8707, 'email': 5.8707, 'odumbass': 5.8707, 'ir': 5.8707, 'mone…': 5.8707, 'httpstcodno3wshtv6': 5.8707, 'on…': 5.8707, 'httpstcoxgfeobulac': 5.8707, '🔹': 5.8707, '91': 5.8707, 'reduct': 5.8707, '46': 5.8707, 'clerk': 5.8707, 'those…': 5.8707, 'httpstcoasfjg6ikw': 5.8707, '🚨war': 5.8707, 'alert': 5.8707, 'yup': 5.8707, 'theyll': 5.8707, 'howl': 5.8707, 'shriek': 5.8707, 'caterwaul': 5.8707, 'singl': 5.8707, 'solitari': 5.8707, 'shatte…': 5.8707, 'httpstcoshf95udahl': 5.8707, 'rightwinglawman': 5.8707, 'push': 5.8707, 'bold': 5.8707, 'control': 5.8707, 'httpstcogshc1nqprd': 5.8707, 'exist': 5.8707, 'tossup': 5.8707, '✅biden': 5.8707, 'underperfor…': 5.8707, 'httpstco3ylikfw5sr': 5.8707, 'fjohnson1981': 5.8707, 'asher971': 5.8707, 'guypbenson': 5.8707, 'ha': 5.8707, 'douch': 5.8707, 'cours…': 5.8707, 'httpstcomo5r6vbr5a': 5.8707, '‘mutter': 5.8707, '‘mad': 5.8707, 'george’': 5.8707, 'httpstcowj8ojyok': 5.8707, 'neither': 5.8707, 'cherylmyska': 5.8707, 'specul': 5.8707, '‘how': 5.8707, 'httpstcoy0tyuxlwcx': 5.8707, '1lucyhannah': 5.8707, 'forfeit': 5.8707, '3rd': 5.8707, 'httpstcol0xbzsl4ln': 5.8707, '“there': 5.8707, 'substanti': 5.8707, 'irredeem': 5.8707, 'compromised”': 5.8707, 'do…': 5.8707, 'httpstco6h4xikk8ow': 5.8707, 'davidfrum': 5.8707, 'page': 5.8707, 'playbook': 5.8707, 'appeas': 5.8707, 'base': 5.8707, 'gop…': 5.8707, 'httpstcou8vlfrvc4f': 5.8707, 'wowyou': 5.8707, 'punchlinesham': 5.8707, 'budstay': 5.8707, 'alertha': 5.8707, 'sav…': 5.8707, 'httpstcowrh3xctg31': 5.8707, 'stupidest': 5.8707, 'easili': 5.8707, 'httpstcou5znd08tgt': 5.8707, 'familygiv': 5.8707, 'preserv': 5.8707, 'years…': 5.8707, 'httpstcovdogfnruxg': 5.8707, 'shape': 5.8707, 'treaso…': 5.8707, 'httpstcobbp3ue0zsq': 5.8707, 'texasmom0709': 5.8707, 'squar': 5.8707, 'amen': 5.8707, 'aggrand': 5.8707, 'crimes…': 5.8707, 'httpstcoxzcnqsjm2i': 5.8707, 'fit': 5.8707, 'histor': 5.8707, 'norm': 5.8707, 'won…': 5.8707, 'httpstco4yocoakhcf': 5.8707, 'unfollow': 5.8707, 'useless': 5.8707, 'safer': 5.8707, 'decalr': 5.8707, 'emerg': 5.8707, 'southern': 5.8707, 'fatal': 5.8707, 'blackmail': 5.8707, 'codemonkeyz': 5.8707, 'thoma': 5.8707, 'ret': 5.8707, 'usaf': 5.8707, 'httpstcowndniilapx': 5.8707, 'cb': 5.8707, 'woman': 5.8707, 'ta…': 5.8707, 'httpstco97vnlrs2dg': 5.8707, 'omg🚨break': 5.8707, 'introduc': 5.8707, 'joint': 5.8707, 'resolut': 5.8707, 'cons…': 5.8707, 'httpstco4tfdnvylrt': 5.8707, 'georgwebb': 5.8707, 'compromis': 5.8707, 'jkengeki': 5.8707, 'cptgunhada': 5.8707, 'kaitmarieox': 5.8707, 'you’v': 5.8707, 'hing': 5.8707, 'argument': 5.8707, 'photo': 5.8707, 'behavior…': 5.8707, 'httpstcodemdkpbytc': 5.8707, 'racism': 5.8707, 'andpoverti': 5.8707, 'fissur': 5.8707, 'societi': 5.8707, 'aft…': 5.8707, 'httpstcotakcbipiy': 5.8707, 'bark': 5.8707, 'nois': 5.8707, 'insid': 5.8707, 'hide': 5.8707, 'februari': 5.8707, 'stock': 5.8707, 'cryinnnn😂😂😂🤣🤣🤣': 5.8707, 'dora…': 5.8707, 'httpstco9mnisx2qmr': 5.8707, 'httpstcoiiqz1cg0xn': 5.8707, 'sex': 5.8707, 'offend': 5.8707, 'thiev': 5.8707, 'pull': 5.8707, 'sent': 5.8707, 'tampered…': 5.8707, 'httpstcowwzzsbcky0': 5.8707, 'porteranderson': 5.8707, 'oliverdarci': 5.8707, 'disinformati…': 5.8707, 'httpstcouejm7mecqm': 5.8707, 'mega': 5.8707, 'blunth': 5.8707, 'taken': 5.8707, 'gift': 5.8707, 'housethat': 5.8707, 'politician': 5.8707, 'adjust': 5.8707, 'glass': 5.8707, 'httpstcoq8kabmmkq8': 5.8707, 'took…': 5.8707, 'httpstcosvngurqbq7': 5.8707, '84': 5.8707, 'goe': 5.8707, 'whyyyyyyi': 5.8707, 'doubl': 5.8707, 'looser': 5.8707, 'digniti': 5.8707, 'babi': 5.8707, 'loos': 5.8707, 'r…': 5.8707, 'httpstcody091qr4qc': 5.8707, 'rcreed40': 5.8707, 'con': 5.8707, 'toward': 5.8707, 'vehicl': 5.8707, 'church…': 5.8707, 'httpstcocwheynfh0u': 5.8707, 'donat': 5.8707, 'fund': 5.8707, 'things…': 5.8707, 'httpstcorzwze7zfuw': 5.8707, 'congrat': 5.8707, 'kazeplaysjc': 5.8707, 'uneduc': 5.8707, 'educ': 5.8707, 'critic': 5.8707, 'skill': 5.8707, 'wh…': 5.8707, 'httpstcorpjp2s71v6': 5.8707, 'dril': 5.8707, 'boomerang': 5.8707, 'buy': 5.8707, 'silenc': 5.8707, 'other': 5.8707, 'httpstcoxcz3gl0o50': 5.8707, 'owilli': 5.8707, 'overlook': 5.8707, 'fifth': 5.8707, 'thermodynam': 5.8707, 'nobodi': 5.8707, 'yo…': 5.8707, 'httpstcofqzczbmojt': 5.8707, 'vice': 5.8707, 'sexual': 5.8707, 'predat': 5.8707, 'threadmoment': 5.8707, 'navajo': 5.8707, 'health': 5.8707, 'jim': 5.8707, 'covid': 5.8707, 'advisory…': 5.8707, 'httpstcomaomwlcryx': 5.8707, '100': 5.8707, 'impetu': 5.8707, 'conspir': 5.8707, 'bidendem': 5.8707, 'optic': 5.8707, 'httpstconnehxz5ywv': 5.8707, 'madkinggeorg': 5.8707, 'httpstcomych9jny8j': 5.8707, 'cat': 5.8707, 'deal': 5.8707, 'crack': 5.8707, 'smoke': 5.8707, 'son': 5.8707, 'nice': 5.8707, 'httpstcoee3z4p7aqo': 5.8707, 'kck89': 5.8707, 'scottpresl': 5.8707, 'honesti': 5.8707, 'empathi': 5.8707, 'abil': 5.8707, 'httpstcotowm6vz4iw': 5.8707, 'abus': 5.8707, 'linda': 5.8707, 'kern': 5.8707, 'ha…': 5.8707, 'httpstcoegfwcgt9ng': 5.8707, 'stark': 5.8707, 'psychiatr': 5.8707, 'treat': 5.8707, 'broadway': 5.8707, 'music': 5.8707, 'exampl': 5.8707, 'd…': 5.8707, 'httpstcojek2igjixb': 5.8707, 'american…': 5.8707, 'httpstcochoytozidl': 5.8707, 'uncl': 5.8707, 'hi': 5.8707, 'khrissycho': 5.8707, 'easi': 5.8707, 'savvi': 5.8707, 'credit': 5.8707, 'consequences—becaus': 5.8707, 'affect': 5.8707, 'livelihood': 5.8707, 'httpstco3ofq8jruox': 5.8707, 'gopgal5': 5.8707, 'pure': 5.8707, 'trailer': 5.8707, '🗑': 5.8707, 'httpstco8y8a4fj4kj': 5.8707, 'title…': 5.8707, 'httpstcocrjcyos07c': 5.8707, 'fi…': 5.8707, 'httpstcouwh4bdwhfi': 5.8707, 'unrol': 5.8707, 'thread': 5.8707, 'election2020': 5.8707, 'electionfraud': 5.8707, 'distinguish': 5.8707, 'httpstco9wzu5dicrq': 5.8707, 'dictat': 0.0, 'nasa': 0.0, 'rajoy': 0.0}\n"
     ]
    }
   ],
   "source": [
    "#print(tf)\n",
    "#print(dict(sorted(tf.items(), reverse=True, key=lambda item: item[1])))\n",
    "print(dict(sorted(idf.items(), reverse=True, key=lambda item: item[1])))\n",
    "# LOCURA (-e^-(x/50000)+1)"
   ]
  },
  {
   "cell_type": "code",
   "execution_count": null,
   "metadata": {},
   "outputs": [],
   "source": []
  }
 ],
 "metadata": {
  "colab": {
   "name": "Model_Tf_IDF_Index_stud.ipynb",
   "provenance": []
  },
  "kernelspec": {
   "display_name": "Python 3",
   "language": "python",
   "name": "python3"
  },
  "language_info": {
   "codemirror_mode": {
    "name": "ipython",
    "version": 3
   },
   "file_extension": ".py",
   "mimetype": "text/x-python",
   "name": "python",
   "nbconvert_exporter": "python",
   "pygments_lexer": "ipython3",
   "version": "3.8.5"
  }
 },
 "nbformat": 4,
 "nbformat_minor": 1
}
