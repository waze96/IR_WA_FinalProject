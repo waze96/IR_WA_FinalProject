{
 "cells": [
  {
   "cell_type": "markdown",
   "metadata": {
    "id": "yHK-yP0fTAP9"
   },
   "source": [
    "# Information Retrieval and Web Analytics: Indexing + Modeling (TF-IDF) "
   ]
  },
  {
   "cell_type": "code",
   "execution_count": 1,
   "metadata": {
    "colab": {
     "base_uri": "https://localhost:8080/",
     "height": 51
    },
    "executionInfo": {
     "elapsed": 617,
     "status": "ok",
     "timestamp": 1603470874764,
     "user": {
      "displayName": "RAMON VALLÉS",
      "photoUrl": "",
      "userId": "05301961646047881826"
     },
     "user_tz": -120
    },
    "id": "9NUq8PwCTAQA",
    "outputId": "8fa7a9c5-8127-4cae-acb1-44239837794b"
   },
   "outputs": [
    {
     "name": "stderr",
     "output_type": "stream",
     "text": [
      "[nltk_data] Downloading package stopwords to /home/waze/nltk_data...\n",
      "[nltk_data]   Package stopwords is already up-to-date!\n"
     ]
    }
   ],
   "source": [
    "# if you do not have nltk the following command should work \"python -m pip install nltk\" \n",
    "import nltk\n",
    "nltk.download('stopwords');"
   ]
  },
  {
   "cell_type": "code",
   "execution_count": 76,
   "metadata": {
    "colab": {
     "base_uri": "https://localhost:8080/",
     "height": 34
    },
    "executionInfo": {
     "elapsed": 615,
     "status": "ok",
     "timestamp": 1603473061105,
     "user": {
      "displayName": "RAMON VALLÉS",
      "photoUrl": "",
      "userId": "05301961646047881826"
     },
     "user_tz": -120
    },
    "id": "8F9PVJlbTAQF",
    "outputId": "1ea5d092-3739-495f-a112-4b492561eb71"
   },
   "outputs": [],
   "source": [
    "import time\n",
    "from collections import defaultdict\n",
    "from array import array\n",
    "from nltk.stem import PorterStemmer\n",
    "from nltk.corpus import stopwords\n",
    "import math\n",
    "import numpy as np\n",
    "import collections\n",
    "from numpy import linalg as la\n",
    "import json\n",
    "import re\n",
    "\n",
    "data_path = './lab twitter/scrapping/data/one.json'"
   ]
  },
  {
   "cell_type": "markdown",
   "metadata": {
    "id": "MlNg4TFXTAQI"
   },
   "source": [
    "#### Load data into memory\n",
    "\n",
    "As mentioned above the dataset is stored in a tsv file ```parsed_input_500.tsv```and it contains 500 Wikipedia article (one article per line). For each article we have id, title and body separated by \"|\"."
   ]
  },
  {
   "cell_type": "code",
   "execution_count": 7,
   "metadata": {
    "executionInfo": {
     "elapsed": 2796,
     "status": "ok",
     "timestamp": 1603473064968,
     "user": {
      "displayName": "RAMON VALLÉS",
      "photoUrl": "",
      "userId": "05301961646047881826"
     },
     "user_tz": -120
    },
    "id": "X4P3KzRMTAQJ"
   },
   "outputs": [],
   "source": [
    "docs_path = data_path\n",
    "with open(docs_path) as fp:\n",
    "    lines = fp.readlines()\n",
    "tweets = [l.strip().replace(' +', ' ') for l in lines]"
   ]
  },
  {
   "cell_type": "code",
   "execution_count": 8,
   "metadata": {
    "colab": {
     "base_uri": "https://localhost:8080/",
     "height": 34
    },
    "executionInfo": {
     "elapsed": 557,
     "status": "ok",
     "timestamp": 1603473068069,
     "user": {
      "displayName": "RAMON VALLÉS",
      "photoUrl": "",
      "userId": "05301961646047881826"
     },
     "user_tz": -120
    },
    "id": "BiGNBAAeTAQM",
    "outputId": "4444d85b-c071-44f1-c385-454b4bf5207d"
   },
   "outputs": [
    {
     "name": "stdout",
     "output_type": "stream",
     "text": [
      "Total numer of tweets in the corpus: 11225\n"
     ]
    }
   ],
   "source": [
    "print(\"Total numer of tweets in the corpus: {}\" .format(len(tweets)))"
   ]
  },
  {
   "cell_type": "code",
   "execution_count": 104,
   "metadata": {},
   "outputs": [],
   "source": [
    "def cleanTweet(tweetText):\n",
    "    \"\"\"\n",
    "    Preprocess the article text (title + body) removing stop words, stemming,\n",
    "    transforming in lowercase and return the tokens of the text.\n",
    "    \n",
    "    Argument:\n",
    "    line -- string (text) to be preprocessed\n",
    "    \n",
    "    Returns:\n",
    "    line - a list of tokens corresponding to the input text after the preprocessing\n",
    "    \"\"\"\n",
    "        \n",
    "    stemming = PorterStemmer()\n",
    "    stops = set(stopwords.words(\"english\"))\n",
    "    ## START CODE\n",
    "    line= tweetText.lower() ## Transform in lowercase\n",
    "    line=re.sub('[:\\[\\]&%$\\\"\\'!./,;:?=¿^\\-#_*+)<>(¡@]','',line)\n",
    "    line= line.split() ## Tokenize the text to get a list of terms\n",
    "    line= [word for word in line if word not in stops]  ##eliminate the stopwords (HINT: use List Comprehension)\n",
    "    line= [stemming.stem(word) for word in line] ## perform stemming (HINT: use List Comprehension)\n",
    "    ## END CODE\n",
    "    return line\n",
    "    "
   ]
  },
  {
   "cell_type": "code",
   "execution_count": 110,
   "metadata": {
    "scrolled": false
   },
   "outputs": [
    {
     "name": "stdout",
     "output_type": "stream",
     "text": [
      "[{'tweetID': 1324447812818534402, 'text': '@JoeBiden Joe Biden, we will NEVER FORGET how your family $OLD access to our nation’s security to China, Ukraine, R… https://t.co/wXQqUIB4In', 'tokens': ['joebiden', 'joe', 'biden', 'never', 'forget', 'famili', 'old', 'access', 'nation’', 'secur', 'china', 'ukrain', 'r…', 'httpstcowxqquib4in'], 'username': 'marlahohner', 'date': 'Thu Nov 12 14:32:33 0000 2020', 'hashtags': [], 'likes': 24, 'rt_count': 14, 'urlsList': ['https://t.co/wXQqUIB4In']}, {'tweetID': 1326894194607132672, 'text': '\"This is a humanitarian disaster.\" --@drsanjaygupta @CNN referring to the state of #covid19 in the U.S. \\n\\nHe\\'s righ… https://t.co/ESSwjyzQOU', 'tokens': ['humanitarian', 'disast', 'drsanjaygupta', 'cnn', 'refer', 'state', 'covid19', 'us', 'he', 'righ…', 'httpstcoesswjyzq'], 'username': 'DrLeanaWen', 'date': 'Thu Nov 12 14:32:33 0000 2020', 'hashtags': ['covid19'], 'likes': 269, 'rt_count': 113, 'urlsList': ['https://t.co/ESSwjyzQOU']}, {'tweetID': 1326893960778952704, 'text': 'Brown Hotels pivot to longer term rentals: https://t.co/6lt21AAiFT | via @GlobesEnglish #Travel #Israel #TelAviv #Jerusalem #COVID19', 'tokens': ['brown', 'hotel', 'pivot', 'longer', 'term', 'rental', 'httpstco6lt21aaift', '|', 'via', 'globesenglish', 'travel', 'israel', 'telaviv', 'jerusalem', 'covid19'], 'username': 'touringisrael', 'date': 'Thu Nov 12 14:32:33 0000 2020', 'hashtags': ['Travel', 'Israel', 'TelAviv', 'Jerusalem', 'COVID19'], 'likes': 0, 'rt_count': 1, 'urlsList': ['https://t.co/6lt21AAiFT']}, {'tweetID': 1326888003990679552, 'text': 'Covid fight will be harmed if UK crashes out of EU scheme, warns Nobel Laureate https://t.co/qhplJYsKsi', 'tokens': ['covid', 'fight', 'harm', 'uk', 'crash', 'eu', 'scheme', 'warn', 'nobel', 'laureat', 'httpstcoqhpljysksi'], 'username': 'Independent', 'date': 'Thu Nov 12 14:32:33 0000 2020', 'hashtags': [], 'likes': 16, 'rt_count': 1, 'urlsList': ['https://t.co/qhplJYsKsi']}, {'tweetID': 1326571572237373445, 'text': 'The U.S. is continuing to work at record speed to develop effective vaccines and treatments for #COVID19. This week… https://t.co/oJN1Bslq8B', 'tokens': ['us', 'continu', 'work', 'record', 'speed', 'develop', 'effect', 'vaccin', 'treatment', 'covid19', 'week…', 'httpstcoojn1bslq8b'], 'username': 'sendavidperdue', 'date': 'Thu Nov 12 14:32:33 0000 2020', 'hashtags': ['COVID19'], 'likes': 15291, 'rt_count': 3553, 'urlsList': ['https://t.co/oJN1Bslq8B']}, {'tweetID': 1326895664861745155, 'text': 'Reporting on suicidal behaviour and COVID-19—need for caution https://t.co/7rmincNjoi', 'tokens': ['report', 'suicid', 'behaviour', 'covid19—ne', 'caution', 'httpstco7rmincnjoi'], 'username': 'drjohnmorley', 'date': 'Thu Nov 12 14:32:33 0000 2020', 'hashtags': [], 'likes': 0, 'rt_count': 0, 'urlsList': ['https://t.co/7rmincNjoi']}, {'tweetID': 1326890026983108612, 'text': 'Donald Trump is being given time to \"get used to the idea that he lost the election.\" Meanwhile more than 100,000 A… https://t.co/K5iiDhgbo4', 'tokens': ['donald', 'trump', 'given', 'time', 'get', 'use', 'idea', 'lost', 'elect', 'meanwhil', '100000', 'a…', 'httpstcok5iidhgbo4'], 'username': 'JoyAnnReid', 'date': 'Thu Nov 12 14:32:33 0000 2020', 'hashtags': [], 'likes': 4868, 'rt_count': 939, 'urlsList': ['https://t.co/K5iiDhgbo4']}, {'tweetID': 1326560387781828608, 'text': \"@JudyB1313 @BW I think I already have, and it's my pain specialist. \\n\\nI think I'm going to hit the long Covid board… https://t.co/AnVWcaCP1o\", 'tokens': ['judyb1313', 'bw', 'think', 'alreadi', 'pain', 'specialist', 'think', 'im', 'go', 'hit', 'long', 'covid', 'board…', 'httpstcoanvwcacp1o'], 'username': 'JulieTheCranky', 'date': 'Thu Nov 12 14:32:33 0000 2020', 'hashtags': [], 'likes': 2, 'rt_count': 1, 'urlsList': ['https://t.co/AnVWcaCP1o']}, {'tweetID': 1326895665176342528, 'text': 'Fakers &amp; Frauds &amp; Cheaters are the only Party which is living in the world is Democrat Party of USA. This type of i… https://t.co/db1TibjfZj', 'tokens': ['faker', 'amp', 'fraud', 'amp', 'cheater', 'parti', 'live', 'world', 'democrat', 'parti', 'usa', 'type', 'i…', 'httpstcodb1tibjfzj'], 'username': 'AVijay41595542', 'date': 'Thu Nov 12 14:32:33 0000 2020', 'hashtags': [], 'likes': 0, 'rt_count': 0, 'urlsList': ['https://t.co/db1TibjfZj']}, {'tweetID': 1326894774624739328, 'text': \"Dr. @CelineGounder, a member of President-elect Joe Biden's #COVID19 advisory board, joins us to discuss the record… https://t.co/CWokGXHxQe\", 'tokens': ['dr', 'celinegound', 'member', 'presidentelect', 'joe', 'biden', 'covid19', 'advisori', 'board', 'join', 'us', 'discuss', 'record…', 'httpstcocwokgxhxq'], 'username': 'CBSThisMorning', 'date': 'Thu Nov 12 14:32:33 0000 2020', 'hashtags': ['COVID19'], 'likes': 6, 'rt_count': 2, 'urlsList': ['https://t.co/CWokGXHxQe']}, {'tweetID': 1326892967668326400, 'text': 'Prepare yourselves for statewide shelter in place orders https://t.co/swxW3eLjs5', 'tokens': ['prepar', 'statewid', 'shelter', 'place', 'order', 'httpstcoswxw3eljs5'], 'username': 'helbard', 'date': 'Thu Nov 12 14:32:33 0000 2020', 'hashtags': [], 'likes': 1, 'rt_count': 1, 'urlsList': ['https://t.co/swxW3eLjs5']}, {'tweetID': 1326895665255833600, 'text': 'Doubled in 10 days. This is not going to get better in the coming weeks but much worse. Mask up ppl. Stay home when… https://t.co/JnpRoXz5B8', 'tokens': ['doubl', '10', 'day', 'go', 'get', 'better', 'come', 'week', 'much', 'wors', 'mask', 'ppl', 'stay', 'home', 'when…', 'httpstcojnproxz5b8'], 'username': 'sashavohm', 'date': 'Thu Nov 12 14:32:33 0000 2020', 'hashtags': [], 'likes': 0, 'rt_count': 0, 'urlsList': ['https://t.co/JnpRoXz5B8']}, {'tweetID': 1326737791745744896, 'text': 'A new coronavirus stimulus package looks unlikely until Biden administration\\n\\nWhen will Americans understand that R… https://t.co/eePsbNnETf', 'tokens': ['new', 'coronaviru', 'stimulu', 'packag', 'look', 'unlik', 'biden', 'administr', 'american', 'understand', 'r…', 'httpstcoeepsbnnetf'], 'username': 'DearAuntCrabby', 'date': 'Thu Nov 12 14:32:33 0000 2020', 'hashtags': [], 'likes': 1151, 'rt_count': 313, 'urlsList': ['https://t.co/eePsbNnETf']}, {'tweetID': 1326895665662844928, 'text': 'With only 8 people because of covid', 'tokens': ['8', 'peopl', 'covid'], 'username': 'dollphran', 'date': 'Thu Nov 12 14:32:33 0000 2020', 'hashtags': [], 'likes': 0, 'rt_count': 0, 'urlsList': []}, {'tweetID': 1326893570838704128, 'text': 'Wish you a Speedy Recovery Pilot Ji. Get Well Soon. 💐', 'tokens': ['wish', 'speedi', 'recoveri', 'pilot', 'ji', 'get', 'well', 'soon', '💐'], 'username': 'GovindDotasra', 'date': 'Thu Nov 12 14:32:33 0000 2020', 'hashtags': [], 'likes': 173, 'rt_count': 11, 'urlsList': []}, {'tweetID': 1326879527260315648, 'text': 'Good morning!\\n\\nIt is a blessing to wake up in America. It is a blessing to be an American. It is a blessing to be f… https://t.co/v7Khekt0y3', 'tokens': ['good', 'morn', 'bless', 'wake', 'america', 'bless', 'american', 'bless', 'f…', 'httpstcov7khekt0y3'], 'username': 'LLinWood', 'date': 'Thu Nov 12 14:32:33 0000 2020', 'hashtags': [], 'likes': 7505, 'rt_count': 2817, 'urlsList': ['https://t.co/v7Khekt0y3']}, {'tweetID': 1326895665419579395, 'text': 'Latest developments from @HolyNameMedCtr   CMO Dr Adam Jarrett.  1) Recent spike of covid patients linked to Hallow… https://t.co/SrlvxuTB3j', 'tokens': ['latest', 'develop', 'holynamemedctr', 'cmo', 'dr', 'adam', 'jarrett', '1', 'recent', 'spike', 'covid', 'patient', 'link', 'hallow…', 'httpstcosrlvxutb3j'], 'username': 'glennschuck', 'date': 'Thu Nov 12 14:32:33 0000 2020', 'hashtags': [], 'likes': 0, 'rt_count': 0, 'urlsList': ['https://t.co/SrlvxuTB3j']}, {'tweetID': 1326871083220430853, 'text': 'This is reckless journalism. News orgs need to stop participating in the rehabilitation of racists and covid denier… https://t.co/qi7hXuF7QK', 'tokens': ['reckless', 'journal', 'news', 'org', 'need', 'stop', 'particip', 'rehabilit', 'racist', 'covid', 'denier…', 'httpstcoqi7hxuf7qk'], 'username': 'LaSharah', 'date': 'Thu Nov 12 14:32:33 0000 2020', 'hashtags': [], 'likes': 852, 'rt_count': 137, 'urlsList': ['https://t.co/qi7hXuF7QK']}, {'tweetID': 1326895666069725184, 'text': 'This is why voting ..by text..is safer @GOPLeader republicans should honor the advice of doctors &amp; scientists if on… https://t.co/t0qhvSsYQq', 'tokens': ['vote', 'texti', 'safer', 'goplead', 'republican', 'honor', 'advic', 'doctor', 'amp', 'scientist', 'on…', 'httpstcot0qhvssyqq'], 'username': 'CastonChris', 'date': 'Thu Nov 12 14:32:33 0000 2020', 'hashtags': [], 'likes': 0, 'rt_count': 0, 'urlsList': ['https://t.co/t0qhvSsYQq']}, {'tweetID': 1326891257076002816, 'text': 'Covid Patient Told To Go Throw Himself On Body Pile Until Hospital Bed Freed Up https://t.co/R5G7pWHCvP https://t.co/lXvKTtEzlx', 'tokens': ['covid', 'patient', 'told', 'go', 'throw', 'bodi', 'pile', 'hospit', 'bed', 'freed', 'httpstcor5g7pwhcvp', 'httpstcolxvkttezlx'], 'username': 'TheOnion', 'date': 'Thu Nov 12 14:32:34 0000 2020', 'hashtags': [], 'likes': 854, 'rt_count': 105, 'urlsList': ['https://t.co/R5G7pWHCvP']}, {'tweetID': 1326895666438811651, 'text': '@7334brightlight @Keepitrealtj @KillAuDeepState @WarTimeGirl The Great Reset is basically about how to recover the… https://t.co/Rc6OiyWy07', 'tokens': ['7334brightlight', 'keepitrealtj', 'killaudeepst', 'wartimegirl', 'great', 'reset', 'basic', 'recov', 'the…', 'httpstcorc6oiywy07'], 'username': 'rami_chamaa', 'date': 'Thu Nov 12 14:32:34 0000 2020', 'hashtags': [], 'likes': 0, 'rt_count': 0, 'urlsList': ['https://t.co/Rc6OiyWy07']}, {'tweetID': 1326437806533537794, 'text': 'WTH! More Than 10,000 Dead People have returned their mail-in-ballots to vote in Michigan, according to an analysis… https://t.co/XdeXFXOJ2n', 'tokens': ['wth', '10000', 'dead', 'peopl', 'return', 'mailinballot', 'vote', 'michigan', 'accord', 'analysis…', 'httpstcoxdexfxoj2n'], 'username': 'Wyn1745', 'date': 'Thu Nov 12 14:32:34 0000 2020', 'hashtags': [], 'likes': 590, 'rt_count': 557, 'urlsList': ['https://t.co/XdeXFXOJ2n']}, {'tweetID': 1326894194607132672, 'text': '\"This is a humanitarian disaster.\" --@drsanjaygupta @CNN referring to the state of #covid19 in the U.S. \\n\\nHe\\'s righ… https://t.co/ESSwjyzQOU', 'tokens': ['humanitarian', 'disast', 'drsanjaygupta', 'cnn', 'refer', 'state', 'covid19', 'us', 'he', 'righ…', 'httpstcoesswjyzq'], 'username': 'DrLeanaWen', 'date': 'Thu Nov 12 14:32:34 0000 2020', 'hashtags': ['covid19'], 'likes': 269, 'rt_count': 114, 'urlsList': ['https://t.co/ESSwjyzQOU']}, {'tweetID': 1326859205807140866, 'text': 'COVID lulled too many to sleep and if Biden is installed - not elected - as President, he will implement a 4-6 week… https://t.co/zNTau2pzrb', 'tokens': ['covid', 'lull', 'mani', 'sleep', 'biden', 'instal', 'elect', 'presid', 'implement', '46', 'week…', 'httpstcozntau2pzrb'], 'username': 'EricMMatheny', 'date': 'Thu Nov 12 14:32:34 0000 2020', 'hashtags': [], 'likes': 1027, 'rt_count': 523, 'urlsList': ['https://t.co/zNTau2pzrb']}, {'tweetID': 1326868965587496966, 'text': 'When COVID played basketball in all our lives, few believed that this lovely little tour shall see the light of day… https://t.co/n52f9nzsx4', 'tokens': ['covid', 'play', 'basketbal', 'live', 'believ', 'love', 'littl', 'tour', 'shall', 'see', 'light', 'day…', 'httpstcon52f9nzsx4'], 'username': 'ChennaiIPL', 'date': 'Thu Nov 12 14:32:34 0000 2020', 'hashtags': [], 'likes': 7492, 'rt_count': 367, 'urlsList': ['https://t.co/n52f9nzsx4']}, {'tweetID': 1326895666963083267, 'text': 'nOt To sOuNd AnTiVaX pErO...', 'tokens': ['sound', 'antivax', 'pero'], 'username': 'kdecasillas', 'date': 'Thu Nov 12 14:32:34 0000 2020', 'hashtags': [], 'likes': 0, 'rt_count': 0, 'urlsList': []}, {'tweetID': 1326893496502906887, 'text': 'Mobile Suit Gundam Hathaway Part 1 movie will now be coming out May 7, 2021.\\n\\nThe film was originally delayed due t… https://t.co/8lSPapMNdD', 'tokens': ['mobil', 'suit', 'gundam', 'hathaway', 'part', '1', 'movi', 'come', 'may', '7', '2021', 'film', 'origin', 'delay', 'due', 't…', 'httpstco8lspapmndd'], 'username': 'AniTrendz', 'date': 'Thu Nov 12 14:32:34 0000 2020', 'hashtags': [], 'likes': 74, 'rt_count': 19, 'urlsList': ['https://t.co/8lSPapMNdD']}, {'tweetID': 1325840659287334917, 'text': 'A child passed away bc they kept schools open. 0 media coverage and this happened 6 days ago. This government is ev… https://t.co/InhmhQccXn', 'tokens': ['child', 'pass', 'away', 'bc', 'kept', 'school', 'open', '0', 'media', 'coverag', 'happen', '6', 'day', 'ago', 'govern', 'ev…', 'httpstcoinhmhqccxn'], 'username': 'AFCD0N', 'date': 'Thu Nov 12 14:32:34 0000 2020', 'hashtags': [], 'likes': 154663, 'rt_count': 58285, 'urlsList': ['https://t.co/InhmhQccXn']}, {'tweetID': 1326889071231307782, 'text': 'You may remember reading about the claim brought by @CarolineLucas, @Debbie_abrahams and @LaylaMoran about the Gove… https://t.co/xeg6udKwes', 'tokens': ['may', 'rememb', 'read', 'claim', 'brought', 'carolineluca', 'debbieabraham', 'laylamoran', 'gove…', 'httpstcoxeg6udkw'], 'username': 'JolyonMaugham', 'date': 'Thu Nov 12 14:32:34 0000 2020', 'hashtags': [], 'likes': 385, 'rt_count': 143, 'urlsList': ['https://t.co/xeg6udKwes']}, {'tweetID': 1326895667550318597, 'text': 'This country is ridiculous', 'tokens': ['countri', 'ridicul'], 'username': '1KFrazier', 'date': 'Thu Nov 12 14:32:34 0000 2020', 'hashtags': [], 'likes': 0, 'rt_count': 0, 'urlsList': []}, {'tweetID': 1326892107123060736, 'text': '‘A HUGE BLOW’: NY Restaurant Group Rip Cuomo’s CoVID Crackdown, Says ‘Huge Blow’ to Business https://t.co/GX6RwsyEJ2', 'tokens': ['‘a', 'huge', 'blow’', 'ny', 'restaur', 'group', 'rip', 'cuomo’', 'covid', 'crackdown', 'say', '‘huge', 'blow’', 'busi', 'httpstcogx6rwsyej2'], 'username': 'seanhannity', 'date': 'Thu Nov 12 14:32:34 0000 2020', 'hashtags': [], 'likes': 1644, 'rt_count': 374, 'urlsList': ['https://t.co/GX6RwsyEJ2']}, {'tweetID': 1326888562126680066, 'text': 'Joe Biden is talking about shutting down the ENTIRE Country for SIX WEEKS due to 😱COVID😱\\n\\nSo if Joe Biden were to w… https://t.co/m0kaBducUU', 'tokens': ['joe', 'biden', 'talk', 'shut', 'entir', 'countri', 'six', 'week', 'due', '😱covid😱', 'joe', 'biden', 'w…', 'httpstcom0kabducuu'], 'username': 'DonnaWR8', 'date': 'Thu Nov 12 14:32:34 0000 2020', 'hashtags': [], 'likes': 184, 'rt_count': 86, 'urlsList': ['https://t.co/m0kaBducUU']}, {'tweetID': 1326831574336167936, 'text': 'COVID is being used as the vehicle to transform humanity\\n\\nAccelerating UN Agenda 21\\n\\nInto a new system of slavery w… https://t.co/hCKjL8pUTP', 'tokens': ['covid', 'use', 'vehicl', 'transform', 'human', 'acceler', 'un', 'agenda', '21', 'new', 'system', 'slaveri', 'w…', 'httpstcohckjl8putp'], 'username': 'o_rips', 'date': 'Thu Nov 12 14:32:34 0000 2020', 'hashtags': [], 'likes': 1252, 'rt_count': 420, 'urlsList': ['https://t.co/hCKjL8pUTP']}, {'tweetID': 1326895667902623745, 'text': '.@wtov9: COVID Czar: West Virginia sets record for positive #COVID19 tests:  https://t.co/wuQMwM6IAn', 'tokens': ['wtov9', 'covid', 'czar', 'west', 'virginia', 'set', 'record', 'posit', 'covid19', 'test', 'httpstcowuqmwm6ian'], 'username': 'KevinOlivasMedi', 'date': 'Thu Nov 12 14:32:34 0000 2020', 'hashtags': ['COVID19'], 'likes': 0, 'rt_count': 0, 'urlsList': ['https://t.co/wuQMwM6IAn']}, {'tweetID': 1326778404990021632, 'text': '4/ Of course, we did those in the past, but run for office and street rally should not be the two only way of demon… https://t.co/Lq5eqwSGLb', 'tokens': ['4', 'cours', 'past', 'run', 'offic', 'street', 'ralli', 'two', 'way', 'demon…', 'httpstcolq5eqwsglb'], 'username': 'joshuawongcf', 'date': 'Thu Nov 12 14:32:34 0000 2020', 'hashtags': [], 'likes': 110, 'rt_count': 58, 'urlsList': ['https://t.co/Lq5eqwSGLb']}, {'tweetID': 1326853938117705728, 'text': 'Was at my Doctor yesterday\\n\\nHe asked me if I wanted a FLU SHOT ???\\n\\nI ANSWERED WHY, I HEAR ZERO REPORTS ON THE FLU… https://t.co/U9dS6fuDpz', 'tokens': ['doctor', 'yesterday', 'ask', 'want', 'flu', 'shot', 'answer', 'hear', 'zero', 'report', 'flu…', 'httpstcou9ds6fudpz'], 'username': 'sidney_chest', 'date': 'Thu Nov 12 14:32:34 0000 2020', 'hashtags': [], 'likes': 382, 'rt_count': 214, 'urlsList': ['https://t.co/U9dS6fuDpz']}, {'tweetID': 1326782048640651265, 'text': 'How grocery stores are preparing for the next wave of Covid-19 panic buying. https://t.co/oVBZl45eq4 - @TODAYshow', 'tokens': ['groceri', 'store', 'prepar', 'next', 'wave', 'covid19', 'panic', 'buy', 'httpstcoovbzl45eq4', 'todayshow'], 'username': 'NBCNews', 'date': 'Thu Nov 12 14:32:34 0000 2020', 'hashtags': [], 'likes': 125, 'rt_count': 43, 'urlsList': ['https://t.co/oVBZl45eq4']}, {'tweetID': 1326895668212985857, 'text': '@thehill not sen kelly \"covid insider trading\" loeffler!', 'tokens': ['thehil', 'sen', 'kelli', 'covid', 'insid', 'trade', 'loeffler'], 'username': 'k8bushofficial', 'date': 'Thu Nov 12 14:32:34 0000 2020', 'hashtags': [], 'likes': 0, 'rt_count': 0, 'urlsList': []}, {'tweetID': 1326893979552636929, 'text': 'If these fuckers touch our savings, it’ll be time for a Million AR March on DC.', 'tokens': ['fucker', 'touch', 'save', 'it’ll', 'time', 'million', 'ar', 'march', 'dc'], 'username': 'E__Strobel', 'date': 'Thu Nov 12 14:32:34 0000 2020', 'hashtags': [], 'likes': 3, 'rt_count': 1, 'urlsList': []}, {'tweetID': 1326895668179460096, 'text': '@realDonaldTrump @SenJohnKennedy @MariaBartiromo @TheJusticeDept It’s now time Dr.Fauci has his own news conference… https://t.co/uK5TaJGHNY', 'tokens': ['realdonaldtrump', 'senjohnkennedi', 'mariabartiromo', 'thejusticedept', 'it’', 'time', 'drfauci', 'news', 'conference…', 'httpstcouk5tajghni'], 'username': 'bravo787890', 'date': 'Thu Nov 12 14:32:34 0000 2020', 'hashtags': [], 'likes': 0, 'rt_count': 0, 'urlsList': ['https://t.co/uK5TaJGHNY']}, {'tweetID': 1326895668582100994, 'text': 'This is the first year that I have to cancel our family trip on winter vacation to Europe because of Covid....😟\\n\\nOt… https://t.co/iNNpElWHRx', 'tokens': ['first', 'year', 'cancel', 'famili', 'trip', 'winter', 'vacat', 'europ', 'covid😟', 'ot…', 'httpstcoinnpelwhrx'], 'username': 'durranisohail1', 'date': 'Thu Nov 12 14:32:34 0000 2020', 'hashtags': [], 'likes': 0, 'rt_count': 0, 'urlsList': ['https://t.co/iNNpElWHRx']}, {'tweetID': 1326889837769740289, 'text': 'COVID-19 immunity may last six months or more @JExpMed @nature https://t.co/NVOXdHqprP', 'tokens': ['covid19', 'immun', 'may', 'last', 'six', 'month', 'jexpm', 'natur', 'httpstconvoxdhqprp'], 'username': 'medical_xpress', 'date': 'Thu Nov 12 14:32:34 0000 2020', 'hashtags': [], 'likes': 25, 'rt_count': 15, 'urlsList': ['https://t.co/NVOXdHqprP']}, {'tweetID': 1326895668795904000, 'text': \"@politicalmath We're entering the part of the year where the flu epi curve really starts to take off. I expect a su… https://t.co/HbAyjyYle3\", 'tokens': ['politicalmath', 'enter', 'part', 'year', 'flu', 'epi', 'curv', 'realli', 'start', 'take', 'expect', 'su…', 'httpstcohbayjyyle3'], 'username': 'Corvaier', 'date': 'Thu Nov 12 14:32:34 0000 2020', 'hashtags': [], 'likes': 0, 'rt_count': 0, 'urlsList': ['https://t.co/HbAyjyYle3']}, {'tweetID': 1326893420921675778, 'text': 'Fundamental rule of war is to identify enemy.\\n\\nOur country is at war with Communist China. A war of good v. evil.… https://t.co/jlacXTpSgO', 'tokens': ['fundament', 'rule', 'war', 'identifi', 'enemi', 'countri', 'war', 'communist', 'china', 'war', 'good', 'v', 'evil…', 'httpstcojlacxtpsgo'], 'username': 'LLinWood', 'date': 'Thu Nov 12 14:32:34 0000 2020', 'hashtags': [], 'likes': 2108, 'rt_count': 925, 'urlsList': ['https://t.co/jlacXTpSgO']}, {'tweetID': 1326895669349638146, 'text': \"@realDonaldTrump Covid, Covid, Covid! That's why you lost. If you had fought the disease 1/10th as hard as you're f… https://t.co/crf55IIy1a\", 'tokens': ['realdonaldtrump', 'covid', 'covid', 'covid', 'that', 'lost', 'fought', 'diseas', '110th', 'hard', 'your', 'f…', 'httpstcocrf55iiy1a'], 'username': 'ILAgainstBlago', 'date': 'Thu Nov 12 14:32:34 0000 2020', 'hashtags': [], 'likes': 0, 'rt_count': 0, 'urlsList': ['https://t.co/crf55IIy1a']}, {'tweetID': 1326759740181983233, 'text': 'Hi, I got a COVID test here on Monday and this is what the line looked like then. It took me less than 20 minutes f… https://t.co/A3APwX3ZNQ', 'tokens': ['hi', 'got', 'covid', 'test', 'monday', 'line', 'look', 'like', 'took', 'less', '20', 'minut', 'f…', 'httpstcoa3apwx3znq'], 'username': 'BoobsRadley', 'date': 'Thu Nov 12 14:32:34 0000 2020', 'hashtags': [], 'likes': 33412, 'rt_count': 10085, 'urlsList': ['https://t.co/A3APwX3ZNQ']}, {'tweetID': 1326857848253534208, 'text': 'A snivelling incontinent tweet from someone who understands neither science, nor statistics.', 'tokens': ['snivel', 'incontin', 'tweet', 'someon', 'understand', 'neither', 'scienc', 'statist'], 'username': 'scratchscrotum', 'date': 'Thu Nov 12 14:32:34 0000 2020', 'hashtags': [], 'likes': 4, 'rt_count': 1, 'urlsList': []}, {'tweetID': 1326752706917101568, 'text': 'from taal, covid, lockdown, quarantine, political dispute and karon multiple typhoon is racking our nation. Grabe 2… https://t.co/xJvL77z2wl', 'tokens': ['taal', 'covid', 'lockdown', 'quarantin', 'polit', 'disput', 'karon', 'multipl', 'typhoon', 'rack', 'nation', 'grabe', '2…', 'httpstcoxjvl77z2wl'], 'username': 'beltranshein', 'date': 'Thu Nov 12 14:32:34 0000 2020', 'hashtags': [], 'likes': 11126, 'rt_count': 5020, 'urlsList': ['https://t.co/xJvL77z2wl']}, {'tweetID': 1326895669873926147, 'text': \"if the stress of trying to continue to hold onto his power makes tr*mp's covid symptoms come back that will be the funniest shit ever\", 'tokens': ['stress', 'tri', 'continu', 'hold', 'onto', 'power', 'make', 'trmp', 'covid', 'symptom', 'come', 'back', 'funniest', 'shit', 'ever'], 'username': 'bruceclarklois', 'date': 'Thu Nov 12 14:32:34 0000 2020', 'hashtags': [], 'likes': 0, 'rt_count': 0, 'urlsList': []}, {'tweetID': 1326893420921675778, 'text': 'Fundamental rule of war is to identify enemy.\\n\\nOur country is at war with Communist China. A war of good v. evil.… https://t.co/jlacXTpSgO', 'tokens': ['fundament', 'rule', 'war', 'identifi', 'enemi', 'countri', 'war', 'communist', 'china', 'war', 'good', 'v', 'evil…', 'httpstcojlacxtpsgo'], 'username': 'LLinWood', 'date': 'Thu Nov 12 14:32:34 0000 2020', 'hashtags': [], 'likes': 2108, 'rt_count': 926, 'urlsList': ['https://t.co/jlacXTpSgO']}]\n"
     ]
    }
   ],
   "source": [
    "cleanTweets = []\n",
    "\n",
    "def getRelevantInfo(tweet):\n",
    "    dictRelevantInfo ={}\n",
    "    data = json.loads(tweet)\n",
    "    hashtags = []\n",
    "    urlsList = []\n",
    "    text = ''\n",
    "    date = data['created_at'] ## ??? RT o no RT\n",
    "    try:\n",
    "        isRetweet=data[\"retweeted_status\"]\n",
    "        idTweet=isRetweet[\"id\"]\n",
    "        text = isRetweet['text']\n",
    "        username = isRetweet['user']['screen_name']\n",
    "        urls = isRetweet['entities']['urls']\n",
    "        rt_count = isRetweet['retweet_count']\n",
    "        likes = isRetweet['favorite_count']\n",
    "        \n",
    "        for h in isRetweet['entities']['hashtags']:\n",
    "            hashtags.append(h['text'])\n",
    "        for url in urls:\n",
    "            urlsList.append(url['url'])\n",
    "            \n",
    "    except:\n",
    "        idTweet=data[\"id\"]\n",
    "        text = data['text']\n",
    "        username = data['user']['screen_name']\n",
    "        urls = data['entities']['urls']\n",
    "        rt_count=data['retweet_count']\n",
    "        likes = data['favorite_count']\n",
    "        \n",
    "        for h in data['entities']['hashtags']:\n",
    "            hashtags.append(h['text'])\n",
    "            \n",
    "        for url in urls:\n",
    "            urlsList.append(url['url'])        \n",
    "            \n",
    "    dictRelevantInfo['tweetID'] = idTweet\n",
    "    dictRelevantInfo['text'] = text\n",
    "    dictRelevantInfo['tokens'] = cleanTweet(text)\n",
    "    dictRelevantInfo['username'] = username\n",
    "    dictRelevantInfo['date'] = date\n",
    "    dictRelevantInfo['hashtags'] = hashtags\n",
    "    dictRelevantInfo['likes'] = likes\n",
    "    dictRelevantInfo['rt_count'] = rt_count\n",
    "    dictRelevantInfo['urlsList'] = urlsList\n",
    "    return dictRelevantInfo\n",
    "        \n",
    "for t in tweets[0:50]:\n",
    "    cleanTweets.append(getRelevantInfo(t))\n",
    "\n",
    "print(cleanTweets)"
   ]
  },
  {
   "cell_type": "code",
   "execution_count": 111,
   "metadata": {
    "executionInfo": {
     "elapsed": 579,
     "status": "ok",
     "timestamp": 1603473436846,
     "user": {
      "displayName": "RAMON VALLÉS",
      "photoUrl": "",
      "userId": "05301961646047881826"
     },
     "user_tz": -120
    },
    "id": "j2uIObKMTAQS"
   },
   "outputs": [],
   "source": [
    "def create_index(lines):\n",
    "    \"\"\"\n",
    "    Impleent the inverted index\n",
    "    \n",
    "    Argument:\n",
    "    lines -- collection of Wikipedia articles\n",
    "    \n",
    "    Returns:\n",
    "    index - the inverted index (implemented through a python dictionary) containing terms as keys and the corresponding \n",
    "    list of document these keys appears in (and the positions) as values.\n",
    "    \"\"\"\n",
    "    index=defaultdict(list) \n",
    "    titleIndex = {} # dictionary to map page titles to page ids\n",
    "    for line in lines: # Remember, lines contain all documents, each line is a document\n",
    "        page_id = line['tweetID']\n",
    "        terms = line['tokens'] #page_title + page_text\n",
    "        title = line['text']           \n",
    "        titleIndex[page_id]=title  ## we do not need to apply get terms to title because it used only to print titles and not in the index\n",
    "        \n",
    "        ## ===============================================================        \n",
    "        ## create the index for the current doc and store it in termdictPage\n",
    "        ## termdictPage ==> { ‘term1’: [currentdoc, [list of positions]], ...,‘termn’: [currentdoc, [list of positions]]}\n",
    "        \n",
    "        ## Example: if the curr_doc has id 1 and his text is \n",
    "        ## \"web retrieval information retrieval\":\n",
    "        \n",
    "        ## termdictPage ==> { ‘web’: [1, [0]], ‘retrieval’: [1, [1,4]], ‘information’: [1, [2]]}\n",
    "        \n",
    "        ## the term ‘web’ appears in document 1 in positions 0, \n",
    "        ## the term ‘retrieval’ appears in document 1 in positions 1 and 4\n",
    "        ## ===============================================================\n",
    "        \n",
    "        termdictPage={}\n",
    "\n",
    "        for position, term in enumerate(terms): # terms contains page_title + page_text. Loop over all terms\n",
    "            try:\n",
    "                # if the term is already in the index for the current page (termdictPage)\n",
    "                # append the position to the corrisponding list\n",
    "                \n",
    "        ## START CODE\n",
    "                termdictPage[term][1].append(position)  \n",
    "            except:\n",
    "                # Add the new term as dict key and initialize the array of positions and add the position\n",
    "                termdictPage[term]=[page_id, array('I',[position])] #'I' indicates unsigned int (int in python)\n",
    "            \n",
    "        #merge the current page index with the main index\n",
    "        for termpage, postingpage in termdictPage.items():\n",
    "            index[termpage].append(postingpage)\n",
    "        \n",
    "        ## END CODE                    \n",
    "                    \n",
    "    return index, titleIndex"
   ]
  },
  {
   "cell_type": "code",
   "execution_count": 113,
   "metadata": {
    "colab": {
     "base_uri": "https://localhost:8080/",
     "height": 34
    },
    "executionInfo": {
     "elapsed": 7462,
     "status": "ok",
     "timestamp": 1603475667598,
     "user": {
      "displayName": "RAMON VALLÉS",
      "photoUrl": "",
      "userId": "05301961646047881826"
     },
     "user_tz": -120
    },
    "id": "L388FPECTAQV",
    "outputId": "2669a9b6-d767-4b78-f617-130ba69488c9"
   },
   "outputs": [
    {
     "name": "stdout",
     "output_type": "stream",
     "text": [
      "defaultdict(<class 'list'>, {'joebiden': [[1324447812818534402, array('I', [0])]], 'joe': [[1324447812818534402, array('I', [1])], [1326894774624739328, array('I', [4])], [1326888562126680066, array('I', [0, 10])]], 'biden': [[1324447812818534402, array('I', [2])], [1326894774624739328, array('I', [5])], [1326737791745744896, array('I', [6])], [1326859205807140866, array('I', [4])], [1326888562126680066, array('I', [1, 11])]], 'never': [[1324447812818534402, array('I', [3])]], 'forget': [[1324447812818534402, array('I', [4])]], 'famili': [[1324447812818534402, array('I', [5])], [1326895668582100994, array('I', [3])]], 'old': [[1324447812818534402, array('I', [6])]], 'access': [[1324447812818534402, array('I', [7])]], 'nation’': [[1324447812818534402, array('I', [8])]], 'secur': [[1324447812818534402, array('I', [9])]], 'china': [[1324447812818534402, array('I', [10])], [1326893420921675778, array('I', [8])], [1326893420921675778, array('I', [8])]], 'ukrain': [[1324447812818534402, array('I', [11])]], 'r…': [[1324447812818534402, array('I', [12])], [1326737791745744896, array('I', [10])]], 'httpstcowxqquib4in': [[1324447812818534402, array('I', [13])]], 'humanitarian': [[1326894194607132672, array('I', [0])], [1326894194607132672, array('I', [0])]], 'disast': [[1326894194607132672, array('I', [1])], [1326894194607132672, array('I', [1])]], 'drsanjaygupta': [[1326894194607132672, array('I', [2])], [1326894194607132672, array('I', [2])]], 'cnn': [[1326894194607132672, array('I', [3])], [1326894194607132672, array('I', [3])]], 'refer': [[1326894194607132672, array('I', [4])], [1326894194607132672, array('I', [4])]], 'state': [[1326894194607132672, array('I', [5])], [1326894194607132672, array('I', [5])]], 'covid19': [[1326894194607132672, array('I', [6])], [1326893960778952704, array('I', [14])], [1326571572237373445, array('I', [9])], [1326894774624739328, array('I', [6])], [1326894194607132672, array('I', [6])], [1326895667902623745, array('I', [8])], [1326782048640651265, array('I', [5])], [1326889837769740289, array('I', [0])]], 'us': [[1326894194607132672, array('I', [7])], [1326571572237373445, array('I', [0])], [1326894774624739328, array('I', [10])], [1326894194607132672, array('I', [7])]], 'he': [[1326894194607132672, array('I', [8])], [1326894194607132672, array('I', [8])]], 'righ…': [[1326894194607132672, array('I', [9])], [1326894194607132672, array('I', [9])]], 'httpstcoesswjyzq': [[1326894194607132672, array('I', [10])], [1326894194607132672, array('I', [10])]], 'brown': [[1326893960778952704, array('I', [0])]], 'hotel': [[1326893960778952704, array('I', [1])]], 'pivot': [[1326893960778952704, array('I', [2])]], 'longer': [[1326893960778952704, array('I', [3])]], 'term': [[1326893960778952704, array('I', [4])]], 'rental': [[1326893960778952704, array('I', [5])]], 'httpstco6lt21aaift': [[1326893960778952704, array('I', [6])]], '|': [[1326893960778952704, array('I', [7])]], 'via': [[1326893960778952704, array('I', [8])]], 'globesenglish': [[1326893960778952704, array('I', [9])]], 'travel': [[1326893960778952704, array('I', [10])]], 'israel': [[1326893960778952704, array('I', [11])]], 'telaviv': [[1326893960778952704, array('I', [12])]], 'jerusalem': [[1326893960778952704, array('I', [13])]], 'covid': [[1326888003990679552, array('I', [0])], [1326560387781828608, array('I', [11])], [1326895665662844928, array('I', [2])], [1326895665419579395, array('I', [10])], [1326871083220430853, array('I', [9])], [1326891257076002816, array('I', [0])], [1326859205807140866, array('I', [0])], [1326868965587496966, array('I', [0])], [1326892107123060736, array('I', [8])], [1326831574336167936, array('I', [0])], [1326895667902623745, array('I', [1])], [1326895668212985857, array('I', [3])], [1326895669349638146, array('I', [1, 2, 3])], [1326759740181983233, array('I', [2])], [1326752706917101568, array('I', [1])], [1326895669873926147, array('I', [8])]], 'fight': [[1326888003990679552, array('I', [1])]], 'harm': [[1326888003990679552, array('I', [2])]], 'uk': [[1326888003990679552, array('I', [3])]], 'crash': [[1326888003990679552, array('I', [4])]], 'eu': [[1326888003990679552, array('I', [5])]], 'scheme': [[1326888003990679552, array('I', [6])]], 'warn': [[1326888003990679552, array('I', [7])]], 'nobel': [[1326888003990679552, array('I', [8])]], 'laureat': [[1326888003990679552, array('I', [9])]], 'httpstcoqhpljysksi': [[1326888003990679552, array('I', [10])]], 'continu': [[1326571572237373445, array('I', [1])], [1326895669873926147, array('I', [2])]], 'work': [[1326571572237373445, array('I', [2])]], 'record': [[1326571572237373445, array('I', [3])], [1326895667902623745, array('I', [6])]], 'speed': [[1326571572237373445, array('I', [4])]], 'develop': [[1326571572237373445, array('I', [5])], [1326895665419579395, array('I', [1])]], 'effect': [[1326571572237373445, array('I', [6])]], 'vaccin': [[1326571572237373445, array('I', [7])]], 'treatment': [[1326571572237373445, array('I', [8])]], 'week…': [[1326571572237373445, array('I', [10])], [1326859205807140866, array('I', [10])]], 'httpstcoojn1bslq8b': [[1326571572237373445, array('I', [11])]], 'report': [[1326895664861745155, array('I', [0])], [1326853938117705728, array('I', [9])]], 'suicid': [[1326895664861745155, array('I', [1])]], 'behaviour': [[1326895664861745155, array('I', [2])]], 'covid19—ne': [[1326895664861745155, array('I', [3])]], 'caution': [[1326895664861745155, array('I', [4])]], 'httpstco7rmincnjoi': [[1326895664861745155, array('I', [5])]], 'donald': [[1326890026983108612, array('I', [0])]], 'trump': [[1326890026983108612, array('I', [1])]], 'given': [[1326890026983108612, array('I', [2])]], 'time': [[1326890026983108612, array('I', [3])], [1326893979552636929, array('I', [4])], [1326895668179460096, array('I', [5])]], 'get': [[1326890026983108612, array('I', [4])], [1326895665255833600, array('I', [4])], [1326893570838704128, array('I', [5])]], 'use': [[1326890026983108612, array('I', [5])], [1326831574336167936, array('I', [1])]], 'idea': [[1326890026983108612, array('I', [6])]], 'lost': [[1326890026983108612, array('I', [7])], [1326895669349638146, array('I', [5])]], 'elect': [[1326890026983108612, array('I', [8])], [1326859205807140866, array('I', [6])]], 'meanwhil': [[1326890026983108612, array('I', [9])]], '100000': [[1326890026983108612, array('I', [10])]], 'a…': [[1326890026983108612, array('I', [11])]], 'httpstcok5iidhgbo4': [[1326890026983108612, array('I', [12])]], 'judyb1313': [[1326560387781828608, array('I', [0])]], 'bw': [[1326560387781828608, array('I', [1])]], 'think': [[1326560387781828608, array('I', [2, 6])]], 'alreadi': [[1326560387781828608, array('I', [3])]], 'pain': [[1326560387781828608, array('I', [4])]], 'specialist': [[1326560387781828608, array('I', [5])]], 'im': [[1326560387781828608, array('I', [7])]], 'go': [[1326560387781828608, array('I', [8])], [1326895665255833600, array('I', [3])], [1326891257076002816, array('I', [3])]], 'hit': [[1326560387781828608, array('I', [9])]], 'long': [[1326560387781828608, array('I', [10])]], 'board…': [[1326560387781828608, array('I', [12])]], 'httpstcoanvwcacp1o': [[1326560387781828608, array('I', [13])]], 'faker': [[1326895665176342528, array('I', [0])]], 'amp': [[1326895665176342528, array('I', [1, 3])], [1326895666069725184, array('I', [8])]], 'fraud': [[1326895665176342528, array('I', [2])]], 'cheater': [[1326895665176342528, array('I', [4])]], 'parti': [[1326895665176342528, array('I', [5, 9])]], 'live': [[1326895665176342528, array('I', [6])], [1326868965587496966, array('I', [3])]], 'world': [[1326895665176342528, array('I', [7])]], 'democrat': [[1326895665176342528, array('I', [8])]], 'usa': [[1326895665176342528, array('I', [10])]], 'type': [[1326895665176342528, array('I', [11])]], 'i…': [[1326895665176342528, array('I', [12])]], 'httpstcodb1tibjfzj': [[1326895665176342528, array('I', [13])]], 'dr': [[1326894774624739328, array('I', [0])], [1326895665419579395, array('I', [4])]], 'celinegound': [[1326894774624739328, array('I', [1])]], 'member': [[1326894774624739328, array('I', [2])]], 'presidentelect': [[1326894774624739328, array('I', [3])]], 'advisori': [[1326894774624739328, array('I', [7])]], 'board': [[1326894774624739328, array('I', [8])]], 'join': [[1326894774624739328, array('I', [9])]], 'discuss': [[1326894774624739328, array('I', [11])]], 'record…': [[1326894774624739328, array('I', [12])]], 'httpstcocwokgxhxq': [[1326894774624739328, array('I', [13])]], 'prepar': [[1326892967668326400, array('I', [0])], [1326782048640651265, array('I', [2])]], 'statewid': [[1326892967668326400, array('I', [1])]], 'shelter': [[1326892967668326400, array('I', [2])]], 'place': [[1326892967668326400, array('I', [3])]], 'order': [[1326892967668326400, array('I', [4])]], 'httpstcoswxw3eljs5': [[1326892967668326400, array('I', [5])]], 'doubl': [[1326895665255833600, array('I', [0])]], '10': [[1326895665255833600, array('I', [1])]], 'day': [[1326895665255833600, array('I', [2])], [1325840659287334917, array('I', [12])]], 'better': [[1326895665255833600, array('I', [5])]], 'come': [[1326895665255833600, array('I', [6])], [1326893496502906887, array('I', [7])], [1326895669873926147, array('I', [10])]], 'week': [[1326895665255833600, array('I', [7])], [1326888562126680066, array('I', [7])]], 'much': [[1326895665255833600, array('I', [8])]], 'wors': [[1326895665255833600, array('I', [9])]], 'mask': [[1326895665255833600, array('I', [10])]], 'ppl': [[1326895665255833600, array('I', [11])]], 'stay': [[1326895665255833600, array('I', [12])]], 'home': [[1326895665255833600, array('I', [13])]], 'when…': [[1326895665255833600, array('I', [14])]], 'httpstcojnproxz5b8': [[1326895665255833600, array('I', [15])]], 'new': [[1326737791745744896, array('I', [0])], [1326831574336167936, array('I', [9])]], 'coronaviru': [[1326737791745744896, array('I', [1])]], 'stimulu': [[1326737791745744896, array('I', [2])]], 'packag': [[1326737791745744896, array('I', [3])]], 'look': [[1326737791745744896, array('I', [4])], [1326759740181983233, array('I', [6])]], 'unlik': [[1326737791745744896, array('I', [5])]], 'administr': [[1326737791745744896, array('I', [7])]], 'american': [[1326737791745744896, array('I', [8])], [1326879527260315648, array('I', [6])]], 'understand': [[1326737791745744896, array('I', [9])], [1326857848253534208, array('I', [4])]], 'httpstcoeepsbnnetf': [[1326737791745744896, array('I', [11])]], '8': [[1326895665662844928, array('I', [0])]], 'peopl': [[1326895665662844928, array('I', [1])], [1326437806533537794, array('I', [3])]], 'wish': [[1326893570838704128, array('I', [0])]], 'speedi': [[1326893570838704128, array('I', [1])]], 'recoveri': [[1326893570838704128, array('I', [2])]], 'pilot': [[1326893570838704128, array('I', [3])]], 'ji': [[1326893570838704128, array('I', [4])]], 'well': [[1326893570838704128, array('I', [6])]], 'soon': [[1326893570838704128, array('I', [7])]], '💐': [[1326893570838704128, array('I', [8])]], 'good': [[1326879527260315648, array('I', [0])], [1326893420921675778, array('I', [10])], [1326893420921675778, array('I', [10])]], 'morn': [[1326879527260315648, array('I', [1])]], 'bless': [[1326879527260315648, array('I', [2, 5, 7])]], 'wake': [[1326879527260315648, array('I', [3])]], 'america': [[1326879527260315648, array('I', [4])]], 'f…': [[1326879527260315648, array('I', [8])], [1326895669349638146, array('I', [11])], [1326759740181983233, array('I', [12])]], 'httpstcov7khekt0y3': [[1326879527260315648, array('I', [9])]], 'latest': [[1326895665419579395, array('I', [0])]], 'holynamemedctr': [[1326895665419579395, array('I', [2])]], 'cmo': [[1326895665419579395, array('I', [3])]], 'adam': [[1326895665419579395, array('I', [5])]], 'jarrett': [[1326895665419579395, array('I', [6])]], '1': [[1326895665419579395, array('I', [7])], [1326893496502906887, array('I', [5])]], 'recent': [[1326895665419579395, array('I', [8])]], 'spike': [[1326895665419579395, array('I', [9])]], 'patient': [[1326895665419579395, array('I', [11])], [1326891257076002816, array('I', [1])]], 'link': [[1326895665419579395, array('I', [12])]], 'hallow…': [[1326895665419579395, array('I', [13])]], 'httpstcosrlvxutb3j': [[1326895665419579395, array('I', [14])]], 'reckless': [[1326871083220430853, array('I', [0])]], 'journal': [[1326871083220430853, array('I', [1])]], 'news': [[1326871083220430853, array('I', [2])], [1326895668179460096, array('I', [7])]], 'org': [[1326871083220430853, array('I', [3])]], 'need': [[1326871083220430853, array('I', [4])]], 'stop': [[1326871083220430853, array('I', [5])]], 'particip': [[1326871083220430853, array('I', [6])]], 'rehabilit': [[1326871083220430853, array('I', [7])]], 'racist': [[1326871083220430853, array('I', [8])]], 'denier…': [[1326871083220430853, array('I', [10])]], 'httpstcoqi7hxuf7qk': [[1326871083220430853, array('I', [11])]], 'vote': [[1326895666069725184, array('I', [0])], [1326437806533537794, array('I', [6])]], 'texti': [[1326895666069725184, array('I', [1])]], 'safer': [[1326895666069725184, array('I', [2])]], 'goplead': [[1326895666069725184, array('I', [3])]], 'republican': [[1326895666069725184, array('I', [4])]], 'honor': [[1326895666069725184, array('I', [5])]], 'advic': [[1326895666069725184, array('I', [6])]], 'doctor': [[1326895666069725184, array('I', [7])], [1326853938117705728, array('I', [0])]], 'scientist': [[1326895666069725184, array('I', [9])]], 'on…': [[1326895666069725184, array('I', [10])]], 'httpstcot0qhvssyqq': [[1326895666069725184, array('I', [11])]], 'told': [[1326891257076002816, array('I', [2])]], 'throw': [[1326891257076002816, array('I', [4])]], 'bodi': [[1326891257076002816, array('I', [5])]], 'pile': [[1326891257076002816, array('I', [6])]], 'hospit': [[1326891257076002816, array('I', [7])]], 'bed': [[1326891257076002816, array('I', [8])]], 'freed': [[1326891257076002816, array('I', [9])]], 'httpstcor5g7pwhcvp': [[1326891257076002816, array('I', [10])]], 'httpstcolxvkttezlx': [[1326891257076002816, array('I', [11])]], '7334brightlight': [[1326895666438811651, array('I', [0])]], 'keepitrealtj': [[1326895666438811651, array('I', [1])]], 'killaudeepst': [[1326895666438811651, array('I', [2])]], 'wartimegirl': [[1326895666438811651, array('I', [3])]], 'great': [[1326895666438811651, array('I', [4])]], 'reset': [[1326895666438811651, array('I', [5])]], 'basic': [[1326895666438811651, array('I', [6])]], 'recov': [[1326895666438811651, array('I', [7])]], 'the…': [[1326895666438811651, array('I', [8])]], 'httpstcorc6oiywy07': [[1326895666438811651, array('I', [9])]], 'wth': [[1326437806533537794, array('I', [0])]], '10000': [[1326437806533537794, array('I', [1])]], 'dead': [[1326437806533537794, array('I', [2])]], 'return': [[1326437806533537794, array('I', [4])]], 'mailinballot': [[1326437806533537794, array('I', [5])]], 'michigan': [[1326437806533537794, array('I', [7])]], 'accord': [[1326437806533537794, array('I', [8])]], 'analysis…': [[1326437806533537794, array('I', [9])]], 'httpstcoxdexfxoj2n': [[1326437806533537794, array('I', [10])]], 'lull': [[1326859205807140866, array('I', [1])]], 'mani': [[1326859205807140866, array('I', [2])]], 'sleep': [[1326859205807140866, array('I', [3])]], 'instal': [[1326859205807140866, array('I', [5])]], 'presid': [[1326859205807140866, array('I', [7])]], 'implement': [[1326859205807140866, array('I', [8])]], '46': [[1326859205807140866, array('I', [9])]], 'httpstcozntau2pzrb': [[1326859205807140866, array('I', [11])]], 'play': [[1326868965587496966, array('I', [1])]], 'basketbal': [[1326868965587496966, array('I', [2])]], 'believ': [[1326868965587496966, array('I', [4])]], 'love': [[1326868965587496966, array('I', [5])]], 'littl': [[1326868965587496966, array('I', [6])]], 'tour': [[1326868965587496966, array('I', [7])]], 'shall': [[1326868965587496966, array('I', [8])]], 'see': [[1326868965587496966, array('I', [9])]], 'light': [[1326868965587496966, array('I', [10])]], 'day…': [[1326868965587496966, array('I', [11])]], 'httpstcon52f9nzsx4': [[1326868965587496966, array('I', [12])]], 'sound': [[1326895666963083267, array('I', [0])]], 'antivax': [[1326895666963083267, array('I', [1])]], 'pero': [[1326895666963083267, array('I', [2])]], 'mobil': [[1326893496502906887, array('I', [0])]], 'suit': [[1326893496502906887, array('I', [1])]], 'gundam': [[1326893496502906887, array('I', [2])]], 'hathaway': [[1326893496502906887, array('I', [3])]], 'part': [[1326893496502906887, array('I', [4])], [1326895668795904000, array('I', [2])]], 'movi': [[1326893496502906887, array('I', [6])]], 'may': [[1326893496502906887, array('I', [8])], [1326889071231307782, array('I', [0])], [1326889837769740289, array('I', [2])]], '7': [[1326893496502906887, array('I', [9])]], '2021': [[1326893496502906887, array('I', [10])]], 'film': [[1326893496502906887, array('I', [11])]], 'origin': [[1326893496502906887, array('I', [12])]], 'delay': [[1326893496502906887, array('I', [13])]], 'due': [[1326893496502906887, array('I', [14])], [1326888562126680066, array('I', [8])]], 't…': [[1326893496502906887, array('I', [15])]], 'httpstco8lspapmndd': [[1326893496502906887, array('I', [16])]], 'child': [[1325840659287334917, array('I', [0])]], 'pass': [[1325840659287334917, array('I', [1])]], 'away': [[1325840659287334917, array('I', [2])]], 'bc': [[1325840659287334917, array('I', [3])]], 'kept': [[1325840659287334917, array('I', [4])]], 'school': [[1325840659287334917, array('I', [5])]], 'open': [[1325840659287334917, array('I', [6])]], '0': [[1325840659287334917, array('I', [7])]], 'media': [[1325840659287334917, array('I', [8])]], 'coverag': [[1325840659287334917, array('I', [9])]], 'happen': [[1325840659287334917, array('I', [10])]], '6': [[1325840659287334917, array('I', [11])]], 'ago': [[1325840659287334917, array('I', [13])]], 'govern': [[1325840659287334917, array('I', [14])]], 'ev…': [[1325840659287334917, array('I', [15])]], 'httpstcoinhmhqccxn': [[1325840659287334917, array('I', [16])]], 'rememb': [[1326889071231307782, array('I', [1])]], 'read': [[1326889071231307782, array('I', [2])]], 'claim': [[1326889071231307782, array('I', [3])]], 'brought': [[1326889071231307782, array('I', [4])]], 'carolineluca': [[1326889071231307782, array('I', [5])]], 'debbieabraham': [[1326889071231307782, array('I', [6])]], 'laylamoran': [[1326889071231307782, array('I', [7])]], 'gove…': [[1326889071231307782, array('I', [8])]], 'httpstcoxeg6udkw': [[1326889071231307782, array('I', [9])]], 'countri': [[1326895667550318597, array('I', [0])], [1326888562126680066, array('I', [5])], [1326893420921675778, array('I', [5])], [1326893420921675778, array('I', [5])]], 'ridicul': [[1326895667550318597, array('I', [1])]], '‘a': [[1326892107123060736, array('I', [0])]], 'huge': [[1326892107123060736, array('I', [1])]], 'blow’': [[1326892107123060736, array('I', [2, 12])]], 'ny': [[1326892107123060736, array('I', [3])]], 'restaur': [[1326892107123060736, array('I', [4])]], 'group': [[1326892107123060736, array('I', [5])]], 'rip': [[1326892107123060736, array('I', [6])]], 'cuomo’': [[1326892107123060736, array('I', [7])]], 'crackdown': [[1326892107123060736, array('I', [9])]], 'say': [[1326892107123060736, array('I', [10])]], '‘huge': [[1326892107123060736, array('I', [11])]], 'busi': [[1326892107123060736, array('I', [13])]], 'httpstcogx6rwsyej2': [[1326892107123060736, array('I', [14])]], 'talk': [[1326888562126680066, array('I', [2])]], 'shut': [[1326888562126680066, array('I', [3])]], 'entir': [[1326888562126680066, array('I', [4])]], 'six': [[1326888562126680066, array('I', [6])], [1326889837769740289, array('I', [4])]], '😱covid😱': [[1326888562126680066, array('I', [9])]], 'w…': [[1326888562126680066, array('I', [12])], [1326831574336167936, array('I', [12])]], 'httpstcom0kabducuu': [[1326888562126680066, array('I', [13])]], 'vehicl': [[1326831574336167936, array('I', [2])]], 'transform': [[1326831574336167936, array('I', [3])]], 'human': [[1326831574336167936, array('I', [4])]], 'acceler': [[1326831574336167936, array('I', [5])]], 'un': [[1326831574336167936, array('I', [6])]], 'agenda': [[1326831574336167936, array('I', [7])]], '21': [[1326831574336167936, array('I', [8])]], 'system': [[1326831574336167936, array('I', [10])]], 'slaveri': [[1326831574336167936, array('I', [11])]], 'httpstcohckjl8putp': [[1326831574336167936, array('I', [13])]], 'wtov9': [[1326895667902623745, array('I', [0])]], 'czar': [[1326895667902623745, array('I', [2])]], 'west': [[1326895667902623745, array('I', [3])]], 'virginia': [[1326895667902623745, array('I', [4])]], 'set': [[1326895667902623745, array('I', [5])]], 'posit': [[1326895667902623745, array('I', [7])]], 'test': [[1326895667902623745, array('I', [9])], [1326759740181983233, array('I', [3])]], 'httpstcowuqmwm6ian': [[1326895667902623745, array('I', [10])]], '4': [[1326778404990021632, array('I', [0])]], 'cours': [[1326778404990021632, array('I', [1])]], 'past': [[1326778404990021632, array('I', [2])]], 'run': [[1326778404990021632, array('I', [3])]], 'offic': [[1326778404990021632, array('I', [4])]], 'street': [[1326778404990021632, array('I', [5])]], 'ralli': [[1326778404990021632, array('I', [6])]], 'two': [[1326778404990021632, array('I', [7])]], 'way': [[1326778404990021632, array('I', [8])]], 'demon…': [[1326778404990021632, array('I', [9])]], 'httpstcolq5eqwsglb': [[1326778404990021632, array('I', [10])]], 'yesterday': [[1326853938117705728, array('I', [1])]], 'ask': [[1326853938117705728, array('I', [2])]], 'want': [[1326853938117705728, array('I', [3])]], 'flu': [[1326853938117705728, array('I', [4])], [1326895668795904000, array('I', [4])]], 'shot': [[1326853938117705728, array('I', [5])]], 'answer': [[1326853938117705728, array('I', [6])]], 'hear': [[1326853938117705728, array('I', [7])]], 'zero': [[1326853938117705728, array('I', [8])]], 'flu…': [[1326853938117705728, array('I', [10])]], 'httpstcou9ds6fudpz': [[1326853938117705728, array('I', [11])]], 'groceri': [[1326782048640651265, array('I', [0])]], 'store': [[1326782048640651265, array('I', [1])]], 'next': [[1326782048640651265, array('I', [3])]], 'wave': [[1326782048640651265, array('I', [4])]], 'panic': [[1326782048640651265, array('I', [6])]], 'buy': [[1326782048640651265, array('I', [7])]], 'httpstcoovbzl45eq4': [[1326782048640651265, array('I', [8])]], 'todayshow': [[1326782048640651265, array('I', [9])]], 'thehil': [[1326895668212985857, array('I', [0])]], 'sen': [[1326895668212985857, array('I', [1])]], 'kelli': [[1326895668212985857, array('I', [2])]], 'insid': [[1326895668212985857, array('I', [4])]], 'trade': [[1326895668212985857, array('I', [5])]], 'loeffler': [[1326895668212985857, array('I', [6])]], 'fucker': [[1326893979552636929, array('I', [0])]], 'touch': [[1326893979552636929, array('I', [1])]], 'save': [[1326893979552636929, array('I', [2])]], 'it’ll': [[1326893979552636929, array('I', [3])]], 'million': [[1326893979552636929, array('I', [5])]], 'ar': [[1326893979552636929, array('I', [6])]], 'march': [[1326893979552636929, array('I', [7])]], 'dc': [[1326893979552636929, array('I', [8])]], 'realdonaldtrump': [[1326895668179460096, array('I', [0])], [1326895669349638146, array('I', [0])]], 'senjohnkennedi': [[1326895668179460096, array('I', [1])]], 'mariabartiromo': [[1326895668179460096, array('I', [2])]], 'thejusticedept': [[1326895668179460096, array('I', [3])]], 'it’': [[1326895668179460096, array('I', [4])]], 'drfauci': [[1326895668179460096, array('I', [6])]], 'conference…': [[1326895668179460096, array('I', [8])]], 'httpstcouk5tajghni': [[1326895668179460096, array('I', [9])]], 'first': [[1326895668582100994, array('I', [0])]], 'year': [[1326895668582100994, array('I', [1])], [1326895668795904000, array('I', [3])]], 'cancel': [[1326895668582100994, array('I', [2])]], 'trip': [[1326895668582100994, array('I', [4])]], 'winter': [[1326895668582100994, array('I', [5])]], 'vacat': [[1326895668582100994, array('I', [6])]], 'europ': [[1326895668582100994, array('I', [7])]], 'covid😟': [[1326895668582100994, array('I', [8])]], 'ot…': [[1326895668582100994, array('I', [9])]], 'httpstcoinnpelwhrx': [[1326895668582100994, array('I', [10])]], 'immun': [[1326889837769740289, array('I', [1])]], 'last': [[1326889837769740289, array('I', [3])]], 'month': [[1326889837769740289, array('I', [5])]], 'jexpm': [[1326889837769740289, array('I', [6])]], 'natur': [[1326889837769740289, array('I', [7])]], 'httpstconvoxdhqprp': [[1326889837769740289, array('I', [8])]], 'politicalmath': [[1326895668795904000, array('I', [0])]], 'enter': [[1326895668795904000, array('I', [1])]], 'epi': [[1326895668795904000, array('I', [5])]], 'curv': [[1326895668795904000, array('I', [6])]], 'realli': [[1326895668795904000, array('I', [7])]], 'start': [[1326895668795904000, array('I', [8])]], 'take': [[1326895668795904000, array('I', [9])]], 'expect': [[1326895668795904000, array('I', [10])]], 'su…': [[1326895668795904000, array('I', [11])]], 'httpstcohbayjyyle3': [[1326895668795904000, array('I', [12])]], 'fundament': [[1326893420921675778, array('I', [0])], [1326893420921675778, array('I', [0])]], 'rule': [[1326893420921675778, array('I', [1])], [1326893420921675778, array('I', [1])]], 'war': [[1326893420921675778, array('I', [2, 6, 9])], [1326893420921675778, array('I', [2, 6, 9])]], 'identifi': [[1326893420921675778, array('I', [3])], [1326893420921675778, array('I', [3])]], 'enemi': [[1326893420921675778, array('I', [4])], [1326893420921675778, array('I', [4])]], 'communist': [[1326893420921675778, array('I', [7])], [1326893420921675778, array('I', [7])]], 'v': [[1326893420921675778, array('I', [11])], [1326893420921675778, array('I', [11])]], 'evil…': [[1326893420921675778, array('I', [12])], [1326893420921675778, array('I', [12])]], 'httpstcojlacxtpsgo': [[1326893420921675778, array('I', [13])], [1326893420921675778, array('I', [13])]], 'that': [[1326895669349638146, array('I', [4])]], 'fought': [[1326895669349638146, array('I', [6])]], 'diseas': [[1326895669349638146, array('I', [7])]], '110th': [[1326895669349638146, array('I', [8])]], 'hard': [[1326895669349638146, array('I', [9])]], 'your': [[1326895669349638146, array('I', [10])]], 'httpstcocrf55iiy1a': [[1326895669349638146, array('I', [12])]], 'hi': [[1326759740181983233, array('I', [0])]], 'got': [[1326759740181983233, array('I', [1])]], 'monday': [[1326759740181983233, array('I', [4])]], 'line': [[1326759740181983233, array('I', [5])]], 'like': [[1326759740181983233, array('I', [7])]], 'took': [[1326759740181983233, array('I', [8])]], 'less': [[1326759740181983233, array('I', [9])]], '20': [[1326759740181983233, array('I', [10])]], 'minut': [[1326759740181983233, array('I', [11])]], 'httpstcoa3apwx3znq': [[1326759740181983233, array('I', [13])]], 'snivel': [[1326857848253534208, array('I', [0])]], 'incontin': [[1326857848253534208, array('I', [1])]], 'tweet': [[1326857848253534208, array('I', [2])]], 'someon': [[1326857848253534208, array('I', [3])]], 'neither': [[1326857848253534208, array('I', [5])]], 'scienc': [[1326857848253534208, array('I', [6])]], 'statist': [[1326857848253534208, array('I', [7])]], 'taal': [[1326752706917101568, array('I', [0])]], 'lockdown': [[1326752706917101568, array('I', [2])]], 'quarantin': [[1326752706917101568, array('I', [3])]], 'polit': [[1326752706917101568, array('I', [4])]], 'disput': [[1326752706917101568, array('I', [5])]], 'karon': [[1326752706917101568, array('I', [6])]], 'multipl': [[1326752706917101568, array('I', [7])]], 'typhoon': [[1326752706917101568, array('I', [8])]], 'rack': [[1326752706917101568, array('I', [9])]], 'nation': [[1326752706917101568, array('I', [10])]], 'grabe': [[1326752706917101568, array('I', [11])]], '2…': [[1326752706917101568, array('I', [12])]], 'httpstcoxjvl77z2wl': [[1326752706917101568, array('I', [13])]], 'stress': [[1326895669873926147, array('I', [0])]], 'tri': [[1326895669873926147, array('I', [1])]], 'hold': [[1326895669873926147, array('I', [3])]], 'onto': [[1326895669873926147, array('I', [4])]], 'power': [[1326895669873926147, array('I', [5])]], 'make': [[1326895669873926147, array('I', [6])]], 'trmp': [[1326895669873926147, array('I', [7])]], 'symptom': [[1326895669873926147, array('I', [9])]], 'back': [[1326895669873926147, array('I', [11])]], 'funniest': [[1326895669873926147, array('I', [12])]], 'shit': [[1326895669873926147, array('I', [13])]], 'ever': [[1326895669873926147, array('I', [14])]]})\n",
      "{1324447812818534402: '@JoeBiden Joe Biden, we will NEVER FORGET how your family $OLD access to our nation’s security to China, Ukraine, R… https://t.co/wXQqUIB4In', 1326894194607132672: '\"This is a humanitarian disaster.\" --@drsanjaygupta @CNN referring to the state of #covid19 in the U.S. \\n\\nHe\\'s righ… https://t.co/ESSwjyzQOU', 1326893960778952704: 'Brown Hotels pivot to longer term rentals: https://t.co/6lt21AAiFT | via @GlobesEnglish #Travel #Israel #TelAviv #Jerusalem #COVID19', 1326888003990679552: 'Covid fight will be harmed if UK crashes out of EU scheme, warns Nobel Laureate https://t.co/qhplJYsKsi', 1326571572237373445: 'The U.S. is continuing to work at record speed to develop effective vaccines and treatments for #COVID19. This week… https://t.co/oJN1Bslq8B', 1326895664861745155: 'Reporting on suicidal behaviour and COVID-19—need for caution https://t.co/7rmincNjoi', 1326890026983108612: 'Donald Trump is being given time to \"get used to the idea that he lost the election.\" Meanwhile more than 100,000 A… https://t.co/K5iiDhgbo4', 1326560387781828608: \"@JudyB1313 @BW I think I already have, and it's my pain specialist. \\n\\nI think I'm going to hit the long Covid board… https://t.co/AnVWcaCP1o\", 1326895665176342528: 'Fakers &amp; Frauds &amp; Cheaters are the only Party which is living in the world is Democrat Party of USA. This type of i… https://t.co/db1TibjfZj', 1326894774624739328: \"Dr. @CelineGounder, a member of President-elect Joe Biden's #COVID19 advisory board, joins us to discuss the record… https://t.co/CWokGXHxQe\", 1326892967668326400: 'Prepare yourselves for statewide shelter in place orders https://t.co/swxW3eLjs5', 1326895665255833600: 'Doubled in 10 days. This is not going to get better in the coming weeks but much worse. Mask up ppl. Stay home when… https://t.co/JnpRoXz5B8', 1326737791745744896: 'A new coronavirus stimulus package looks unlikely until Biden administration\\n\\nWhen will Americans understand that R… https://t.co/eePsbNnETf', 1326895665662844928: 'With only 8 people because of covid', 1326893570838704128: 'Wish you a Speedy Recovery Pilot Ji. Get Well Soon. 💐', 1326879527260315648: 'Good morning!\\n\\nIt is a blessing to wake up in America. It is a blessing to be an American. It is a blessing to be f… https://t.co/v7Khekt0y3', 1326895665419579395: 'Latest developments from @HolyNameMedCtr   CMO Dr Adam Jarrett.  1) Recent spike of covid patients linked to Hallow… https://t.co/SrlvxuTB3j', 1326871083220430853: 'This is reckless journalism. News orgs need to stop participating in the rehabilitation of racists and covid denier… https://t.co/qi7hXuF7QK', 1326895666069725184: 'This is why voting ..by text..is safer @GOPLeader republicans should honor the advice of doctors &amp; scientists if on… https://t.co/t0qhvSsYQq', 1326891257076002816: 'Covid Patient Told To Go Throw Himself On Body Pile Until Hospital Bed Freed Up https://t.co/R5G7pWHCvP https://t.co/lXvKTtEzlx', 1326895666438811651: '@7334brightlight @Keepitrealtj @KillAuDeepState @WarTimeGirl The Great Reset is basically about how to recover the… https://t.co/Rc6OiyWy07', 1326437806533537794: 'WTH! More Than 10,000 Dead People have returned their mail-in-ballots to vote in Michigan, according to an analysis… https://t.co/XdeXFXOJ2n', 1326859205807140866: 'COVID lulled too many to sleep and if Biden is installed - not elected - as President, he will implement a 4-6 week… https://t.co/zNTau2pzrb', 1326868965587496966: 'When COVID played basketball in all our lives, few believed that this lovely little tour shall see the light of day… https://t.co/n52f9nzsx4', 1326895666963083267: 'nOt To sOuNd AnTiVaX pErO...', 1326893496502906887: 'Mobile Suit Gundam Hathaway Part 1 movie will now be coming out May 7, 2021.\\n\\nThe film was originally delayed due t… https://t.co/8lSPapMNdD', 1325840659287334917: 'A child passed away bc they kept schools open. 0 media coverage and this happened 6 days ago. This government is ev… https://t.co/InhmhQccXn', 1326889071231307782: 'You may remember reading about the claim brought by @CarolineLucas, @Debbie_abrahams and @LaylaMoran about the Gove… https://t.co/xeg6udKwes', 1326895667550318597: 'This country is ridiculous', 1326892107123060736: '‘A HUGE BLOW’: NY Restaurant Group Rip Cuomo’s CoVID Crackdown, Says ‘Huge Blow’ to Business https://t.co/GX6RwsyEJ2', 1326888562126680066: 'Joe Biden is talking about shutting down the ENTIRE Country for SIX WEEKS due to 😱COVID😱\\n\\nSo if Joe Biden were to w… https://t.co/m0kaBducUU', 1326831574336167936: 'COVID is being used as the vehicle to transform humanity\\n\\nAccelerating UN Agenda 21\\n\\nInto a new system of slavery w… https://t.co/hCKjL8pUTP', 1326895667902623745: '.@wtov9: COVID Czar: West Virginia sets record for positive #COVID19 tests:  https://t.co/wuQMwM6IAn', 1326778404990021632: '4/ Of course, we did those in the past, but run for office and street rally should not be the two only way of demon… https://t.co/Lq5eqwSGLb', 1326853938117705728: 'Was at my Doctor yesterday\\n\\nHe asked me if I wanted a FLU SHOT ???\\n\\nI ANSWERED WHY, I HEAR ZERO REPORTS ON THE FLU… https://t.co/U9dS6fuDpz', 1326782048640651265: 'How grocery stores are preparing for the next wave of Covid-19 panic buying. https://t.co/oVBZl45eq4 - @TODAYshow', 1326895668212985857: '@thehill not sen kelly \"covid insider trading\" loeffler!', 1326893979552636929: 'If these fuckers touch our savings, it’ll be time for a Million AR March on DC.', 1326895668179460096: '@realDonaldTrump @SenJohnKennedy @MariaBartiromo @TheJusticeDept It’s now time Dr.Fauci has his own news conference… https://t.co/uK5TaJGHNY', 1326895668582100994: 'This is the first year that I have to cancel our family trip on winter vacation to Europe because of Covid....😟\\n\\nOt… https://t.co/iNNpElWHRx', 1326889837769740289: 'COVID-19 immunity may last six months or more @JExpMed @nature https://t.co/NVOXdHqprP', 1326895668795904000: \"@politicalmath We're entering the part of the year where the flu epi curve really starts to take off. I expect a su… https://t.co/HbAyjyYle3\", 1326893420921675778: 'Fundamental rule of war is to identify enemy.\\n\\nOur country is at war with Communist China. A war of good v. evil.… https://t.co/jlacXTpSgO', 1326895669349638146: \"@realDonaldTrump Covid, Covid, Covid! That's why you lost. If you had fought the disease 1/10th as hard as you're f… https://t.co/crf55IIy1a\", 1326759740181983233: 'Hi, I got a COVID test here on Monday and this is what the line looked like then. It took me less than 20 minutes f… https://t.co/A3APwX3ZNQ', 1326857848253534208: 'A snivelling incontinent tweet from someone who understands neither science, nor statistics.', 1326752706917101568: 'from taal, covid, lockdown, quarantine, political dispute and karon multiple typhoon is racking our nation. Grabe 2… https://t.co/xJvL77z2wl', 1326895669873926147: \"if the stress of trying to continue to hold onto his power makes tr*mp's covid symptoms come back that will be the funniest shit ever\"}\n",
      "Total time to create the index: 0.0 seconds\n"
     ]
    }
   ],
   "source": [
    "start_time = time.time()\n",
    "index, titleIndex = create_index(cleanTweets)\n",
    "print(index)\n",
    "print(titleIndex)\n",
    "print(\"Total time to create the index: {} seconds\" .format(np.round(time.time() - start_time,2)))"
   ]
  },
  {
   "cell_type": "markdown",
   "metadata": {
    "id": "xyd2WyJOTAQY"
   },
   "source": [
    "Notice that if you look in the index for ```researcher```you will not find any result, while if you look for ```research``` you will get some results. That happens because we are storing in the index stemmed terms."
   ]
  },
  {
   "cell_type": "code",
   "execution_count": 13,
   "metadata": {
    "colab": {
     "base_uri": "https://localhost:8080/",
     "height": 105
    },
    "executionInfo": {
     "elapsed": 846,
     "status": "ok",
     "timestamp": 1603473583036,
     "user": {
      "displayName": "RAMON VALLÉS",
      "photoUrl": "",
      "userId": "05301961646047881826"
     },
     "user_tz": -120
    },
    "id": "mZuV9k_ATAQZ",
    "outputId": "93d2bb77-8ca6-4d9d-acab-b5896f5aad53"
   },
   "outputs": [
    {
     "name": "stdout",
     "output_type": "stream",
     "text": [
      "Index results for the term 'researcher': []\n",
      "\n",
      "First 10 Index results for the term 'research': \n",
      "[[33, array('I', [76])], [104, array('I', [633])], [131, array('I', [1257])], [139, array('I', [84])], [183, array('I', [979, 1111, 1302, 1411])], [189, array('I', [335, 362])], [203, array('I', [269])], [214, array('I', [44])], [268, array('I', [659])], [289, array('I', [623, 751, 774])]]\n"
     ]
    }
   ],
   "source": [
    "print(\"Index results for the term 'researcher': {}\\n\".format(index['researcher']))\n",
    "print(\"First 10 Index results for the term 'research': \\n{}\".format(index['research'][:10]))"
   ]
  },
  {
   "cell_type": "markdown",
   "metadata": {
    "id": "atoTwD8uTAQc"
   },
   "source": [
    "### Querying the Index\n",
    "\n",
    "Even if before we mentioned that in case of phrase queries we need to take into account the position of the terms in the document and we have implemented an index that would allow us to also work with this type of queries, here you are going to implement a search function that will query the index without take into account the trems' positions.\n",
    "\n",
    "\n",
    "We will use english Free Text Queries, that means that the query we will query the index using  a sequence of english words as query, and the output will be the list of documents that contain any of the query terms. \n",
    "\n",
    "For instance if we write the query **\"computer science\"** the output will be the union of all documents containing the term \"computer\" with all documents containing the term \"science\"."
   ]
  },
  {
   "cell_type": "code",
   "execution_count": 14,
   "metadata": {
    "executionInfo": {
     "elapsed": 610,
     "status": "ok",
     "timestamp": 1603474126566,
     "user": {
      "displayName": "RAMON VALLÉS",
      "photoUrl": "",
      "userId": "05301961646047881826"
     },
     "user_tz": -120
    },
    "id": "HgJ-tjraTAQc"
   },
   "outputs": [],
   "source": [
    "def search(query, index):\n",
    "    '''\n",
    "    The output is the list of documents that contain any of the query terms. \n",
    "    So, we will get the list of documents for each query term, and take the union of them.\n",
    "    '''\n",
    "    query=getTerms(query)\n",
    "    docs=set()\n",
    "    for term in query:\n",
    "    ## START DODE\n",
    "        try:\n",
    "            # store in termDocs the ids of the docs that contain \"term\"                        \n",
    "            termDocs=[posting[0] for posting in index[term]]\n",
    "            # docs = docs Union termDocs\n",
    "            docs = docs.union(terDocs)\n",
    "        except:\n",
    "            #term is not in index\n",
    "            pass\n",
    "    docs=list(docs)\n",
    "    return docs"
   ]
  },
  {
   "cell_type": "code",
   "execution_count": 15,
   "metadata": {
    "colab": {
     "base_uri": "https://localhost:8080/",
     "height": 136
    },
    "executionInfo": {
     "elapsed": 9085,
     "status": "ok",
     "timestamp": 1603474152854,
     "user": {
      "displayName": "RAMON VALLÉS",
      "photoUrl": "",
      "userId": "05301961646047881826"
     },
     "user_tz": -120
    },
    "id": "TZ9WpXCLTAQf",
    "outputId": "62304f17-8569-491c-f185-a168289814df"
   },
   "outputs": [
    {
     "name": "stdout",
     "output_type": "stream",
     "text": [
      "Insert your query:\n",
      "\n",
      "word\n",
      "\n",
      "======================\n",
      "Sample of 10 results out of 0 for the seached query:\n",
      "\n"
     ]
    }
   ],
   "source": [
    "print(\"Insert your query:\\n\")\n",
    "query = input()\n",
    "docs = search(query, index)    \n",
    "top = 10\n",
    "\n",
    "print(\"\\n======================\\nSample of {} results out of {} for the seached query:\\n\".format(top, len(docs)))\n",
    "for d_id in docs[:top] :\n",
    "    print(\"page_id= {} - page_title: {}\".format(d_id, titleIndex[d_id]))"
   ]
  },
  {
   "cell_type": "markdown",
   "metadata": {
    "id": "YstiN7_ETAQi"
   },
   "source": [
    "Results for ```Computer Science``` query\n",
    "\n",
    "======================\n",
    "Sample of 10 results out of 345 for the seached query:\n",
    "\n",
    "- page_id= 1029 - page_title: Adjoint state method\n",
    "- page_id= 2059 - page_title: Apache Cassandra\n",
    "- page_id= 1036 - page_title: Adminer\n",
    "- page_id= 3089 - page_title: BCSWomen\n",
    "- page_id= 1043 - page_title: Admissible heuristic\n",
    "- page_id= 1046 - page_title: Admon\n",
    "- page_id= 26 - page_title: 12th Computer Olympiad\n",
    "- page_id= 3103 - page_title: BESM\n",
    "- page_id= 33 - page_title: 18 bit\n",
    "- page_id= 1059 - page_title: Adobe Flash"
   ]
  },
  {
   "cell_type": "markdown",
   "metadata": {
    "id": "AMUIrY9bTAQi"
   },
   "source": [
    "### Ranking tf-idf\n",
    "\n",
    "When searching in a search engine, we are interested in obtain the results sorted by relevance or by some other criteria. Notice that **the above results are not ranked**.\n",
    "\n",
    "Here you are going to implement **tf-idf (Term Frequency — Inverse Document Frequency)** and use it to obtain a list of ordered results.\n",
    "\n",
    "Tf-idf is a weighting scheme that assigns each term in a document a weight based on its term frequency (tf) and inverse document frequency (idf).  The higher the scores, more important the term is. \n",
    "\n",
    "##### TF\n",
    "**tf** refers to the frequency of a term $t$ in a specific document $d$. The basic idea is that as a term appears more in the document it becomes more important. On the other side, if we only use pure term counts, longer documents will be favored more. Consider two documents with exactly the same content but one being twice longer by concatenating with itself.  The tf weights of each word in the longer document will be twice the shorter one, although they essentially have the same content. To deal with this issue we need to **normalize the term frequencies**.\n",
    "\n",
    "$$tf_{t,d} = \\dfrac{N_{t,d}}{||D||}\\tag{1}$$\n",
    "\n",
    "\n",
    "\n",
    "where ||D|| is the Euclidean norm. \n",
    "\n",
    "\n",
    "Let $D=[t_1, t_2, \\dots, t_n]$ be the document vector where $t_i$ represent the frequency of the term $i$, the  Euclidean Norm is calculated as\n",
    "\n",
    "$$\\sqrt{\\sum_{t=1}^{n}t_i{^2}}\\tag{2}$$\n",
    "\n",
    "Note that $||D||$ is the same for all terms of a document.\n",
    "\n",
    "\n",
    "##### IDF\n",
    "A drawback of tf is that it considers all terms equally important. However, less common terms are more discriminative than others. To deal with this issue we introduce **idf (inverse document frequency)** that takes into account the number of documents containing the term.\n",
    "\n",
    "$$idf_t = log\\dfrac{N}{df_t}\\tag{3}$$\n",
    "\n",
    "where:\n",
    "\n",
    "- $N$ is the total number of documents;\n",
    "- $df_t$ is the number of ocuments containing the term $t$.\n",
    "\n",
    "The log operation is applied to avoid that terms that appears in a high number of documents are considered to be too much less important, in this way we are smoothing (dampening) this difference.\n"
   ]
  },
  {
   "cell_type": "code",
   "execution_count": 26,
   "metadata": {
    "executionInfo": {
     "elapsed": 560,
     "status": "ok",
     "timestamp": 1603477067467,
     "user": {
      "displayName": "RAMON VALLÉS",
      "photoUrl": "",
      "userId": "05301961646047881826"
     },
     "user_tz": -120
    },
    "id": "FMjGU0ZbTAQj"
   },
   "outputs": [],
   "source": [
    "def create_index_tfidf(lines, numDocuments):\n",
    "    \"\"\"\n",
    "    Implement the inverted index and compute tf, df and idf\n",
    "    \n",
    "    Argument:\n",
    "    lines -- collection of Wikipedia articles\n",
    "    numDocuments -- total number of documents\n",
    "    \n",
    "    Returns:\n",
    "    index - the inverted index (implemented through a python dictionary) containing terms as keys and the corresponding \n",
    "    list of document these keys appears in (and the positions) as values.\n",
    "    tf - normalized term frequency for each term in each document\n",
    "    df - number of documents each term appear in\n",
    "    idf - inverse document frequency of each term\n",
    "    \"\"\"\n",
    "        \n",
    "    index=defaultdict(list)\n",
    "    tf=defaultdict(list) #term frequencies of terms in documents (documents in the same order as in the main index)\n",
    "    df=defaultdict(int)         #document frequencies of terms in the corpus\n",
    "    titleIndex=defaultdict(str)\n",
    "    idf=defaultdict(float)\n",
    "    \n",
    "    for line in lines:\n",
    "        line_arr = line.split(\"|\")\n",
    "        page_id = int(line_arr[0] )        \n",
    "        terms = getTerms(''.join(line_arr[1:])) #page_title + page_text\n",
    "        title = line_arr[1]            \n",
    "        titleIndex[page_id]=title          \n",
    "        \n",
    "        ## ===============================================================        \n",
    "        ## create the index for the **current page** and store it in termdictPage\n",
    "        ## termdictPage ==> { ‘term1’: [currentdoc, [list of positions]], ...,‘termn’: [currentdoc, [list of positions]]}\n",
    "        \n",
    "        ## Example: if the curr_doc has id 1 and his text is \n",
    "        ## \"web retrieval information retrieval\":\n",
    "        \n",
    "        ## termdictPage ==> { ‘web’: [1, [0]], ‘retrieval’: [1, [1,4]], ‘information’: [1, [2]]}\n",
    "        \n",
    "        ## the term ‘web’ appears in document 1 in positions 0, \n",
    "        ## the term ‘retrieval’ appears in document 1 in positions 1 and 4\n",
    "        ## ===============================================================\n",
    "\n",
    "        termdictPage={}\n",
    "\n",
    "        for position, term in enumerate(terms): ## terms contains page_title + page_text\n",
    "            try:\n",
    "                # if the term is already in the dict append the position to the corrisponding list\n",
    "                termdictPage[term][page_id].append(position) \n",
    "            except:\n",
    "                # Add the new term as dict key and initialize the array of positions and add the position\n",
    "                termdictPage[term]=[page_id, array('I',[position])] #'I' indicates unsigned int (int in python)\n",
    "        \n",
    "        #normalize term frequencies\n",
    "        # Compute the denominator to normalize term frequencies (formula 2 above)\n",
    "        # norm is the same for all terms of a document.\n",
    "        norm=0\n",
    "        for term, posting in termdictPage.items(): \n",
    "            # posting is a list containing doc_id and the list of positions for current term in current document: \n",
    "            # posting ==> [currentdoc, [list of positions]] \n",
    "            # you can use it to inferr the frequency of current term.\n",
    "            norm+=len(posting[1])**2\n",
    "        norm=math.sqrt(norm)\n",
    "\n",
    "\n",
    "        #calculate the tf(dividing the term frequency by the above computed norm) and df weights\n",
    "        for term, posting in termdictPage.items():     \n",
    "            # append the tf for current term (tf = term frequency in current doc/norm)\n",
    "            tf[term].append(np.round(len(posting[1])/norm,4))  ## SEE formula (1) above\n",
    "            #increment the document frequency of current term (number of documents containing the current term)\n",
    "            df[term]= len(termdictPage[term])  # increment df for current term\n",
    "        \n",
    "        #merge the current page index with the main index\n",
    "        for termpage, postingpage in termdictPage.items():\n",
    "            index[termpage].append(postingpage)\n",
    "            \n",
    "        # Compute idf following the formula (3) above. HINT: use np.log\n",
    "        for term in df:\n",
    "            idf[term] = np.round(np.log(float(numDocuments/df[term])),4)\n",
    "            \n",
    "    return index, tf, df, idf, titleIndex\n"
   ]
  },
  {
   "cell_type": "code",
   "execution_count": 27,
   "metadata": {
    "colab": {
     "base_uri": "https://localhost:8080/",
     "height": 34
    },
    "executionInfo": {
     "elapsed": 84674,
     "status": "ok",
     "timestamp": 1603477153237,
     "user": {
      "displayName": "RAMON VALLÉS",
      "photoUrl": "",
      "userId": "05301961646047881826"
     },
     "user_tz": -120
    },
    "id": "Mvl-m4H-TAQl",
    "outputId": "11c2673f-463b-42e0-9826-9c43a9af576b"
   },
   "outputs": [
    {
     "name": "stdout",
     "output_type": "stream",
     "text": [
      "Total time to create the index: 84.12 seconds\n"
     ]
    }
   ],
   "source": [
    "start_time = time.time()\n",
    "numDocuments = len(lines)\n",
    "index, tf, df, idf, titleIndex = create_index_tfidf(lines, numDocuments)\n",
    "print(\"Total time to create the index: {} seconds\" .format(np.round(time.time() - start_time,2)))"
   ]
  },
  {
   "cell_type": "code",
   "execution_count": 28,
   "metadata": {
    "executionInfo": {
     "elapsed": 82645,
     "status": "ok",
     "timestamp": 1603477153238,
     "user": {
      "displayName": "RAMON VALLÉS",
      "photoUrl": "",
      "userId": "05301961646047881826"
     },
     "user_tz": -120
    },
    "id": "2pir0XHJTAQp"
   },
   "outputs": [],
   "source": [
    "\n",
    "def rankDocuments(terms, docs, index, idf, tf, titleIndex):\n",
    "    \"\"\"\n",
    "    Perform the ranking of the results of a search based on the tf-idf weights\n",
    "    \n",
    "    Argument:\n",
    "    terms -- list of query terms\n",
    "    docs -- list of documents, to rank, matching the query\n",
    "    index -- inverted index data structure\n",
    "    idf -- inverted document frequencies\n",
    "    tf -- term frequencies\n",
    "    titleIndex -- mapping between page id and page title\n",
    "    \n",
    "    Returns:\n",
    "    Print the list of ranked documents\n",
    "    \"\"\"\n",
    "        \n",
    "    # I'm interested only on the element of the docVector corresponding to the query terms \n",
    "    # The remaing elements would became 0 when multiplied to the queryVector\n",
    "    docVectors=defaultdict(lambda: [0]*len(terms)) # I call docVectors[k] for a nonexistent key k, the key-value pair (k,[0]*len(terms)) will be automatically added to the dictionary\n",
    "    queryVector=[0]*len(terms)    \n",
    "\n",
    "    # compute the norm for the query tf\n",
    "    query_terms_count = collections.Counter(terms) # get the frequency of each term in the query. \n",
    "    # Example: collections.Counter([\"hello\",\"hello\",\"world\"]) --> Counter({'hello': 2, 'world': 1})\n",
    "    # HINT: use when computing tf for queryVector\n",
    "    \n",
    "    query_norm = la.norm(list(query_terms_count.values()))\n",
    "    \n",
    "    for termIndex, term in enumerate(terms): #termIndex is the index of the term in the query\n",
    "        if term not in index:\n",
    "            continue\n",
    "                    \n",
    "        ## Compute tf*idf(normalize tf as done with documents)\n",
    "        queryVector[termIndex]=query_terms_count[term]/query_norm * idf[term] \n",
    "\n",
    "        # Generate docVectors for matching docs\n",
    "        for docIndex, (doc, postings) in enumerate(index[term]):\n",
    "            # Example of [docIndex, (doc, postings)]\n",
    "            # 0 (26, array('I', [1, 4, 12, 15, 22, 28, 32, 43, 51, 68, 333, 337]))\n",
    "            # 1 (33, array('I', [26, 33, 57, 71, 87, 104, 109]))\n",
    "            # term is in doc 26 in positions 1,4, .....\n",
    "            # term is in doc 33 in positions 26,33, .....\n",
    "            \n",
    "            #tf[term][0] will contain the tf of the term \"term\" in the doc 26            \n",
    "            if doc in docs:\n",
    "                docVectors[doc][termIndex]=tf[term][docIndex] * idf[term]  # TODO: check if multiply for idf\n",
    "\n",
    "    # calculate the score of each doc\n",
    "    # compute the cosine similarity between queyVector and each docVector:\n",
    "    # HINT: you can use the dot product because in case of normalized vectors it corresponds to the cosine siilarity\n",
    "    # see np.dot\n",
    "    \n",
    "    docScores=[ [\"\"\"YOUR CODE HERE\"\"\"(curDocVec, queryVector), doc] for doc, curDocVec in docVectors.items() ]\n",
    "    docScores.sort(reverse=True)\n",
    "    resultDocs=[x[1] for x in docScores]\n",
    "    #print document titles instead if document id's\n",
    "    #resultDocs=[ titleIndex[x] for x in resultDocs ]\n",
    "    if len(resultDocs) == 0:\n",
    "        print(\"No results found, try again\")\n",
    "        query = input()\n",
    "        docs = search_tf_idf(query, index)    \n",
    "    #print ('\\n'.join(resultDocs), '\\n')\n",
    "    return resultDocs"
   ]
  },
  {
   "cell_type": "code",
   "execution_count": 29,
   "metadata": {
    "executionInfo": {
     "elapsed": 80771,
     "status": "ok",
     "timestamp": 1603477153238,
     "user": {
      "displayName": "RAMON VALLÉS",
      "photoUrl": "",
      "userId": "05301961646047881826"
     },
     "user_tz": -120
    },
    "id": "CLdEEhT1TAQr"
   },
   "outputs": [],
   "source": [
    "def search_tf_idf(query, index):\n",
    "    '''\n",
    "    output is the list of documents that contain any of the query terms. \n",
    "    So, we will get the list of documents for each query term, and take the union of them.\n",
    "    '''\n",
    "    query=getTerms(query)\n",
    "    docs=set()\n",
    "    for term in query:\n",
    "        try:\n",
    "            # store in termDocs the ids of the docs that contain \"term\"                        \n",
    "            termDocs=[posting[0] for posting in index[term]]\n",
    "            \n",
    "            # docs = docs Union termDocs\n",
    "            docs = docs.union(termDocs)\n",
    "        except:\n",
    "            #term is not in index\n",
    "            pass\n",
    "    docs=list(docs)\n",
    "    ranked_docs = rankDocuments(query, docs, index, idf, tf, titleIndex)   \n",
    "    return ranked_docs"
   ]
  },
  {
   "cell_type": "code",
   "execution_count": null,
   "metadata": {
    "id": "EpTgX-pTTAQu"
   },
   "outputs": [],
   "source": [
    "print(\"Insert your query:\\n\")\n",
    "query = input()\n",
    "ranked_docs = search_tf_idf(query, index)    \n",
    "top = 10\n",
    "\n",
    "print(\"\\n======================\\nTop {} results out of {} for the seached query:\\n\".format(top, len(ranked_docs)))\n",
    "for d_id in ranked_docs[:top] :\n",
    "    print(\"page_id= {} - page_title: {}\".format(d_id, titleIndex[d_id]))"
   ]
  },
  {
   "cell_type": "code",
   "execution_count": null,
   "metadata": {
    "id": "8FLR89baTAQw"
   },
   "outputs": [],
   "source": []
  }
 ],
 "metadata": {
  "colab": {
   "name": "Model_Tf_IDF_Index_stud.ipynb",
   "provenance": []
  },
  "kernelspec": {
   "display_name": "Python 3",
   "language": "python",
   "name": "python3"
  },
  "language_info": {
   "codemirror_mode": {
    "name": "ipython",
    "version": 3
   },
   "file_extension": ".py",
   "mimetype": "text/x-python",
   "name": "python",
   "nbconvert_exporter": "python",
   "pygments_lexer": "ipython3",
   "version": "3.8.5"
  }
 },
 "nbformat": 4,
 "nbformat_minor": 1
}
